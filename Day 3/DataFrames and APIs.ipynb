{
 "cells": [
  {
   "cell_type": "markdown",
   "id": "80b2f999",
   "metadata": {},
   "source": [
    "# Obtaining structured web content and programmatic access\n",
    "\n",
    "In this notebook we will learn how to make use of readily structured data through dedicated application programming interfaces (APIs), how to authenticate and how to properly design requests (also called \"payload\") in order to retrieve large datasets.\n",
    "\n",
    "**Advantages** of APIs are that\n",
    "- access is legal and in most cases clearly and transparently regulated (e.g. 10,000 calls per day)\n",
    "- structuring through `requests` and `BeautifulSoup` not required\n",
    "- Python packages that simplify server-client interaction are available\n",
    "\n",
    "**Disadvantages** of APIs are that\n",
    "- we have to learn how APIs work and how we should interact with them (each API has some peculiarities and documentation is usually good, but sometimes not so...)\n",
    "- authentification may be required and access may not be free of charge \n",
    "\n",
    "We will\n",
    "- obtain data of a public statistical office such as the IMF or World Bank through the `pandas-datareader`\n",
    "- directly obtain a (ranking) table from a website such the [World Cube Association](https://www.worldcubeassociation.org/results/rankings/333/single)\n",
    "- learn how to use the Destatis/GENESIS Online service and API\n",
    "- learn how to use the Twitter API (in particular [Tweepy](https://www.tweepy.org/), a Python library for the Twitter API) and retrieve Tweets with GeoTags (i.e. coordinates) subject to specified geography and search terms\n",
    "- conduct some small analyses and visualise the results appropriately"
   ]
  },
  {
   "cell_type": "code",
   "execution_count": 1,
   "id": "b3887aa8",
   "metadata": {},
   "outputs": [],
   "source": [
    "import pandas as pd"
   ]
  },
  {
   "cell_type": "code",
   "execution_count": 2,
   "id": "1ada2bc4",
   "metadata": {},
   "outputs": [
    {
     "name": "stdout",
     "output_type": "stream",
     "text": [
      "Collecting pandas-datareader\n",
      "  Using cached pandas_datareader-0.9.0-py3-none-any.whl (107 kB)\n",
      "Collecting lxml\n",
      "  Downloading lxml-4.6.3-cp38-cp38-win_amd64.whl (3.5 MB)\n",
      "Requirement already satisfied: pandas>=0.23 in c:\\programdata\\anaconda3\\envs\\webscraping-course-apr21\\lib\\site-packages (from pandas-datareader) (1.2.4)\n",
      "Requirement already satisfied: requests>=2.19.0 in c:\\programdata\\anaconda3\\envs\\webscraping-course-apr21\\lib\\site-packages (from pandas-datareader) (2.25.1)\n",
      "Requirement already satisfied: numpy>=1.16.5 in c:\\programdata\\anaconda3\\envs\\webscraping-course-apr21\\lib\\site-packages (from pandas>=0.23->pandas-datareader) (1.20.2)\n",
      "Requirement already satisfied: python-dateutil>=2.7.3 in c:\\programdata\\anaconda3\\envs\\webscraping-course-apr21\\lib\\site-packages (from pandas>=0.23->pandas-datareader) (2.8.1)\n",
      "Requirement already satisfied: pytz>=2017.3 in c:\\programdata\\anaconda3\\envs\\webscraping-course-apr21\\lib\\site-packages (from pandas>=0.23->pandas-datareader) (2021.1)\n",
      "Requirement already satisfied: six>=1.5 in c:\\programdata\\anaconda3\\envs\\webscraping-course-apr21\\lib\\site-packages (from python-dateutil>=2.7.3->pandas>=0.23->pandas-datareader) (1.15.0)\n",
      "Requirement already satisfied: certifi>=2017.4.17 in c:\\programdata\\anaconda3\\envs\\webscraping-course-apr21\\lib\\site-packages (from requests>=2.19.0->pandas-datareader) (2020.12.5)\n",
      "Requirement already satisfied: chardet<5,>=3.0.2 in c:\\programdata\\anaconda3\\envs\\webscraping-course-apr21\\lib\\site-packages (from requests>=2.19.0->pandas-datareader) (4.0.0)\n",
      "Requirement already satisfied: idna<3,>=2.5 in c:\\programdata\\anaconda3\\envs\\webscraping-course-apr21\\lib\\site-packages (from requests>=2.19.0->pandas-datareader) (2.10)\n",
      "Requirement already satisfied: urllib3<1.27,>=1.21.1 in c:\\programdata\\anaconda3\\envs\\webscraping-course-apr21\\lib\\site-packages (from requests>=2.19.0->pandas-datareader) (1.26.4)\n",
      "Installing collected packages: lxml, pandas-datareader\n",
      "Successfully installed lxml-4.6.3 pandas-datareader-0.9.0\n"
     ]
    }
   ],
   "source": [
    "!pip install pandas-datareader --upgrade"
   ]
  },
  {
   "cell_type": "code",
   "execution_count": 3,
   "id": "168de0c2",
   "metadata": {},
   "outputs": [
    {
     "name": "stdout",
     "output_type": "stream",
     "text": [
      "<class 'pandas.core.frame.DataFrame'>\n",
      "MultiIndex: 60 entries, ('Germany', '2019') to ('Italy', '2000')\n",
      "Data columns (total 1 columns):\n",
      " #   Column          Non-Null Count  Dtype  \n",
      "---  ------          --------------  -----  \n",
      " 0   NY.GDP.MKTP.CD  60 non-null     float64\n",
      "dtypes: float64(1)\n",
      "memory usage: 1.5+ KB\n",
      "<class 'pandas.core.frame.DataFrame'>\n",
      "RangeIndex: 60 entries, 0 to 59\n",
      "Data columns (total 3 columns):\n",
      " #   Column          Non-Null Count  Dtype  \n",
      "---  ------          --------------  -----  \n",
      " 0   country         60 non-null     object \n",
      " 1   year            60 non-null     object \n",
      " 2   NY.GDP.MKTP.CD  60 non-null     float64\n",
      "dtypes: float64(1), object(2)\n",
      "memory usage: 1.5+ KB\n"
     ]
    }
   ],
   "source": [
    "from pandas_datareader import wb # imports world bank access\n",
    "search = wb.search('GDP.*current.*US') # search for keyword\n",
    "search\n",
    "df = wb.download(indicator = 'NY.GDP.MKTP.CD', country = ['DE', 'FR', 'IT'],\n",
    "                start = 2000, end = 2019)\n",
    "df.info()\n",
    "df.groupby('country').describe()\n",
    "df2 = df.reset_index()\n",
    "df2.info()"
   ]
  },
  {
   "cell_type": "code",
   "execution_count": 4,
   "id": "745cdbe5",
   "metadata": {},
   "outputs": [
    {
     "name": "stdout",
     "output_type": "stream",
     "text": [
      "<class 'pandas.core.frame.DataFrame'>\n",
      "RangeIndex: 60 entries, 0 to 59\n",
      "Data columns (total 3 columns):\n",
      " #   Column   Non-Null Count  Dtype  \n",
      "---  ------   --------------  -----  \n",
      " 0   country  60 non-null     object \n",
      " 1   year     60 non-null     int32  \n",
      " 2   gdp      60 non-null     float64\n",
      "dtypes: float64(1), int32(1), object(1)\n",
      "memory usage: 1.3+ KB\n"
     ]
    }
   ],
   "source": [
    "df2.columns = ['country', 'year', 'gdp'] # rename columns\n",
    "df2.year = df2.year.astype(int) # numeric annual indicator\n",
    "df2.info()"
   ]
  },
  {
   "cell_type": "code",
   "execution_count": 8,
   "id": "e9c33b2d",
   "metadata": {},
   "outputs": [
    {
     "name": "stdout",
     "output_type": "stream",
     "text": [
      "Collecting matplotlib\n",
      "  Downloading matplotlib-3.4.1-cp38-cp38-win_amd64.whl (7.1 MB)\n",
      "Requirement already satisfied: python-dateutil>=2.7 in c:\\programdata\\anaconda3\\envs\\webscraping-course-apr21\\lib\\site-packages (from matplotlib) (2.8.1)\n",
      "Requirement already satisfied: pyparsing>=2.2.1 in c:\\programdata\\anaconda3\\envs\\webscraping-course-apr21\\lib\\site-packages (from matplotlib) (2.4.7)\n",
      "Collecting kiwisolver>=1.0.1\n",
      "  Downloading kiwisolver-1.3.1-cp38-cp38-win_amd64.whl (51 kB)\n",
      "Collecting cycler>=0.10\n",
      "  Downloading cycler-0.10.0-py2.py3-none-any.whl (6.5 kB)\n",
      "Requirement already satisfied: numpy>=1.16 in c:\\programdata\\anaconda3\\envs\\webscraping-course-apr21\\lib\\site-packages (from matplotlib) (1.20.2)\n",
      "Collecting pillow>=6.2.0\n",
      "  Downloading Pillow-8.2.0-cp38-cp38-win_amd64.whl (2.2 MB)\n",
      "Requirement already satisfied: six in c:\\programdata\\anaconda3\\envs\\webscraping-course-apr21\\lib\\site-packages (from cycler>=0.10->matplotlib) (1.15.0)\n",
      "Installing collected packages: pillow, kiwisolver, cycler, matplotlib\n",
      "Successfully installed cycler-0.10.0 kiwisolver-1.3.1 matplotlib-3.4.1 pillow-8.2.0\n"
     ]
    }
   ],
   "source": [
    "! pip install matplotlib"
   ]
  },
  {
   "cell_type": "code",
   "execution_count": 9,
   "id": "c7cf9b99",
   "metadata": {},
   "outputs": [
    {
     "data": {
      "image/png": "[encoded data removed]",
      "text/plain": [
       "<Figure size 432x288 with 1 Axes>"
      ]
     },
     "metadata": {
      "needs_background": "light"
     },
     "output_type": "display_data"
    }
   ],
   "source": [
    "import matplotlib.pyplot as plt\n",
    "import datetime\n",
    "for country in df2['country'].unique():\n",
    "    plt.plot(df2[df2['country'] == country]['year'], df2[df2['country'] == country]['gdp'], label = country)\n",
    "    plt.xlabel('Year')\n",
    "    plt.ylabel('Nominal GDP (in US$)')\n",
    "    plt.title('This is a so-so graph...')"
   ]
  },
  {
   "cell_type": "code",
   "execution_count": 6,
   "id": "4c4e4736",
   "metadata": {},
   "outputs": [
    {
     "name": "stdout",
     "output_type": "stream",
     "text": [
      "Collecting plotly\n",
      "  Downloading plotly-4.14.3-py2.py3-none-any.whl (13.2 MB)\n",
      "Requirement already satisfied: six in c:\\programdata\\anaconda3\\envs\\webscraping-course-apr21\\lib\\site-packages (from plotly) (1.15.0)\n",
      "Collecting retrying>=1.3.3\n",
      "  Downloading retrying-1.3.3.tar.gz (10 kB)\n",
      "Building wheels for collected packages: retrying\n",
      "  Building wheel for retrying (setup.py): started\n",
      "  Building wheel for retrying (setup.py): finished with status 'done'\n",
      "  Created wheel for retrying: filename=retrying-1.3.3-py3-none-any.whl size=11429 sha256=a9467daaf2ec816aa02bd156ad40fc50999b820ca5c9f1b3a81c7814d322be85\n",
      "  Stored in directory: c:\\users\\caroline2\\appdata\\local\\pip\\cache\\wheels\\c4\\a7\\48\\0a434133f6d56e878ca511c0e6c38326907c0792f67b476e56\n",
      "Successfully built retrying\n",
      "Installing collected packages: retrying, plotly\n",
      "Successfully installed plotly-4.14.3 retrying-1.3.3\n"
     ]
    }
   ],
   "source": [
    "! pip install plotly"
   ]
  },
  {
   "cell_type": "code",
   "execution_count": 7,
   "id": "384fc7f2",
   "metadata": {},
   "outputs": [
    {
     "data": {
      "text/html": [
       "        <script type=\"text/javascript\">\n",
       "        window.PlotlyConfig = {MathJaxConfig: 'local'};\n",
       "        if (window.MathJax) {MathJax.Hub.Config({SVG: {font: \"STIX-Web\"}});}\n",
       "        if (typeof require !== 'undefined') {\n",
       "        require.undef(\"plotly\");\n",
       "        requirejs.config({\n",
       "            paths: {\n",
       "                'plotly': ['https://cdn.plot.ly/plotly-latest.min']\n",
       "            }\n",
       "        });\n",
       "        require(['plotly'], function(Plotly) {\n",
       "            window._Plotly = Plotly;\n",
       "        });\n",
       "        }\n",
       "        </script>\n",
       "        "
      ]
     },
     "metadata": {},
     "output_type": "display_data"
    }
   ],
   "source": [
    "import plotly.graph_objs as go\n",
    "import plotly.figure_factory as ff\n",
    "from plotly.offline import download_plotlyjs, init_notebook_mode, plot, iplot\n",
    "init_notebook_mode(connected=True)"
   ]
  },
  {
   "cell_type": "code",
   "execution_count": 10,
   "id": "1ca64ddb",
   "metadata": {},
   "outputs": [
    {
     "data": {
      "application/vnd.plotly.v1+json": {
       "config": {
        "linkText": "Export to plot.ly",
        "plotlyServerURL": "https://plot.ly",
        "showLink": false
       },
       "data": [
        {
         "name": "Germany",
         "type": "scatter",
         "x": [
          2019,
          2018,
          2017,
          2016,
          2015,
          2014,
          2013,
          2012,
          2011,
          2010,
          2009,
          2008,
          2007,
          2006,
          2005,
          2004,
          2003,
          2002,
          2001,
          2000
         ],
         "y": [
          3861123558039.21,
          3963767526250.98,
          3682602479929.42,
          3467498002104.33,
          3356235704119.75,
          3883920155292.26,
          3732743446218.92,
          3527344944139.83,
          3744408602683.94,
          3396354075663.73,
          3397791053070.3,
          3730027830672.33,
          3421229126745.14,
          2992196713084.93,
          2845802760850.64,
          2809187981127.39,
          2496128668171.56,
          2068624129493.69,
          1944107382550.34,
          1943145384190.16
         ]
        },
        {
         "name": "France",
         "type": "scatter",
         "x": [
          2019,
          2018,
          2017,
          2016,
          2015,
          2014,
          2013,
          2012,
          2011,
          2010,
          2009,
          2008,
          2007,
          2006,
          2005,
          2004,
          2003,
          2002,
          2001,
          2000
         ],
         "y": [
          2715518274227.45,
          2787863958885.49,
          2595151045197.65,
          2471285607081.72,
          2438207896251.84,
          2852165760630.27,
          2811077725703.59,
          2683825225092.63,
          2861408170264.6,
          2642609548930.36,
          2690222283967.77,
          2918382891460.38,
          2657213249384.07,
          2318593651988.46,
          2196126103718.44,
          2115742488204.62,
          1840480812641.08,
          1494286655373.61,
          1376465324384.79,
          1362248940482.77
         ]
        },
        {
         "name": "Italy",
         "type": "scatter",
         "x": [
          2019,
          2018,
          2017,
          2016,
          2015,
          2014,
          2013,
          2012,
          2011,
          2010,
          2009,
          2008,
          2007,
          2006,
          2005,
          2004,
          2003,
          2002,
          2001,
          2000
         ],
         "y": [
          2003576145498.04,
          2091544955092.31,
          1961796197354.36,
          1875797463583.87,
          1835899237320.04,
          2159133919743.77,
          2141315327318.21,
          2087077032435.15,
          2291991045770.29,
          2134017843247.16,
          2191241872742.43,
          2398856598798.89,
          2210292636189.43,
          1947919708944.93,
          1857524312896.41,
          1803226967966.23,
          1574145823927.77,
          1270712309429.7,
          1167012796420.58,
          1143829832319.88
         ]
        }
       ],
       "layout": {
        "template": {
         "data": {
          "bar": [
           {
            "error_x": {
             "color": "#2a3f5f"
            },
            "error_y": {
             "color": "#2a3f5f"
            },
            "marker": {
             "line": {
              "color": "#E5ECF6",
              "width": 0.5
             }
            },
            "type": "bar"
           }
          ],
          "barpolar": [
           {
            "marker": {
             "line": {
              "color": "#E5ECF6",
              "width": 0.5
             }
            },
            "type": "barpolar"
           }
          ],
          "carpet": [
           {
            "aaxis": {
             "endlinecolor": "#2a3f5f",
             "gridcolor": "white",
             "linecolor": "white",
             "minorgridcolor": "white",
             "startlinecolor": "#2a3f5f"
            },
            "baxis": {
             "endlinecolor": "#2a3f5f",
             "gridcolor": "white",
             "linecolor": "white",
             "minorgridcolor": "white",
             "startlinecolor": "#2a3f5f"
            },
            "type": "carpet"
           }
          ],
          "choropleth": [
           {
            "colorbar": {
             "outlinewidth": 0,
             "ticks": ""
            },
            "type": "choropleth"
           }
          ],
          "contour": [
           {
            "colorbar": {
             "outlinewidth": 0,
             "ticks": ""
            },
            "colorscale": [
             [
              0,
              "#0d0887"
             ],
             [
              0.1111111111111111,
              "#46039f"
             ],
             [
              0.2222222222222222,
              "#7201a8"
             ],
             [
              0.3333333333333333,
              "#9c179e"
             ],
             [
              0.4444444444444444,
              "#bd3786"
             ],
             [
              0.5555555555555556,
              "#d8576b"
             ],
             [
              0.6666666666666666,
              "#ed7953"
             ],
             [
              0.7777777777777778,
              "#fb9f3a"
             ],
             [
              0.8888888888888888,
              "#fdca26"
             ],
             [
              1,
              "#f0f921"
             ]
            ],
            "type": "contour"
           }
          ],
          "contourcarpet": [
           {
            "colorbar": {
             "outlinewidth": 0,
             "ticks": ""
            },
            "type": "contourcarpet"
           }
          ],
          "heatmap": [
           {
            "colorbar": {
             "outlinewidth": 0,
             "ticks": ""
            },
            "colorscale": [
             [
              0,
              "#0d0887"
             ],
             [
              0.1111111111111111,
              "#46039f"
             ],
             [
              0.2222222222222222,
              "#7201a8"
             ],
             [
              0.3333333333333333,
              "#9c179e"
             ],
             [
              0.4444444444444444,
              "#bd3786"
             ],
             [
              0.5555555555555556,
              "#d8576b"
             ],
             [
              0.6666666666666666,
              "#ed7953"
             ],
             [
              0.7777777777777778,
              "#fb9f3a"
             ],
             [
              0.8888888888888888,
              "#fdca26"
             ],
             [
              1,
              "#f0f921"
             ]
            ],
            "type": "heatmap"
           }
          ],
          "heatmapgl": [
           {
            "colorbar": {
             "outlinewidth": 0,
             "ticks": ""
            },
            "colorscale": [
             [
              0,
              "#0d0887"
             ],
             [
              0.1111111111111111,
              "#46039f"
             ],
             [
              0.2222222222222222,
              "#7201a8"
             ],
             [
              0.3333333333333333,
              "#9c179e"
             ],
             [
              0.4444444444444444,
              "#bd3786"
             ],
             [
              0.5555555555555556,
              "#d8576b"
             ],
             [
              0.6666666666666666,
              "#ed7953"
             ],
             [
              0.7777777777777778,
              "#fb9f3a"
             ],
             [
              0.8888888888888888,
              "#fdca26"
             ],
             [
              1,
              "#f0f921"
             ]
            ],
            "type": "heatmapgl"
           }
          ],
          "histogram": [
           {
            "marker": {
             "colorbar": {
              "outlinewidth": 0,
              "ticks": ""
             }
            },
            "type": "histogram"
           }
          ],
          "histogram2d": [
           {
            "colorbar": {
             "outlinewidth": 0,
             "ticks": ""
            },
            "colorscale": [
             [
              0,
              "#0d0887"
             ],
             [
              0.1111111111111111,
              "#46039f"
             ],
             [
              0.2222222222222222,
              "#7201a8"
             ],
             [
              0.3333333333333333,
              "#9c179e"
             ],
             [
              0.4444444444444444,
              "#bd3786"
             ],
             [
              0.5555555555555556,
              "#d8576b"
             ],
             [
              0.6666666666666666,
              "#ed7953"
             ],
             [
              0.7777777777777778,
              "#fb9f3a"
             ],
             [
              0.8888888888888888,
              "#fdca26"
             ],
             [
              1,
              "#f0f921"
             ]
            ],
            "type": "histogram2d"
           }
          ],
          "histogram2dcontour": [
           {
            "colorbar": {
             "outlinewidth": 0,
             "ticks": ""
            },
            "colorscale": [
             [
              0,
              "#0d0887"
             ],
             [
              0.1111111111111111,
              "#46039f"
             ],
             [
              0.2222222222222222,
              "#7201a8"
             ],
             [
              0.3333333333333333,
              "#9c179e"
             ],
             [
              0.4444444444444444,
              "#bd3786"
             ],
             [
              0.5555555555555556,
              "#d8576b"
             ],
             [
              0.6666666666666666,
              "#ed7953"
             ],
             [
              0.7777777777777778,
              "#fb9f3a"
             ],
             [
              0.8888888888888888,
              "#fdca26"
             ],
             [
              1,
              "#f0f921"
             ]
            ],
            "type": "histogram2dcontour"
           }
          ],
          "mesh3d": [
           {
            "colorbar": {
             "outlinewidth": 0,
             "ticks": ""
            },
            "type": "mesh3d"
           }
          ],
          "parcoords": [
           {
            "line": {
             "colorbar": {
              "outlinewidth": 0,
              "ticks": ""
             }
            },
            "type": "parcoords"
           }
          ],
          "pie": [
           {
            "automargin": true,
            "type": "pie"
           }
          ],
          "scatter": [
           {
            "marker": {
             "colorbar": {
              "outlinewidth": 0,
              "ticks": ""
             }
            },
            "type": "scatter"
           }
          ],
          "scatter3d": [
           {
            "line": {
             "colorbar": {
              "outlinewidth": 0,
              "ticks": ""
             }
            },
            "marker": {
             "colorbar": {
              "outlinewidth": 0,
              "ticks": ""
             }
            },
            "type": "scatter3d"
           }
          ],
          "scattercarpet": [
           {
            "marker": {
             "colorbar": {
              "outlinewidth": 0,
              "ticks": ""
             }
            },
            "type": "scattercarpet"
           }
          ],
          "scattergeo": [
           {
            "marker": {
             "colorbar": {
              "outlinewidth": 0,
              "ticks": ""
             }
            },
            "type": "scattergeo"
           }
          ],
          "scattergl": [
           {
            "marker": {
             "colorbar": {
              "outlinewidth": 0,
              "ticks": ""
             }
            },
            "type": "scattergl"
           }
          ],
          "scattermapbox": [
           {
            "marker": {
             "colorbar": {
              "outlinewidth": 0,
              "ticks": ""
             }
            },
            "type": "scattermapbox"
           }
          ],
          "scatterpolar": [
           {
            "marker": {
             "colorbar": {
              "outlinewidth": 0,
              "ticks": ""
             }
            },
            "type": "scatterpolar"
           }
          ],
          "scatterpolargl": [
           {
            "marker": {
             "colorbar": {
              "outlinewidth": 0,
              "ticks": ""
             }
            },
            "type": "scatterpolargl"
           }
          ],
          "scatterternary": [
           {
            "marker": {
             "colorbar": {
              "outlinewidth": 0,
              "ticks": ""
             }
            },
            "type": "scatterternary"
           }
          ],
          "surface": [
           {
            "colorbar": {
             "outlinewidth": 0,
             "ticks": ""
            },
            "colorscale": [
             [
              0,
              "#0d0887"
             ],
             [
              0.1111111111111111,
              "#46039f"
             ],
             [
              0.2222222222222222,
              "#7201a8"
             ],
             [
              0.3333333333333333,
              "#9c179e"
             ],
             [
              0.4444444444444444,
              "#bd3786"
             ],
             [
              0.5555555555555556,
              "#d8576b"
             ],
             [
              0.6666666666666666,
              "#ed7953"
             ],
             [
              0.7777777777777778,
              "#fb9f3a"
             ],
             [
              0.8888888888888888,
              "#fdca26"
             ],
             [
              1,
              "#f0f921"
             ]
            ],
            "type": "surface"
           }
          ],
          "table": [
           {
            "cells": {
             "fill": {
              "color": "#EBF0F8"
             },
             "line": {
              "color": "white"
             }
            },
            "header": {
             "fill": {
              "color": "#C8D4E3"
             },
             "line": {
              "color": "white"
             }
            },
            "type": "table"
           }
          ]
         },
         "layout": {
          "annotationdefaults": {
           "arrowcolor": "#2a3f5f",
           "arrowhead": 0,
           "arrowwidth": 1
          },
          "autotypenumbers": "strict",
          "coloraxis": {
           "colorbar": {
            "outlinewidth": 0,
            "ticks": ""
           }
          },
          "colorscale": {
           "diverging": [
            [
             0,
             "#8e0152"
            ],
            [
             0.1,
             "#c51b7d"
            ],
            [
             0.2,
             "#de77ae"
            ],
            [
             0.3,
             "#f1b6da"
            ],
            [
             0.4,
             "#fde0ef"
            ],
            [
             0.5,
             "#f7f7f7"
            ],
            [
             0.6,
             "#e6f5d0"
            ],
            [
             0.7,
             "#b8e186"
            ],
            [
             0.8,
             "#7fbc41"
            ],
            [
             0.9,
             "#4d9221"
            ],
            [
             1,
             "#276419"
            ]
           ],
           "sequential": [
            [
             0,
             "#0d0887"
            ],
            [
             0.1111111111111111,
             "#46039f"
            ],
            [
             0.2222222222222222,
             "#7201a8"
            ],
            [
             0.3333333333333333,
             "#9c179e"
            ],
            [
             0.4444444444444444,
             "#bd3786"
            ],
            [
             0.5555555555555556,
             "#d8576b"
            ],
            [
             0.6666666666666666,
             "#ed7953"
            ],
            [
             0.7777777777777778,
             "#fb9f3a"
            ],
            [
             0.8888888888888888,
             "#fdca26"
            ],
            [
             1,
             "#f0f921"
            ]
           ],
           "sequentialminus": [
            [
             0,
             "#0d0887"
            ],
            [
             0.1111111111111111,
             "#46039f"
            ],
            [
             0.2222222222222222,
             "#7201a8"
            ],
            [
             0.3333333333333333,
             "#9c179e"
            ],
            [
             0.4444444444444444,
             "#bd3786"
            ],
            [
             0.5555555555555556,
             "#d8576b"
            ],
            [
             0.6666666666666666,
             "#ed7953"
            ],
            [
             0.7777777777777778,
             "#fb9f3a"
            ],
            [
             0.8888888888888888,
             "#fdca26"
            ],
            [
             1,
             "#f0f921"
            ]
           ]
          },
          "colorway": [
           "#636efa",
           "#EF553B",
           "#00cc96",
           "#ab63fa",
           "#FFA15A",
           "#19d3f3",
           "#FF6692",
           "#B6E880",
           "#FF97FF",
           "#FECB52"
          ],
          "font": {
           "color": "#2a3f5f"
          },
          "geo": {
           "bgcolor": "white",
           "lakecolor": "white",
           "landcolor": "#E5ECF6",
           "showlakes": true,
           "showland": true,
           "subunitcolor": "white"
          },
          "hoverlabel": {
           "align": "left"
          },
          "hovermode": "closest",
          "mapbox": {
           "style": "light"
          },
          "paper_bgcolor": "white",
          "plot_bgcolor": "#E5ECF6",
          "polar": {
           "angularaxis": {
            "gridcolor": "white",
            "linecolor": "white",
            "ticks": ""
           },
           "bgcolor": "#E5ECF6",
           "radialaxis": {
            "gridcolor": "white",
            "linecolor": "white",
            "ticks": ""
           }
          },
          "scene": {
           "xaxis": {
            "backgroundcolor": "#E5ECF6",
            "gridcolor": "white",
            "gridwidth": 2,
            "linecolor": "white",
            "showbackground": true,
            "ticks": "",
            "zerolinecolor": "white"
           },
           "yaxis": {
            "backgroundcolor": "#E5ECF6",
            "gridcolor": "white",
            "gridwidth": 2,
            "linecolor": "white",
            "showbackground": true,
            "ticks": "",
            "zerolinecolor": "white"
           },
           "zaxis": {
            "backgroundcolor": "#E5ECF6",
            "gridcolor": "white",
            "gridwidth": 2,
            "linecolor": "white",
            "showbackground": true,
            "ticks": "",
            "zerolinecolor": "white"
           }
          },
          "shapedefaults": {
           "line": {
            "color": "#2a3f5f"
           }
          },
          "ternary": {
           "aaxis": {
            "gridcolor": "white",
            "linecolor": "white",
            "ticks": ""
           },
           "baxis": {
            "gridcolor": "white",
            "linecolor": "white",
            "ticks": ""
           },
           "bgcolor": "#E5ECF6",
           "caxis": {
            "gridcolor": "white",
            "linecolor": "white",
            "ticks": ""
           }
          },
          "title": {
           "x": 0.05
          },
          "xaxis": {
           "automargin": true,
           "gridcolor": "white",
           "linecolor": "white",
           "ticks": "",
           "title": {
            "standoff": 15
           },
           "zerolinecolor": "white",
           "zerolinewidth": 2
          },
          "yaxis": {
           "automargin": true,
           "gridcolor": "white",
           "linecolor": "white",
           "ticks": "",
           "title": {
            "standoff": 15
           },
           "zerolinecolor": "white",
           "zerolinewidth": 2
          }
         }
        },
        "title": {
         "text": "This is a much cooler graph!"
        },
        "xaxis": {
         "rangeslider": {
          "visible": true
         },
         "title": {
          "text": "Year"
         }
        },
        "yaxis": {
         "title": {
          "text": "Nominal GDP (in US$)"
         }
        }
       }
      },
      "text/html": [
       "<div>                            <div id=\"40bf516f-5943-48da-b8ed-2f2ff3d0f5f3\" class=\"plotly-graph-div\" style=\"height:525px; width:100%;\"></div>            <script type=\"text/javascript\">                require([\"plotly\"], function(Plotly) {                    window.PLOTLYENV=window.PLOTLYENV || {};                                    if (document.getElementById(\"40bf516f-5943-48da-b8ed-2f2ff3d0f5f3\")) {                    Plotly.newPlot(                        \"40bf516f-5943-48da-b8ed-2f2ff3d0f5f3\",                        [{\"name\": \"Germany\", \"type\": \"scatter\", \"x\": [2019, 2018, 2017, 2016, 2015, 2014, 2013, 2012, 2011, 2010, 2009, 2008, 2007, 2006, 2005, 2004, 2003, 2002, 2001, 2000], \"y\": [3861123558039.21, 3963767526250.98, 3682602479929.42, 3467498002104.33, 3356235704119.75, 3883920155292.26, 3732743446218.92, 3527344944139.83, 3744408602683.94, 3396354075663.73, 3397791053070.3, 3730027830672.33, 3421229126745.14, 2992196713084.93, 2845802760850.64, 2809187981127.39, 2496128668171.56, 2068624129493.69, 1944107382550.34, 1943145384190.16]}, {\"name\": \"France\", \"type\": \"scatter\", \"x\": [2019, 2018, 2017, 2016, 2015, 2014, 2013, 2012, 2011, 2010, 2009, 2008, 2007, 2006, 2005, 2004, 2003, 2002, 2001, 2000], \"y\": [2715518274227.45, 2787863958885.49, 2595151045197.65, 2471285607081.72, 2438207896251.84, 2852165760630.27, 2811077725703.59, 2683825225092.63, 2861408170264.6, 2642609548930.36, 2690222283967.77, 2918382891460.38, 2657213249384.07, 2318593651988.46, 2196126103718.44, 2115742488204.62, 1840480812641.08, 1494286655373.61, 1376465324384.79, 1362248940482.77]}, {\"name\": \"Italy\", \"type\": \"scatter\", \"x\": [2019, 2018, 2017, 2016, 2015, 2014, 2013, 2012, 2011, 2010, 2009, 2008, 2007, 2006, 2005, 2004, 2003, 2002, 2001, 2000], \"y\": [2003576145498.04, 2091544955092.31, 1961796197354.36, 1875797463583.87, 1835899237320.04, 2159133919743.77, 2141315327318.21, 2087077032435.15, 2291991045770.29, 2134017843247.16, 2191241872742.43, 2398856598798.89, 2210292636189.43, 1947919708944.93, 1857524312896.41, 1803226967966.23, 1574145823927.77, 1270712309429.7, 1167012796420.58, 1143829832319.88]}],                        {\"template\": {\"data\": {\"bar\": [{\"error_x\": {\"color\": \"#2a3f5f\"}, \"error_y\": {\"color\": \"#2a3f5f\"}, \"marker\": {\"line\": {\"color\": \"#E5ECF6\", \"width\": 0.5}}, \"type\": \"bar\"}], \"barpolar\": [{\"marker\": {\"line\": {\"color\": \"#E5ECF6\", \"width\": 0.5}}, \"type\": \"barpolar\"}], \"carpet\": [{\"aaxis\": {\"endlinecolor\": \"#2a3f5f\", \"gridcolor\": \"white\", \"linecolor\": \"white\", \"minorgridcolor\": \"white\", \"startlinecolor\": \"#2a3f5f\"}, \"baxis\": {\"endlinecolor\": \"#2a3f5f\", \"gridcolor\": \"white\", \"linecolor\": \"white\", \"minorgridcolor\": \"white\", \"startlinecolor\": \"#2a3f5f\"}, \"type\": \"carpet\"}], \"choropleth\": [{\"colorbar\": {\"outlinewidth\": 0, \"ticks\": \"\"}, \"type\": \"choropleth\"}], \"contour\": [{\"colorbar\": {\"outlinewidth\": 0, \"ticks\": \"\"}, \"colorscale\": [[0.0, \"#0d0887\"], [0.1111111111111111, \"#46039f\"], [0.2222222222222222, \"#7201a8\"], [0.3333333333333333, \"#9c179e\"], [0.4444444444444444, \"#bd3786\"], [0.5555555555555556, \"#d8576b\"], [0.6666666666666666, \"#ed7953\"], [0.7777777777777778, \"#fb9f3a\"], [0.8888888888888888, \"#fdca26\"], [1.0, \"#f0f921\"]], \"type\": \"contour\"}], \"contourcarpet\": [{\"colorbar\": {\"outlinewidth\": 0, \"ticks\": \"\"}, \"type\": \"contourcarpet\"}], \"heatmap\": [{\"colorbar\": {\"outlinewidth\": 0, \"ticks\": \"\"}, \"colorscale\": [[0.0, \"#0d0887\"], [0.1111111111111111, \"#46039f\"], [0.2222222222222222, \"#7201a8\"], [0.3333333333333333, \"#9c179e\"], [0.4444444444444444, \"#bd3786\"], [0.5555555555555556, \"#d8576b\"], [0.6666666666666666, \"#ed7953\"], [0.7777777777777778, \"#fb9f3a\"], [0.8888888888888888, \"#fdca26\"], [1.0, \"#f0f921\"]], \"type\": \"heatmap\"}], \"heatmapgl\": [{\"colorbar\": {\"outlinewidth\": 0, \"ticks\": \"\"}, \"colorscale\": [[0.0, \"#0d0887\"], [0.1111111111111111, \"#46039f\"], [0.2222222222222222, \"#7201a8\"], [0.3333333333333333, \"#9c179e\"], [0.4444444444444444, \"#bd3786\"], [0.5555555555555556, \"#d8576b\"], [0.6666666666666666, \"#ed7953\"], [0.7777777777777778, \"#fb9f3a\"], [0.8888888888888888, \"#fdca26\"], [1.0, \"#f0f921\"]], \"type\": \"heatmapgl\"}], \"histogram\": [{\"marker\": {\"colorbar\": {\"outlinewidth\": 0, \"ticks\": \"\"}}, \"type\": \"histogram\"}], \"histogram2d\": [{\"colorbar\": {\"outlinewidth\": 0, \"ticks\": \"\"}, \"colorscale\": [[0.0, \"#0d0887\"], [0.1111111111111111, \"#46039f\"], [0.2222222222222222, \"#7201a8\"], [0.3333333333333333, \"#9c179e\"], [0.4444444444444444, \"#bd3786\"], [0.5555555555555556, \"#d8576b\"], [0.6666666666666666, \"#ed7953\"], [0.7777777777777778, \"#fb9f3a\"], [0.8888888888888888, \"#fdca26\"], [1.0, \"#f0f921\"]], \"type\": \"histogram2d\"}], \"histogram2dcontour\": [{\"colorbar\": {\"outlinewidth\": 0, \"ticks\": \"\"}, \"colorscale\": [[0.0, \"#0d0887\"], [0.1111111111111111, \"#46039f\"], [0.2222222222222222, \"#7201a8\"], [0.3333333333333333, \"#9c179e\"], [0.4444444444444444, \"#bd3786\"], [0.5555555555555556, \"#d8576b\"], [0.6666666666666666, \"#ed7953\"], [0.7777777777777778, \"#fb9f3a\"], [0.8888888888888888, \"#fdca26\"], [1.0, \"#f0f921\"]], \"type\": \"histogram2dcontour\"}], \"mesh3d\": [{\"colorbar\": {\"outlinewidth\": 0, \"ticks\": \"\"}, \"type\": \"mesh3d\"}], \"parcoords\": [{\"line\": {\"colorbar\": {\"outlinewidth\": 0, \"ticks\": \"\"}}, \"type\": \"parcoords\"}], \"pie\": [{\"automargin\": true, \"type\": \"pie\"}], \"scatter\": [{\"marker\": {\"colorbar\": {\"outlinewidth\": 0, \"ticks\": \"\"}}, \"type\": \"scatter\"}], \"scatter3d\": [{\"line\": {\"colorbar\": {\"outlinewidth\": 0, \"ticks\": \"\"}}, \"marker\": {\"colorbar\": {\"outlinewidth\": 0, \"ticks\": \"\"}}, \"type\": \"scatter3d\"}], \"scattercarpet\": [{\"marker\": {\"colorbar\": {\"outlinewidth\": 0, \"ticks\": \"\"}}, \"type\": \"scattercarpet\"}], \"scattergeo\": [{\"marker\": {\"colorbar\": {\"outlinewidth\": 0, \"ticks\": \"\"}}, \"type\": \"scattergeo\"}], \"scattergl\": [{\"marker\": {\"colorbar\": {\"outlinewidth\": 0, \"ticks\": \"\"}}, \"type\": \"scattergl\"}], \"scattermapbox\": [{\"marker\": {\"colorbar\": {\"outlinewidth\": 0, \"ticks\": \"\"}}, \"type\": \"scattermapbox\"}], \"scatterpolar\": [{\"marker\": {\"colorbar\": {\"outlinewidth\": 0, \"ticks\": \"\"}}, \"type\": \"scatterpolar\"}], \"scatterpolargl\": [{\"marker\": {\"colorbar\": {\"outlinewidth\": 0, \"ticks\": \"\"}}, \"type\": \"scatterpolargl\"}], \"scatterternary\": [{\"marker\": {\"colorbar\": {\"outlinewidth\": 0, \"ticks\": \"\"}}, \"type\": \"scatterternary\"}], \"surface\": [{\"colorbar\": {\"outlinewidth\": 0, \"ticks\": \"\"}, \"colorscale\": [[0.0, \"#0d0887\"], [0.1111111111111111, \"#46039f\"], [0.2222222222222222, \"#7201a8\"], [0.3333333333333333, \"#9c179e\"], [0.4444444444444444, \"#bd3786\"], [0.5555555555555556, \"#d8576b\"], [0.6666666666666666, \"#ed7953\"], [0.7777777777777778, \"#fb9f3a\"], [0.8888888888888888, \"#fdca26\"], [1.0, \"#f0f921\"]], \"type\": \"surface\"}], \"table\": [{\"cells\": {\"fill\": {\"color\": \"#EBF0F8\"}, \"line\": {\"color\": \"white\"}}, \"header\": {\"fill\": {\"color\": \"#C8D4E3\"}, \"line\": {\"color\": \"white\"}}, \"type\": \"table\"}]}, \"layout\": {\"annotationdefaults\": {\"arrowcolor\": \"#2a3f5f\", \"arrowhead\": 0, \"arrowwidth\": 1}, \"autotypenumbers\": \"strict\", \"coloraxis\": {\"colorbar\": {\"outlinewidth\": 0, \"ticks\": \"\"}}, \"colorscale\": {\"diverging\": [[0, \"#8e0152\"], [0.1, \"#c51b7d\"], [0.2, \"#de77ae\"], [0.3, \"#f1b6da\"], [0.4, \"#fde0ef\"], [0.5, \"#f7f7f7\"], [0.6, \"#e6f5d0\"], [0.7, \"#b8e186\"], [0.8, \"#7fbc41\"], [0.9, \"#4d9221\"], [1, \"#276419\"]], \"sequential\": [[0.0, \"#0d0887\"], [0.1111111111111111, \"#46039f\"], [0.2222222222222222, \"#7201a8\"], [0.3333333333333333, \"#9c179e\"], [0.4444444444444444, \"#bd3786\"], [0.5555555555555556, \"#d8576b\"], [0.6666666666666666, \"#ed7953\"], [0.7777777777777778, \"#fb9f3a\"], [0.8888888888888888, \"#fdca26\"], [1.0, \"#f0f921\"]], \"sequentialminus\": [[0.0, \"#0d0887\"], [0.1111111111111111, \"#46039f\"], [0.2222222222222222, \"#7201a8\"], [0.3333333333333333, \"#9c179e\"], [0.4444444444444444, \"#bd3786\"], [0.5555555555555556, \"#d8576b\"], [0.6666666666666666, \"#ed7953\"], [0.7777777777777778, \"#fb9f3a\"], [0.8888888888888888, \"#fdca26\"], [1.0, \"#f0f921\"]]}, \"colorway\": [\"#636efa\", \"#EF553B\", \"#00cc96\", \"#ab63fa\", \"#FFA15A\", \"#19d3f3\", \"#FF6692\", \"#B6E880\", \"#FF97FF\", \"#FECB52\"], \"font\": {\"color\": \"#2a3f5f\"}, \"geo\": {\"bgcolor\": \"white\", \"lakecolor\": \"white\", \"landcolor\": \"#E5ECF6\", \"showlakes\": true, \"showland\": true, \"subunitcolor\": \"white\"}, \"hoverlabel\": {\"align\": \"left\"}, \"hovermode\": \"closest\", \"mapbox\": {\"style\": \"light\"}, \"paper_bgcolor\": \"white\", \"plot_bgcolor\": \"#E5ECF6\", \"polar\": {\"angularaxis\": {\"gridcolor\": \"white\", \"linecolor\": \"white\", \"ticks\": \"\"}, \"bgcolor\": \"#E5ECF6\", \"radialaxis\": {\"gridcolor\": \"white\", \"linecolor\": \"white\", \"ticks\": \"\"}}, \"scene\": {\"xaxis\": {\"backgroundcolor\": \"#E5ECF6\", \"gridcolor\": \"white\", \"gridwidth\": 2, \"linecolor\": \"white\", \"showbackground\": true, \"ticks\": \"\", \"zerolinecolor\": \"white\"}, \"yaxis\": {\"backgroundcolor\": \"#E5ECF6\", \"gridcolor\": \"white\", \"gridwidth\": 2, \"linecolor\": \"white\", \"showbackground\": true, \"ticks\": \"\", \"zerolinecolor\": \"white\"}, \"zaxis\": {\"backgroundcolor\": \"#E5ECF6\", \"gridcolor\": \"white\", \"gridwidth\": 2, \"linecolor\": \"white\", \"showbackground\": true, \"ticks\": \"\", \"zerolinecolor\": \"white\"}}, \"shapedefaults\": {\"line\": {\"color\": \"#2a3f5f\"}}, \"ternary\": {\"aaxis\": {\"gridcolor\": \"white\", \"linecolor\": \"white\", \"ticks\": \"\"}, \"baxis\": {\"gridcolor\": \"white\", \"linecolor\": \"white\", \"ticks\": \"\"}, \"bgcolor\": \"#E5ECF6\", \"caxis\": {\"gridcolor\": \"white\", \"linecolor\": \"white\", \"ticks\": \"\"}}, \"title\": {\"x\": 0.05}, \"xaxis\": {\"automargin\": true, \"gridcolor\": \"white\", \"linecolor\": \"white\", \"ticks\": \"\", \"title\": {\"standoff\": 15}, \"zerolinecolor\": \"white\", \"zerolinewidth\": 2}, \"yaxis\": {\"automargin\": true, \"gridcolor\": \"white\", \"linecolor\": \"white\", \"ticks\": \"\", \"title\": {\"standoff\": 15}, \"zerolinecolor\": \"white\", \"zerolinewidth\": 2}}}, \"title\": {\"text\": \"This is a much cooler graph!\"}, \"xaxis\": {\"rangeslider\": {\"visible\": true}, \"title\": {\"text\": \"Year\"}}, \"yaxis\": {\"title\": {\"text\": \"Nominal GDP (in US$)\"}}},                        {\"responsive\": true}                    ).then(function(){\n",
       "                            \n",
       "var gd = document.getElementById('40bf516f-5943-48da-b8ed-2f2ff3d0f5f3');\n",
       "var x = new MutationObserver(function (mutations, observer) {{\n",
       "        var display = window.getComputedStyle(gd).display;\n",
       "        if (!display || display === 'none') {{\n",
       "            console.log([gd, 'removed!']);\n",
       "            Plotly.purge(gd);\n",
       "            observer.disconnect();\n",
       "        }}\n",
       "}});\n",
       "\n",
       "// Listen for the removal of the full notebook cells\n",
       "var notebookContainer = gd.closest('#notebook-container');\n",
       "if (notebookContainer) {{\n",
       "    x.observe(notebookContainer, {childList: true});\n",
       "}}\n",
       "\n",
       "// Listen for the clearing of the current output cell\n",
       "var outputEl = gd.closest('.output');\n",
       "if (outputEl) {{\n",
       "    x.observe(outputEl, {childList: true});\n",
       "}}\n",
       "\n",
       "                        })                };                });            </script>        </div>"
      ]
     },
     "metadata": {},
     "output_type": "display_data"
    }
   ],
   "source": [
    "traces = []\n",
    "for country in df2['country'].unique():\n",
    "    trace = go.Scatter(name = country, x = df2[df2['country'] == country]['year'],\n",
    "                      y = df2[df2['country'] == country]['gdp'])\n",
    "    traces.append(trace)\n",
    "fig = go.Figure(data = traces)\n",
    "fig.layout.update(title=go.layout.Title(\n",
    "    text = 'This is a much cooler graph!'\n",
    "))\n",
    "fig.layout.update(yaxis= go.layout.YAxis(title=go.layout.yaxis.Title(\n",
    "                        text='Nominal GDP (in US$)')));\n",
    "fig.layout.update(xaxis = go.layout.XAxis(title = go.layout.xaxis.Title(text = 'Year'), rangeslider = dict(visible = True)));\n",
    "iplot(fig, filename = 'Nominal_GDP')"
   ]
  },
  {
   "cell_type": "code",
   "execution_count": null,
   "id": "1c215845",
   "metadata": {},
   "outputs": [],
   "source": []
  },
  {
   "cell_type": "code",
   "execution_count": null,
   "id": "508004fb",
   "metadata": {},
   "outputs": [],
   "source": []
  },
  {
   "cell_type": "code",
   "execution_count": null,
   "id": "f8a18cf3",
   "metadata": {},
   "outputs": [],
   "source": []
  },
  {
   "cell_type": "code",
   "execution_count": null,
   "id": "7d253cde",
   "metadata": {},
   "outputs": [],
   "source": []
  },
  {
   "cell_type": "markdown",
   "id": "db659726",
   "metadata": {},
   "source": [
    "## Directly parsing `table` objects from HTML"
   ]
  },
  {
   "cell_type": "code",
   "execution_count": 12,
   "id": "23f036fd",
   "metadata": {},
   "outputs": [],
   "source": [
    "# Recall: %whos shows you the variables in name space\n",
    "ranking = pd.read_html('https://www.worldcubeassociation.org/results/rankings/333/single', encoding=\"utf-8\")"
   ]
  },
  {
   "cell_type": "code",
   "execution_count": 13,
   "id": "cb241497",
   "metadata": {},
   "outputs": [
    {
     "data": {
      "text/html": [
       "<div>\n",
       "<style scoped>\n",
       "    .dataframe tbody tr th:only-of-type {\n",
       "        vertical-align: middle;\n",
       "    }\n",
       "\n",
       "    .dataframe tbody tr th {\n",
       "        vertical-align: top;\n",
       "    }\n",
       "\n",
       "    .dataframe thead th {\n",
       "        text-align: right;\n",
       "    }\n",
       "</style>\n",
       "<table border=\"1\" class=\"dataframe\">\n",
       "  <thead>\n",
       "    <tr style=\"text-align: right;\">\n",
       "      <th></th>\n",
       "      <th>#</th>\n",
       "      <th>Name</th>\n",
       "      <th>Result</th>\n",
       "      <th>Citizen of</th>\n",
       "      <th>Competition</th>\n",
       "      <th>Unnamed: 5</th>\n",
       "    </tr>\n",
       "  </thead>\n",
       "  <tbody>\n",
       "    <tr>\n",
       "      <th>0</th>\n",
       "      <td>1</td>\n",
       "      <td>Yusheng Du (杜宇生)</td>\n",
       "      <td>3.47</td>\n",
       "      <td>China</td>\n",
       "      <td>Wuhu Open 2018</td>\n",
       "      <td>NaN</td>\n",
       "    </tr>\n",
       "    <tr>\n",
       "      <th>1</th>\n",
       "      <td>2</td>\n",
       "      <td>Feliks Zemdegs</td>\n",
       "      <td>4.16</td>\n",
       "      <td>Australia</td>\n",
       "      <td>Auckland Summer Open 2020</td>\n",
       "      <td>NaN</td>\n",
       "    </tr>\n",
       "    <tr>\n",
       "      <th>2</th>\n",
       "      <td>3</td>\n",
       "      <td>Patrick Ponce</td>\n",
       "      <td>4.24</td>\n",
       "      <td>United States</td>\n",
       "      <td>Northeast Championship 2019</td>\n",
       "      <td>NaN</td>\n",
       "    </tr>\n",
       "    <tr>\n",
       "      <th>3</th>\n",
       "      <td>4</td>\n",
       "      <td>Nicolás Sánchez</td>\n",
       "      <td>4.38</td>\n",
       "      <td>United States</td>\n",
       "      <td>GA Cubers Feet Fest 2019</td>\n",
       "      <td>NaN</td>\n",
       "    </tr>\n",
       "    <tr>\n",
       "      <th>4</th>\n",
       "      <td>5</td>\n",
       "      <td>Max Park</td>\n",
       "      <td>4.40</td>\n",
       "      <td>United States</td>\n",
       "      <td>SacCubing V 2018</td>\n",
       "      <td>NaN</td>\n",
       "    </tr>\n",
       "    <tr>\n",
       "      <th>...</th>\n",
       "      <td>...</td>\n",
       "      <td>...</td>\n",
       "      <td>...</td>\n",
       "      <td>...</td>\n",
       "      <td>...</td>\n",
       "      <td>...</td>\n",
       "    </tr>\n",
       "    <tr>\n",
       "      <th>95</th>\n",
       "      <td>90</td>\n",
       "      <td>Jonathan Esparaz</td>\n",
       "      <td>5.52</td>\n",
       "      <td>Canada</td>\n",
       "      <td>Oakville Limited Fall 2017</td>\n",
       "      <td>NaN</td>\n",
       "    </tr>\n",
       "    <tr>\n",
       "      <th>96</th>\n",
       "      <td>90</td>\n",
       "      <td>Lianhao Zhu (褚连皓)</td>\n",
       "      <td>5.52</td>\n",
       "      <td>China</td>\n",
       "      <td>Shaoxing Morning 2021</td>\n",
       "      <td>NaN</td>\n",
       "    </tr>\n",
       "    <tr>\n",
       "      <th>97</th>\n",
       "      <td>98</td>\n",
       "      <td>Kim Roger Høyland Larsen</td>\n",
       "      <td>5.54</td>\n",
       "      <td>Norway</td>\n",
       "      <td>Voss Open 2019</td>\n",
       "      <td>NaN</td>\n",
       "    </tr>\n",
       "    <tr>\n",
       "      <th>98</th>\n",
       "      <td>99</td>\n",
       "      <td>Luke Tycksen</td>\n",
       "      <td>5.55</td>\n",
       "      <td>United States</td>\n",
       "      <td>Atomic Cubing Fall 2017</td>\n",
       "      <td>NaN</td>\n",
       "    </tr>\n",
       "    <tr>\n",
       "      <th>99</th>\n",
       "      <td>99</td>\n",
       "      <td>Richard Tola</td>\n",
       "      <td>5.55</td>\n",
       "      <td>Greece</td>\n",
       "      <td>London Open 2019</td>\n",
       "      <td>NaN</td>\n",
       "    </tr>\n",
       "  </tbody>\n",
       "</table>\n",
       "<p>100 rows × 6 columns</p>\n",
       "</div>"
      ],
      "text/plain": [
       "     #                      Name  Result     Citizen of  \\\n",
       "0    1          Yusheng Du (杜宇生)    3.47          China   \n",
       "1    2            Feliks Zemdegs    4.16      Australia   \n",
       "2    3             Patrick Ponce    4.24  United States   \n",
       "3    4           Nicolás Sánchez    4.38  United States   \n",
       "4    5                  Max Park    4.40  United States   \n",
       "..  ..                       ...     ...            ...   \n",
       "95  90          Jonathan Esparaz    5.52         Canada   \n",
       "96  90         Lianhao Zhu (褚连皓)    5.52          China   \n",
       "97  98  Kim Roger Høyland Larsen    5.54         Norway   \n",
       "98  99              Luke Tycksen    5.55  United States   \n",
       "99  99              Richard Tola    5.55         Greece   \n",
       "\n",
       "                    Competition  Unnamed: 5  \n",
       "0                Wuhu Open 2018         NaN  \n",
       "1     Auckland Summer Open 2020         NaN  \n",
       "2   Northeast Championship 2019         NaN  \n",
       "3      GA Cubers Feet Fest 2019         NaN  \n",
       "4              SacCubing V 2018         NaN  \n",
       "..                          ...         ...  \n",
       "95   Oakville Limited Fall 2017         NaN  \n",
       "96        Shaoxing Morning 2021         NaN  \n",
       "97               Voss Open 2019         NaN  \n",
       "98      Atomic Cubing Fall 2017         NaN  \n",
       "99             London Open 2019         NaN  \n",
       "\n",
       "[100 rows x 6 columns]"
      ]
     },
     "execution_count": 13,
     "metadata": {},
     "output_type": "execute_result"
    }
   ],
   "source": [
    "ranking[0]"
   ]
  },
  {
   "cell_type": "markdown",
   "id": "4f36c7d8",
   "metadata": {},
   "source": [
    "Which nationality appears most frequently in the World Cube Association's ranking?"
   ]
  },
  {
   "cell_type": "code",
   "execution_count": 16,
   "id": "0ff69671",
   "metadata": {},
   "outputs": [
    {
     "data": {
      "text/plain": [
       "United States        31\n",
       "China                11\n",
       "Republic of Korea     5\n",
       "Germany               5\n",
       "France                4\n",
       "Australia             4\n",
       "Philippines           4\n",
       "Canada                4\n",
       "Poland                3\n",
       "Spain                 3\n",
       "Russia                2\n",
       "Taiwan                2\n",
       "Denmark               2\n",
       "Thailand              2\n",
       "Greece                2\n",
       "Malaysia              1\n",
       "Finland               1\n",
       "Japan                 1\n",
       "Netherlands           1\n",
       "Hong Kong             1\n",
       "Argentina             1\n",
       "Czech Republic        1\n",
       "Sweden                1\n",
       "India                 1\n",
       "Indonesia             1\n",
       "Peru                  1\n",
       "Mongolia              1\n",
       "Singapore             1\n",
       "Norway                1\n",
       "United Kingdom        1\n",
       "Ukraine               1\n",
       "Name: Citizen of, dtype: int64"
      ]
     },
     "execution_count": 16,
     "metadata": {},
     "output_type": "execute_result"
    }
   ],
   "source": [
    "ranking[0]['Citizen of'].value_counts()"
   ]
  },
  {
   "cell_type": "markdown",
   "id": "ef0feec9",
   "metadata": {},
   "source": [
    "Which nationality needed, on average, the **lowest** amount of time to solve a 3x3x3 cube? Sort the output in ascending order."
   ]
  },
  {
   "cell_type": "code",
   "execution_count": null,
   "id": "8ee8ebd6",
   "metadata": {},
   "outputs": [],
   "source": []
  },
  {
   "cell_type": "markdown",
   "id": "89b05d4e",
   "metadata": {},
   "source": [
    "How many possible states/permutations, starting from the solved state, can a 3x3x3 Rubik's cube have? \n",
    "\n",
    "Hints:\n",
    "1. The centre squares are fixed (a plane rotation around these squares doesn't change the cube's state)\n",
    "2. There are eight corner pieces (with three colors on the side) and twelve edge pieces (with two colors on the side) which all revolve around the centre pieces\n",
    "3. There are six different colors\n",
    "4. We only look at \"legal\" states, i.e. those that can only be realised without assembling the cube (and therefore not violating Hint 1)"
   ]
  },
  {
   "cell_type": "code",
   "execution_count": null,
   "id": "6a151c50",
   "metadata": {},
   "outputs": [],
   "source": []
  },
  {
   "cell_type": "markdown",
   "id": "fb5cb0c7",
   "metadata": {},
   "source": [
    "Which result entry in the World Ranking table is the most recent one? Which one is the oldest one? Be as precise as possible! (Hint: You may have to combine your knowledge from scraping HTML files.)"
   ]
  },
  {
   "cell_type": "code",
   "execution_count": null,
   "id": "88da521b",
   "metadata": {},
   "outputs": [],
   "source": []
  },
  {
   "cell_type": "markdown",
   "id": "b1cc5c57",
   "metadata": {},
   "source": [
    "Compute the expected value of `Result` conditional on `Nationality = 'Germany'`. Are the German contestants statistically significantly faster/slower in solving the cube than other contestants, based on `Nationality`? Does statistical significance change if you use robust standard errors?"
   ]
  },
  {
   "cell_type": "code",
   "execution_count": null,
   "id": "1c58a18f",
   "metadata": {},
   "outputs": [],
   "source": [
    "!pip install statsmodels"
   ]
  },
  {
   "cell_type": "code",
   "execution_count": null,
   "id": "877dc566",
   "metadata": {},
   "outputs": [],
   "source": [
    "import statsmodels.api as sm"
   ]
  },
  {
   "cell_type": "code",
   "execution_count": null,
   "id": "bffd1086",
   "metadata": {},
   "outputs": [],
   "source": []
  },
  {
   "cell_type": "code",
   "execution_count": null,
   "id": "41085005",
   "metadata": {},
   "outputs": [],
   "source": []
  },
  {
   "cell_type": "code",
   "execution_count": null,
   "id": "8f1aee2c",
   "metadata": {},
   "outputs": [],
   "source": []
  },
  {
   "cell_type": "code",
   "execution_count": null,
   "id": "00dabead",
   "metadata": {},
   "outputs": [],
   "source": []
  },
  {
   "cell_type": "code",
   "execution_count": null,
   "id": "67dd336a",
   "metadata": {},
   "outputs": [],
   "source": []
  },
  {
   "cell_type": "code",
   "execution_count": null,
   "id": "5475a272",
   "metadata": {},
   "outputs": [],
   "source": []
  },
  {
   "cell_type": "markdown",
   "id": "00d97ad7",
   "metadata": {},
   "source": [
    "## Spatial libraries \n",
    "> (Note to myself: do GENESIS API first!)"
   ]
  },
  {
   "cell_type": "markdown",
   "id": "61b5f654",
   "metadata": {},
   "source": [
    "The installation procedure of spatial libraries for Python (on Windows) can be quite tedious but [this answer](https://stackoverflow.com/questions/51095970/install-python-geopandas-failed/51560940#51560940) on Stackoverflow (make sure to upvote ;)) and [this detailed instruction](https://geoffboeing.com/2014/09/using-geopandas-windows/) make it straight forward. You can also find the required wheels for Python 3.8 and 64-bit for offline `pip install` in this notebook's [repository](https://github.com/gerwolf/webscraping-workshop/tree/main/DataFrames%20and%20APIs). After this, you can simply `pip install geopandas`."
   ]
  },
  {
   "cell_type": "code",
   "execution_count": null,
   "id": "caea38be",
   "metadata": {},
   "outputs": [],
   "source": [
    "import geopandas as gpd\n",
    "import matplotlib.pyplot as plt\n",
    "plt.rcParams[\"figure.figsize\"] = [16,9]"
   ]
  },
  {
   "cell_type": "code",
   "execution_count": null,
   "id": "f356557f",
   "metadata": {},
   "outputs": [],
   "source": []
  },
  {
   "cell_type": "code",
   "execution_count": null,
   "id": "cf4a78ea",
   "metadata": {},
   "outputs": [],
   "source": []
  },
  {
   "cell_type": "code",
   "execution_count": null,
   "id": "3b25bc07",
   "metadata": {},
   "outputs": [],
   "source": []
  },
  {
   "cell_type": "code",
   "execution_count": null,
   "id": "3c258623",
   "metadata": {},
   "outputs": [],
   "source": []
  },
  {
   "cell_type": "code",
   "execution_count": null,
   "id": "eaeb33b7",
   "metadata": {},
   "outputs": [],
   "source": []
  },
  {
   "cell_type": "code",
   "execution_count": null,
   "id": "d5408903",
   "metadata": {},
   "outputs": [],
   "source": []
  },
  {
   "cell_type": "code",
   "execution_count": null,
   "id": "7dd2707e",
   "metadata": {},
   "outputs": [],
   "source": []
  },
  {
   "cell_type": "code",
   "execution_count": null,
   "id": "ee9ffc3f",
   "metadata": {},
   "outputs": [],
   "source": []
  },
  {
   "cell_type": "code",
   "execution_count": null,
   "id": "45387e8e",
   "metadata": {},
   "outputs": [],
   "source": []
  },
  {
   "cell_type": "markdown",
   "id": "838ac263",
   "metadata": {},
   "source": [
    "## Destatis/GENESIS Online\n",
    "The GENESIS API is the web interface service by the Federal Statistical Office of Germany and is a good place to start learning how to interact programmatically with a server."
   ]
  },
  {
   "cell_type": "markdown",
   "id": "1c20c927",
   "metadata": {},
   "source": [
    "There is a [comprehensive description/introduction](https://www-genesis.destatis.de/genesis/misc/GENESIS-Webservices_Einfuehrung.pdf) on the service, unfortunately in German only. To display the PDF inside Jupyter Notebook in Chrome you may have to enable the [PDF Viewer extension](https://chrome.google.com/webstore/detail/pdf-viewer/oemmndcbldboiebfnladdacbdfmadadm?utm_source=chrome-ntp-icon)."
   ]
  },
  {
   "cell_type": "code",
   "execution_count": 14,
   "id": "56a8769a",
   "metadata": {
    "collapsed": true
   },
   "outputs": [
    {
     "data": {
      "text/html": [
       "\n",
       "        <iframe\n",
       "            width=\"980\"\n",
       "            height=\"800\"\n",
       "            src=\"https://www-genesis.destatis.de/genesis/misc/GENESIS-Webservices_Einfuehrung.pdf\"\n",
       "            frameborder=\"0\"\n",
       "            allowfullscreen\n",
       "        ></iframe>\n",
       "        "
      ],
      "text/plain": [
       "<IPython.lib.display.IFrame at 0x1207a340>"
      ]
     },
     "execution_count": 14,
     "metadata": {},
     "output_type": "execute_result"
    }
   ],
   "source": [
    "from IPython.display import IFrame, display\n",
    "filepath = \"https://www-genesis.destatis.de/genesis/misc/GENESIS-Webservices_Einfuehrung.pdf\"\n",
    "IFrame(filepath, width=980, height=800)"
   ]
  },
  {
   "cell_type": "markdown",
   "id": "6667a14f",
   "metadata": {},
   "source": [
    "Read about the `whoami` method (in Section 2.2). Do you have to authenticate? What does it return? How would you send a `request`?"
   ]
  },
  {
   "cell_type": "code",
   "execution_count": 15,
   "id": "08cfbd00",
   "metadata": {},
   "outputs": [],
   "source": [
    "import Genesis_API\n",
    "import requests"
   ]
  },
  {
   "cell_type": "code",
   "execution_count": 18,
   "id": "b6bd19b7",
   "metadata": {},
   "outputs": [
    {
     "data": {
      "text/plain": [
       "'{\"User-Agent\":\"python-requests/2.25.1\",\"User-IP\":\"87.150.124.246\"}'"
      ]
     },
     "execution_count": 18,
     "metadata": {},
     "output_type": "execute_result"
    }
   ],
   "source": [
    "url = 'https://www-genesis.destatis.de/genesisWS/rest/2020/helloworld/whoami'\n",
    "response = requests.get(url)\n",
    "response.text"
   ]
  },
  {
   "cell_type": "markdown",
   "id": "e16db88e",
   "metadata": {},
   "source": [
    "Read about the `logincheck` method (in Section 2.2). Do you have to authenticate? What does it return? Construct a request object using string formatting, send a `request` (in English language) and print the request's status. What type is the response's `text` attribute?"
   ]
  },
  {
   "cell_type": "code",
   "execution_count": 21,
   "id": "c76d2759",
   "metadata": {},
   "outputs": [],
   "source": [
    "url2 = 'https://www-genesis.destatis.de/genesisWS/rest/2020/helloworld/logincheck?username=' + Genesis_API.username + '&password=' + Genesis_API.password +'&language=en'\n",
    "response2 = requests.get(url2)\n",
    "\n",
    "# alternative way to use string formatting:\n",
    "# url = 'https://www-genesis.destatis.de/genesisWS/rest/2020/helloworld/logincheck?username={}&password={}&language={}'.format(Genesis_API.username, Genesis_API.password, 'en')\n"
   ]
  },
  {
   "cell_type": "code",
   "execution_count": 23,
   "id": "e9d037ef",
   "metadata": {},
   "outputs": [
    {
     "data": {
      "text/plain": [
       "str"
      ]
     },
     "execution_count": 23,
     "metadata": {},
     "output_type": "execute_result"
    }
   ],
   "source": [
    "type(response2.text)"
   ]
  },
  {
   "cell_type": "markdown",
   "id": "0e2eb210",
   "metadata": {},
   "source": [
    "Now that we have a working connection to the GENESIS Online API we want to directly obtain an economic indicator, the private sector's savings rate on a quarterly basis, for instance. This `data` is usually stored in a `table` somewhere in the depths of a data warehouse and it is (unfortunately) necessary to familiarise yourself, at least partially, with the internal server's structure.\n",
    "1. In the documentation file search for the `tablefile` method (under Section 2.5 Data). When should it be used? What does it return?\n",
    "2. Which method should you use if you want to directly obtain a `chart`?\n",
    "3. Which method should you use if you want to directly obtain a regional `map`? Which parameter controls the image's resolution?"
   ]
  },
  {
   "cell_type": "code",
   "execution_count": 53,
   "id": "e584e002",
   "metadata": {},
   "outputs": [],
   "source": [
    "import pandas as pd\n",
    "field = '12411-0010'\n",
    "stand = '31.12.2019'\n",
    "language = 'en'\n",
    "url = 'https://www-genesis.destatis.de/genesisWS/rest/2020/data/map2table?username={}&password={}&name={}&area=all&mapType=0&classes=5&classification=0&zoom=3&startyear=&endyear=&timeslices=&regionalvariable=&regionalkey=&classifyingvariable1=&classifyingkey1=&classifyingvariable2=&classifyingkey2=&classifyingvariable3=&classifyingkey3=&format=png&stand={}&language={}'.format(Genesis_API.username, Genesis_API.password, field, stand, language)\n",
    "response = requests.get(url)\n"
   ]
  },
  {
   "cell_type": "code",
   "execution_count": 54,
   "id": "e07e934e",
   "metadata": {},
   "outputs": [
    {
     "data": {
      "text/plain": [
       "200"
      ]
     },
     "execution_count": 54,
     "metadata": {},
     "output_type": "execute_result"
    }
   ],
   "source": [
    "response.status_code"
   ]
  },
  {
   "cell_type": "code",
   "execution_count": 27,
   "id": "0f0b383d",
   "metadata": {},
   "outputs": [
    {
     "data": {
      "image/png": "[encoded data removed]",
      "text/plain": [
       "<IPython.core.display.Image object>"
      ]
     },
     "execution_count": 27,
     "metadata": {},
     "output_type": "execute_result"
    }
   ],
   "source": [
    "with open(\"map.png\", 'wb') as f:\n",
    "    f.write(response.content)\n",
    "from IPython.display import Image\n",
    "Image(filename='map.png')"
   ]
  },
  {
   "cell_type": "markdown",
   "id": "57138740",
   "metadata": {},
   "source": [
    "4. Login to the [GENESIS Online user interface](https://www-genesis.destatis.de/genesis/online?Menu=Anmeldung#abreadcrumb). Familiarise yourself with the tables' structure and navigate to the National Accounts (at the central level) --> Private sector disposable income and savings at quarterly frequency. Which parameters in the request can you control?\n",
    "5. Which method would you choose if you want to directly obtain a `table` in some machine readable format, e.g. a `.csv` or `.xlsx` that you can read into `pandas`? Which output `formats` can you choose from? How do you include additional conditions matching particular values?\n",
    "6. Construct a `request` which contains the following specification:\n",
    "    - only seasonally and calendar-adjusted values (X13)\n",
    "    - all available years and quarters\n",
    "    - output format should be a `.xlsx` file\n",
    "7. Send the request, but directly through the `pandas.read_excel()` method."
   ]
  },
  {
   "cell_type": "code",
   "execution_count": 28,
   "id": "dd5784a9",
   "metadata": {},
   "outputs": [
    {
     "name": "stdout",
     "output_type": "stream",
     "text": [
      "Collecting openpyxl\n",
      "  Downloading openpyxl-3.0.7-py2.py3-none-any.whl (243 kB)\n",
      "Collecting et-xmlfile\n",
      "  Downloading et_xmlfile-1.0.1.tar.gz (8.4 kB)\n",
      "Building wheels for collected packages: et-xmlfile\n",
      "  Building wheel for et-xmlfile (setup.py): started\n",
      "  Building wheel for et-xmlfile (setup.py): finished with status 'done'\n",
      "  Created wheel for et-xmlfile: filename=et_xmlfile-1.0.1-py3-none-any.whl size=8913 sha256=1be5e4306707012a28cc8a07fcc2068f63c134b38974a8d04a11318436dfc772\n",
      "  Stored in directory: c:\\users\\caroline2\\appdata\\local\\pip\\cache\\wheels\\6e\\df\\38\\abda47b884e3e25f9f9b6430e5ce44c47670758a50c0c51759\n",
      "Successfully built et-xmlfile\n",
      "Installing collected packages: et-xmlfile, openpyxl\n",
      "Successfully installed et-xmlfile-1.0.1 openpyxl-3.0.7\n"
     ]
    }
   ],
   "source": [
    "! pip install openpyxl"
   ]
  },
  {
   "cell_type": "code",
   "execution_count": 55,
   "id": "46ce05ca",
   "metadata": {},
   "outputs": [
    {
     "name": "stderr",
     "output_type": "stream",
     "text": [
      "C:\\ProgramData\\Anaconda3\\envs\\webscraping-course-Apr21\\lib\\site-packages\\openpyxl\\styles\\stylesheet.py:221: UserWarning:\n",
      "\n",
      "Workbook contains no default style, apply openpyxl's default\n",
      "\n"
     ]
    }
   ],
   "source": [
    "import pandas as pd\n",
    "code = '81000-0010'\n",
    "key_1 = 'WERT04'\n",
    "val_1 = 'X13JDKSB'\n",
    "key_2 = ''\n",
    "val_2 = ''\n",
    "key_3 = ''\n",
    "val_3 = ''\n",
    "start_year = '1991'\n",
    "end_year = '2020'\n",
    "\n",
    "url = ('https://www-genesis.destatis.de/genesisWS/rest/2020/data/tablefile?username={}&password={}&name={}&area=DINSG*&compress=false&transpose=false&startyear={}&endyear={}&timeslices=&regionalvariable=&regionalkey=&classifyingvariable1={}&classifyingkey1={}&classifyingvariable2={}&classifyingkey2={}&classifyingvariable3={}&classifyingkey3={}&format=xlsx&job=false&stand=&language=de').format(Genesis_API.username, Genesis_API.password, code, start_year, end_year, key_1, val_1, key_2, val_2, key_3, val_3)\n",
    "df = pd.read_excel(url)"
   ]
  },
  {
   "cell_type": "code",
   "execution_count": 56,
   "id": "30118f53",
   "metadata": {},
   "outputs": [
    {
     "data": {
      "text/html": [
       "<div>\n",
       "<style scoped>\n",
       "    .dataframe tbody tr th:only-of-type {\n",
       "        vertical-align: middle;\n",
       "    }\n",
       "\n",
       "    .dataframe tbody tr th {\n",
       "        vertical-align: top;\n",
       "    }\n",
       "\n",
       "    .dataframe thead th {\n",
       "        text-align: right;\n",
       "    }\n",
       "</style>\n",
       "<table border=\"1\" class=\"dataframe\">\n",
       "  <thead>\n",
       "    <tr style=\"text-align: right;\">\n",
       "      <th></th>\n",
       "      <th>VGR des Bundes - Verfügbares Einkommen, Sparen der privaten Haushalte: Deutschland, Quartale, Original- und bereinigte Daten</th>\n",
       "      <th>Unnamed: 1</th>\n",
       "      <th>Unnamed: 2</th>\n",
       "      <th>Unnamed: 3</th>\n",
       "      <th>Unnamed: 4</th>\n",
       "      <th>Unnamed: 5</th>\n",
       "      <th>Unnamed: 6</th>\n",
       "      <th>Unnamed: 7</th>\n",
       "      <th>Unnamed: 8</th>\n",
       "      <th>Unnamed: 9</th>\n",
       "      <th>...</th>\n",
       "      <th>Unnamed: 112</th>\n",
       "      <th>Unnamed: 113</th>\n",
       "      <th>Unnamed: 114</th>\n",
       "      <th>Unnamed: 115</th>\n",
       "      <th>Unnamed: 116</th>\n",
       "      <th>Unnamed: 117</th>\n",
       "      <th>Unnamed: 118</th>\n",
       "      <th>Unnamed: 119</th>\n",
       "      <th>Unnamed: 120</th>\n",
       "      <th>Unnamed: 121</th>\n",
       "    </tr>\n",
       "  </thead>\n",
       "  <tbody>\n",
       "    <tr>\n",
       "      <th>0</th>\n",
       "      <td>Volkswirtschaftliche Gesamtrechnungen des Bundes</td>\n",
       "      <td>NaN</td>\n",
       "      <td>NaN</td>\n",
       "      <td>NaN</td>\n",
       "      <td>NaN</td>\n",
       "      <td>NaN</td>\n",
       "      <td>NaN</td>\n",
       "      <td>NaN</td>\n",
       "      <td>NaN</td>\n",
       "      <td>NaN</td>\n",
       "      <td>...</td>\n",
       "      <td>NaN</td>\n",
       "      <td>NaN</td>\n",
       "      <td>NaN</td>\n",
       "      <td>NaN</td>\n",
       "      <td>NaN</td>\n",
       "      <td>NaN</td>\n",
       "      <td>NaN</td>\n",
       "      <td>NaN</td>\n",
       "      <td>NaN</td>\n",
       "      <td>NaN</td>\n",
       "    </tr>\n",
       "    <tr>\n",
       "      <th>1</th>\n",
       "      <td>Deutschland</td>\n",
       "      <td>NaN</td>\n",
       "      <td>NaN</td>\n",
       "      <td>NaN</td>\n",
       "      <td>NaN</td>\n",
       "      <td>NaN</td>\n",
       "      <td>NaN</td>\n",
       "      <td>NaN</td>\n",
       "      <td>NaN</td>\n",
       "      <td>NaN</td>\n",
       "      <td>...</td>\n",
       "      <td>NaN</td>\n",
       "      <td>NaN</td>\n",
       "      <td>NaN</td>\n",
       "      <td>NaN</td>\n",
       "      <td>NaN</td>\n",
       "      <td>NaN</td>\n",
       "      <td>NaN</td>\n",
       "      <td>NaN</td>\n",
       "      <td>NaN</td>\n",
       "      <td>NaN</td>\n",
       "    </tr>\n",
       "    <tr>\n",
       "      <th>2</th>\n",
       "      <td>Gegenstand der Nachweisung</td>\n",
       "      <td>Einheit</td>\n",
       "      <td>1991</td>\n",
       "      <td>NaN</td>\n",
       "      <td>NaN</td>\n",
       "      <td>NaN</td>\n",
       "      <td>1992</td>\n",
       "      <td>NaN</td>\n",
       "      <td>NaN</td>\n",
       "      <td>NaN</td>\n",
       "      <td>...</td>\n",
       "      <td>NaN</td>\n",
       "      <td>NaN</td>\n",
       "      <td>2019</td>\n",
       "      <td>NaN</td>\n",
       "      <td>NaN</td>\n",
       "      <td>NaN</td>\n",
       "      <td>2020</td>\n",
       "      <td>NaN</td>\n",
       "      <td>NaN</td>\n",
       "      <td>NaN</td>\n",
       "    </tr>\n",
       "    <tr>\n",
       "      <th>3</th>\n",
       "      <td>NaN</td>\n",
       "      <td>NaN</td>\n",
       "      <td>1. Quartal</td>\n",
       "      <td>2. Quartal</td>\n",
       "      <td>3. Quartal</td>\n",
       "      <td>4. Quartal</td>\n",
       "      <td>1. Quartal</td>\n",
       "      <td>2. Quartal</td>\n",
       "      <td>3. Quartal</td>\n",
       "      <td>4. Quartal</td>\n",
       "      <td>...</td>\n",
       "      <td>3. Quartal</td>\n",
       "      <td>4. Quartal</td>\n",
       "      <td>1. Quartal</td>\n",
       "      <td>2. Quartal</td>\n",
       "      <td>3. Quartal</td>\n",
       "      <td>4. Quartal</td>\n",
       "      <td>1. Quartal</td>\n",
       "      <td>2. Quartal</td>\n",
       "      <td>3. Quartal</td>\n",
       "      <td>4. Quartal</td>\n",
       "    </tr>\n",
       "    <tr>\n",
       "      <th>4</th>\n",
       "      <td>Originalwerte</td>\n",
       "      <td>NaN</td>\n",
       "      <td>NaN</td>\n",
       "      <td>NaN</td>\n",
       "      <td>NaN</td>\n",
       "      <td>NaN</td>\n",
       "      <td>NaN</td>\n",
       "      <td>NaN</td>\n",
       "      <td>NaN</td>\n",
       "      <td>NaN</td>\n",
       "      <td>...</td>\n",
       "      <td>NaN</td>\n",
       "      <td>NaN</td>\n",
       "      <td>NaN</td>\n",
       "      <td>NaN</td>\n",
       "      <td>NaN</td>\n",
       "      <td>NaN</td>\n",
       "      <td>NaN</td>\n",
       "      <td>NaN</td>\n",
       "      <td>NaN</td>\n",
       "      <td>NaN</td>\n",
       "    </tr>\n",
       "    <tr>\n",
       "      <th>5</th>\n",
       "      <td>Arbeitnehmerentgelt (Inländer)</td>\n",
       "      <td>Mrd. EUR</td>\n",
       "      <td>190.197</td>\n",
       "      <td>206.154</td>\n",
       "      <td>212.991</td>\n",
       "      <td>246.469</td>\n",
       "      <td>208.779</td>\n",
       "      <td>220.8</td>\n",
       "      <td>233.986</td>\n",
       "      <td>264.171</td>\n",
       "      <td>...</td>\n",
       "      <td>438.034</td>\n",
       "      <td>487.441</td>\n",
       "      <td>432.29</td>\n",
       "      <td>451.739</td>\n",
       "      <td>457.625</td>\n",
       "      <td>504.284</td>\n",
       "      <td>445.118</td>\n",
       "      <td>437.17</td>\n",
       "      <td>455.087</td>\n",
       "      <td>503.991</td>\n",
       "    </tr>\n",
       "    <tr>\n",
       "      <th>6</th>\n",
       "      <td>- Sozialbeiträge der Arbeitgeber</td>\n",
       "      <td>Mrd. EUR</td>\n",
       "      <td>33.698</td>\n",
       "      <td>37.577</td>\n",
       "      <td>37.874</td>\n",
       "      <td>43.341</td>\n",
       "      <td>37.712</td>\n",
       "      <td>39.515</td>\n",
       "      <td>41.479</td>\n",
       "      <td>46.84</td>\n",
       "      <td>...</td>\n",
       "      <td>76.152</td>\n",
       "      <td>84.304</td>\n",
       "      <td>76.969</td>\n",
       "      <td>80.176</td>\n",
       "      <td>79.488</td>\n",
       "      <td>87.672</td>\n",
       "      <td>79.505</td>\n",
       "      <td>82.147</td>\n",
       "      <td>81.002</td>\n",
       "      <td>89.278</td>\n",
       "    </tr>\n",
       "    <tr>\n",
       "      <th>7</th>\n",
       "      <td>= Bruttolöhne und -gehälter (Inländer)</td>\n",
       "      <td>Mrd. EUR</td>\n",
       "      <td>156.499</td>\n",
       "      <td>168.577</td>\n",
       "      <td>175.117</td>\n",
       "      <td>203.128</td>\n",
       "      <td>171.067</td>\n",
       "      <td>181.285</td>\n",
       "      <td>192.507</td>\n",
       "      <td>217.331</td>\n",
       "      <td>...</td>\n",
       "      <td>361.882</td>\n",
       "      <td>403.137</td>\n",
       "      <td>355.321</td>\n",
       "      <td>371.563</td>\n",
       "      <td>378.137</td>\n",
       "      <td>416.612</td>\n",
       "      <td>365.613</td>\n",
       "      <td>355.023</td>\n",
       "      <td>374.085</td>\n",
       "      <td>414.713</td>\n",
       "    </tr>\n",
       "    <tr>\n",
       "      <th>8</th>\n",
       "      <td>- Abzüge der Arbeitnehmer</td>\n",
       "      <td>Mrd. EUR</td>\n",
       "      <td>42.587</td>\n",
       "      <td>51.168</td>\n",
       "      <td>51.608</td>\n",
       "      <td>65.183</td>\n",
       "      <td>51.255</td>\n",
       "      <td>57.642</td>\n",
       "      <td>57.679</td>\n",
       "      <td>69.453</td>\n",
       "      <td>...</td>\n",
       "      <td>115.362</td>\n",
       "      <td>134.415</td>\n",
       "      <td>116.338</td>\n",
       "      <td>127.828</td>\n",
       "      <td>118.988</td>\n",
       "      <td>138.173</td>\n",
       "      <td>119.88</td>\n",
       "      <td>120.793</td>\n",
       "      <td>115.758</td>\n",
       "      <td>135.828</td>\n",
       "    </tr>\n",
       "    <tr>\n",
       "      <th>9</th>\n",
       "      <td>= Nettolöhne u. -gehälter (Inländer)</td>\n",
       "      <td>Mrd. EUR</td>\n",
       "      <td>113.912</td>\n",
       "      <td>117.409</td>\n",
       "      <td>123.509</td>\n",
       "      <td>137.945</td>\n",
       "      <td>119.812</td>\n",
       "      <td>123.643</td>\n",
       "      <td>134.828</td>\n",
       "      <td>147.878</td>\n",
       "      <td>...</td>\n",
       "      <td>246.52</td>\n",
       "      <td>268.722</td>\n",
       "      <td>238.983</td>\n",
       "      <td>243.735</td>\n",
       "      <td>259.149</td>\n",
       "      <td>278.439</td>\n",
       "      <td>245.733</td>\n",
       "      <td>234.23</td>\n",
       "      <td>258.327</td>\n",
       "      <td>278.885</td>\n",
       "    </tr>\n",
       "    <tr>\n",
       "      <th>10</th>\n",
       "      <td>+ Monetäre Sozialleistungen</td>\n",
       "      <td>Mrd. EUR</td>\n",
       "      <td>63.002</td>\n",
       "      <td>62.71</td>\n",
       "      <td>65.99</td>\n",
       "      <td>66.682</td>\n",
       "      <td>71.139</td>\n",
       "      <td>69.924</td>\n",
       "      <td>72.44</td>\n",
       "      <td>75.981</td>\n",
       "      <td>...</td>\n",
       "      <td>145.568</td>\n",
       "      <td>145.431</td>\n",
       "      <td>150.943</td>\n",
       "      <td>150.059</td>\n",
       "      <td>152.785</td>\n",
       "      <td>152.454</td>\n",
       "      <td>158.878</td>\n",
       "      <td>163.942</td>\n",
       "      <td>166.384</td>\n",
       "      <td>165.253</td>\n",
       "    </tr>\n",
       "    <tr>\n",
       "      <th>11</th>\n",
       "      <td>- Abgaben auf soz. Leist., verbrauchsnahe Ste...</td>\n",
       "      <td>Mrd. EUR</td>\n",
       "      <td>10.023</td>\n",
       "      <td>11.074</td>\n",
       "      <td>11.689</td>\n",
       "      <td>11.055</td>\n",
       "      <td>12.33</td>\n",
       "      <td>12.96</td>\n",
       "      <td>12.473</td>\n",
       "      <td>13.251</td>\n",
       "      <td>...</td>\n",
       "      <td>31.696</td>\n",
       "      <td>32.526</td>\n",
       "      <td>33.174</td>\n",
       "      <td>33.64</td>\n",
       "      <td>33.893</td>\n",
       "      <td>34.693</td>\n",
       "      <td>34.657</td>\n",
       "      <td>34.598</td>\n",
       "      <td>35.775</td>\n",
       "      <td>36.426</td>\n",
       "    </tr>\n",
       "    <tr>\n",
       "      <th>12</th>\n",
       "      <td>= Masseneinkommen (private Haushalte)</td>\n",
       "      <td>Mrd. EUR</td>\n",
       "      <td>166.891</td>\n",
       "      <td>169.045</td>\n",
       "      <td>177.81</td>\n",
       "      <td>193.572</td>\n",
       "      <td>178.621</td>\n",
       "      <td>180.607</td>\n",
       "      <td>194.795</td>\n",
       "      <td>210.608</td>\n",
       "      <td>...</td>\n",
       "      <td>360.392</td>\n",
       "      <td>381.627</td>\n",
       "      <td>356.752</td>\n",
       "      <td>360.154</td>\n",
       "      <td>378.041</td>\n",
       "      <td>396.2</td>\n",
       "      <td>369.954</td>\n",
       "      <td>363.574</td>\n",
       "      <td>388.936</td>\n",
       "      <td>407.712</td>\n",
       "    </tr>\n",
       "    <tr>\n",
       "      <th>13</th>\n",
       "      <td>+ Betriebsübersch./Selbständ.-,Verm.eink. pri...</td>\n",
       "      <td>Mrd. EUR</td>\n",
       "      <td>89.383</td>\n",
       "      <td>88.747</td>\n",
       "      <td>76.862</td>\n",
       "      <td>83.075</td>\n",
       "      <td>99.95</td>\n",
       "      <td>91.401</td>\n",
       "      <td>78.218</td>\n",
       "      <td>84.681</td>\n",
       "      <td>...</td>\n",
       "      <td>137.942</td>\n",
       "      <td>127.073</td>\n",
       "      <td>164.685</td>\n",
       "      <td>149.79</td>\n",
       "      <td>137.37</td>\n",
       "      <td>126.558</td>\n",
       "      <td>166.629</td>\n",
       "      <td>135.796</td>\n",
       "      <td>127.586</td>\n",
       "      <td>115.38</td>\n",
       "    </tr>\n",
       "    <tr>\n",
       "      <th>14</th>\n",
       "      <td>+ Weitere empfangene abzgl. geleistete Transfers</td>\n",
       "      <td>Mrd. EUR</td>\n",
       "      <td>-9.337</td>\n",
       "      <td>-9.801</td>\n",
       "      <td>-10.11</td>\n",
       "      <td>-11.2</td>\n",
       "      <td>-11.143</td>\n",
       "      <td>-10.176</td>\n",
       "      <td>-9.908</td>\n",
       "      <td>-11.167</td>\n",
       "      <td>...</td>\n",
       "      <td>-23.915</td>\n",
       "      <td>-23.975</td>\n",
       "      <td>-26.891</td>\n",
       "      <td>-23.738</td>\n",
       "      <td>-23.471</td>\n",
       "      <td>-25.635</td>\n",
       "      <td>-29.106</td>\n",
       "      <td>-17.387</td>\n",
       "      <td>-21.622</td>\n",
       "      <td>-24.408</td>\n",
       "    </tr>\n",
       "    <tr>\n",
       "      <th>15</th>\n",
       "      <td>= Verfügbares Einkommen der privaten Haushalte</td>\n",
       "      <td>Mrd. EUR</td>\n",
       "      <td>246.937</td>\n",
       "      <td>247.991</td>\n",
       "      <td>244.562</td>\n",
       "      <td>265.447</td>\n",
       "      <td>267.428</td>\n",
       "      <td>261.832</td>\n",
       "      <td>263.105</td>\n",
       "      <td>284.122</td>\n",
       "      <td>...</td>\n",
       "      <td>474.419</td>\n",
       "      <td>484.725</td>\n",
       "      <td>494.546</td>\n",
       "      <td>486.206</td>\n",
       "      <td>491.94</td>\n",
       "      <td>497.123</td>\n",
       "      <td>507.477</td>\n",
       "      <td>481.983</td>\n",
       "      <td>494.9</td>\n",
       "      <td>498.684</td>\n",
       "    </tr>\n",
       "    <tr>\n",
       "      <th>16</th>\n",
       "      <td>nachrichtl.: Verfügb. Einkommen (Verbrauchskz...</td>\n",
       "      <td>Mrd. EUR</td>\n",
       "      <td>283.55</td>\n",
       "      <td>288.263</td>\n",
       "      <td>285.827</td>\n",
       "      <td>314.602</td>\n",
       "      <td>309.507</td>\n",
       "      <td>306.669</td>\n",
       "      <td>309.447</td>\n",
       "      <td>337.886</td>\n",
       "      <td>...</td>\n",
       "      <td>580.254</td>\n",
       "      <td>598.814</td>\n",
       "      <td>604.853</td>\n",
       "      <td>596.705</td>\n",
       "      <td>603.774</td>\n",
       "      <td>617.4</td>\n",
       "      <td>623.483</td>\n",
       "      <td>595.288</td>\n",
       "      <td>614.379</td>\n",
       "      <td>624.579</td>\n",
       "    </tr>\n",
       "    <tr>\n",
       "      <th>17</th>\n",
       "      <td>Zunahme betriebl. Versorg.ansprüche</td>\n",
       "      <td>Mrd. EUR</td>\n",
       "      <td>3.624</td>\n",
       "      <td>3.79</td>\n",
       "      <td>3.847</td>\n",
       "      <td>4.314</td>\n",
       "      <td>4.137</td>\n",
       "      <td>4.226</td>\n",
       "      <td>4.518</td>\n",
       "      <td>4.936</td>\n",
       "      <td>...</td>\n",
       "      <td>14.581</td>\n",
       "      <td>15.875</td>\n",
       "      <td>13.734</td>\n",
       "      <td>14.114</td>\n",
       "      <td>14.112</td>\n",
       "      <td>15.348</td>\n",
       "      <td>13.863</td>\n",
       "      <td>14.05</td>\n",
       "      <td>14.105</td>\n",
       "      <td>15.339</td>\n",
       "    </tr>\n",
       "    <tr>\n",
       "      <th>18</th>\n",
       "      <td>Sparen der privaten Haushalte</td>\n",
       "      <td>Mrd. EUR</td>\n",
       "      <td>40.917</td>\n",
       "      <td>33.011</td>\n",
       "      <td>27.317</td>\n",
       "      <td>30.612</td>\n",
       "      <td>45.121</td>\n",
       "      <td>33.086</td>\n",
       "      <td>30.381</td>\n",
       "      <td>32.217</td>\n",
       "      <td>...</td>\n",
       "      <td>45.641</td>\n",
       "      <td>48.385</td>\n",
       "      <td>73.014</td>\n",
       "      <td>50.995</td>\n",
       "      <td>46.592</td>\n",
       "      <td>49.651</td>\n",
       "      <td>84.545</td>\n",
       "      <td>98.974</td>\n",
       "      <td>67.058</td>\n",
       "      <td>80.525</td>\n",
       "    </tr>\n",
       "    <tr>\n",
       "      <th>19</th>\n",
       "      <td>Bezugsgröße für die Sparquote</td>\n",
       "      <td>Mrd. EUR</td>\n",
       "      <td>250.561</td>\n",
       "      <td>251.781</td>\n",
       "      <td>248.409</td>\n",
       "      <td>269.761</td>\n",
       "      <td>271.565</td>\n",
       "      <td>266.058</td>\n",
       "      <td>267.623</td>\n",
       "      <td>289.058</td>\n",
       "      <td>...</td>\n",
       "      <td>489</td>\n",
       "      <td>500.6</td>\n",
       "      <td>508.28</td>\n",
       "      <td>500.32</td>\n",
       "      <td>506.052</td>\n",
       "      <td>512.471</td>\n",
       "      <td>521.34</td>\n",
       "      <td>496.033</td>\n",
       "      <td>509.005</td>\n",
       "      <td>514.023</td>\n",
       "    </tr>\n",
       "    <tr>\n",
       "      <th>20</th>\n",
       "      <td>Sparquote der privaten Haushalte</td>\n",
       "      <td>Prozent</td>\n",
       "      <td>16.3</td>\n",
       "      <td>13.1</td>\n",
       "      <td>11</td>\n",
       "      <td>11.3</td>\n",
       "      <td>16.6</td>\n",
       "      <td>12.4</td>\n",
       "      <td>11.4</td>\n",
       "      <td>11.1</td>\n",
       "      <td>...</td>\n",
       "      <td>9.3</td>\n",
       "      <td>9.7</td>\n",
       "      <td>14.4</td>\n",
       "      <td>10.2</td>\n",
       "      <td>9.2</td>\n",
       "      <td>9.7</td>\n",
       "      <td>16.2</td>\n",
       "      <td>20</td>\n",
       "      <td>13.2</td>\n",
       "      <td>15.7</td>\n",
       "    </tr>\n",
       "    <tr>\n",
       "      <th>21</th>\n",
       "      <td>X13 JDemetra+  saisonbereinigt</td>\n",
       "      <td>NaN</td>\n",
       "      <td>NaN</td>\n",
       "      <td>NaN</td>\n",
       "      <td>NaN</td>\n",
       "      <td>NaN</td>\n",
       "      <td>NaN</td>\n",
       "      <td>NaN</td>\n",
       "      <td>NaN</td>\n",
       "      <td>NaN</td>\n",
       "      <td>...</td>\n",
       "      <td>NaN</td>\n",
       "      <td>NaN</td>\n",
       "      <td>NaN</td>\n",
       "      <td>NaN</td>\n",
       "      <td>NaN</td>\n",
       "      <td>NaN</td>\n",
       "      <td>NaN</td>\n",
       "      <td>NaN</td>\n",
       "      <td>NaN</td>\n",
       "      <td>NaN</td>\n",
       "    </tr>\n",
       "    <tr>\n",
       "      <th>22</th>\n",
       "      <td>Arbeitnehmerentgelt (Inländer)</td>\n",
       "      <td>Mrd. EUR</td>\n",
       "      <td>206.004</td>\n",
       "      <td>215.187</td>\n",
       "      <td>215.681</td>\n",
       "      <td>218.939</td>\n",
       "      <td>225.651</td>\n",
       "      <td>230.232</td>\n",
       "      <td>236.701</td>\n",
       "      <td>235.151</td>\n",
       "      <td>...</td>\n",
       "      <td>445.995</td>\n",
       "      <td>450.285</td>\n",
       "      <td>454.899</td>\n",
       "      <td>459.159</td>\n",
       "      <td>465.688</td>\n",
       "      <td>466.189</td>\n",
       "      <td>467.956</td>\n",
       "      <td>444.51</td>\n",
       "      <td>462.784</td>\n",
       "      <td>466.119</td>\n",
       "    </tr>\n",
       "    <tr>\n",
       "      <th>23</th>\n",
       "      <td>- Sozialbeiträge der Arbeitgeber</td>\n",
       "      <td>Mrd. EUR</td>\n",
       "      <td>36.61</td>\n",
       "      <td>39.396</td>\n",
       "      <td>38.416</td>\n",
       "      <td>38.068</td>\n",
       "      <td>40.585</td>\n",
       "      <td>41.272</td>\n",
       "      <td>41.939</td>\n",
       "      <td>41.749</td>\n",
       "      <td>...</td>\n",
       "      <td>78.75</td>\n",
       "      <td>78.966</td>\n",
       "      <td>79.471</td>\n",
       "      <td>80.175</td>\n",
       "      <td>82.486</td>\n",
       "      <td>82.17</td>\n",
       "      <td>81.659</td>\n",
       "      <td>82.502</td>\n",
       "      <td>84.131</td>\n",
       "      <td>83.643</td>\n",
       "    </tr>\n",
       "    <tr>\n",
       "      <th>24</th>\n",
       "      <td>= Bruttolöhne und -gehälter (Inländer)</td>\n",
       "      <td>Mrd. EUR</td>\n",
       "      <td>169.394</td>\n",
       "      <td>175.791</td>\n",
       "      <td>177.265</td>\n",
       "      <td>180.871</td>\n",
       "      <td>185.066</td>\n",
       "      <td>188.96</td>\n",
       "      <td>194.762</td>\n",
       "      <td>193.402</td>\n",
       "      <td>...</td>\n",
       "      <td>367.245</td>\n",
       "      <td>371.319</td>\n",
       "      <td>375.428</td>\n",
       "      <td>378.984</td>\n",
       "      <td>383.202</td>\n",
       "      <td>384.019</td>\n",
       "      <td>386.297</td>\n",
       "      <td>362.008</td>\n",
       "      <td>378.653</td>\n",
       "      <td>382.476</td>\n",
       "    </tr>\n",
       "    <tr>\n",
       "      <th>25</th>\n",
       "      <td>- Abzüge der Arbeitnehmer</td>\n",
       "      <td>Mrd. EUR</td>\n",
       "      <td>47.664</td>\n",
       "      <td>51.742</td>\n",
       "      <td>55.031</td>\n",
       "      <td>56.109</td>\n",
       "      <td>57</td>\n",
       "      <td>58.258</td>\n",
       "      <td>61.245</td>\n",
       "      <td>59.526</td>\n",
       "      <td>...</td>\n",
       "      <td>122.15</td>\n",
       "      <td>123.417</td>\n",
       "      <td>123.421</td>\n",
       "      <td>125.073</td>\n",
       "      <td>125.89</td>\n",
       "      <td>126.943</td>\n",
       "      <td>127.244</td>\n",
       "      <td>117.902</td>\n",
       "      <td>122.329</td>\n",
       "      <td>124.784</td>\n",
       "    </tr>\n",
       "    <tr>\n",
       "      <th>26</th>\n",
       "      <td>= Nettolöhne u. -gehälter (Inländer)</td>\n",
       "      <td>Mrd. EUR</td>\n",
       "      <td>121.73</td>\n",
       "      <td>124.049</td>\n",
       "      <td>122.234</td>\n",
       "      <td>124.762</td>\n",
       "      <td>128.066</td>\n",
       "      <td>130.702</td>\n",
       "      <td>133.517</td>\n",
       "      <td>133.876</td>\n",
       "      <td>...</td>\n",
       "      <td>245.095</td>\n",
       "      <td>247.902</td>\n",
       "      <td>252.007</td>\n",
       "      <td>253.911</td>\n",
       "      <td>257.312</td>\n",
       "      <td>257.076</td>\n",
       "      <td>259.053</td>\n",
       "      <td>244.106</td>\n",
       "      <td>256.324</td>\n",
       "      <td>257.692</td>\n",
       "    </tr>\n",
       "    <tr>\n",
       "      <th>27</th>\n",
       "      <td>+ Monetäre Sozialleistungen</td>\n",
       "      <td>Mrd. EUR</td>\n",
       "      <td>61.308</td>\n",
       "      <td>63.933</td>\n",
       "      <td>66.331</td>\n",
       "      <td>66.813</td>\n",
       "      <td>69.449</td>\n",
       "      <td>71.098</td>\n",
       "      <td>72.78</td>\n",
       "      <td>76.157</td>\n",
       "      <td>...</td>\n",
       "      <td>145.477</td>\n",
       "      <td>146.856</td>\n",
       "      <td>148.633</td>\n",
       "      <td>151.025</td>\n",
       "      <td>152.648</td>\n",
       "      <td>153.935</td>\n",
       "      <td>156.604</td>\n",
       "      <td>164.857</td>\n",
       "      <td>166.245</td>\n",
       "      <td>166.75</td>\n",
       "    </tr>\n",
       "    <tr>\n",
       "      <th>28</th>\n",
       "      <td>- Abgaben auf soz. Leist., verbrauchsnahe Ste...</td>\n",
       "      <td>Mrd. EUR</td>\n",
       "      <td>9.699</td>\n",
       "      <td>10.808</td>\n",
       "      <td>12.308</td>\n",
       "      <td>11.026</td>\n",
       "      <td>12.003</td>\n",
       "      <td>12.694</td>\n",
       "      <td>13.094</td>\n",
       "      <td>13.223</td>\n",
       "      <td>...</td>\n",
       "      <td>31.925</td>\n",
       "      <td>32.385</td>\n",
       "      <td>32.991</td>\n",
       "      <td>33.717</td>\n",
       "      <td>34.125</td>\n",
       "      <td>34.568</td>\n",
       "      <td>34.475</td>\n",
       "      <td>34.659</td>\n",
       "      <td>36.013</td>\n",
       "      <td>36.308</td>\n",
       "    </tr>\n",
       "    <tr>\n",
       "      <th>29</th>\n",
       "      <td>= Masseneinkommen (private Haushalte)</td>\n",
       "      <td>Mrd. EUR</td>\n",
       "      <td>173.339</td>\n",
       "      <td>177.174</td>\n",
       "      <td>176.257</td>\n",
       "      <td>180.549</td>\n",
       "      <td>185.512</td>\n",
       "      <td>189.106</td>\n",
       "      <td>193.203</td>\n",
       "      <td>196.81</td>\n",
       "      <td>...</td>\n",
       "      <td>358.647</td>\n",
       "      <td>362.373</td>\n",
       "      <td>367.649</td>\n",
       "      <td>371.219</td>\n",
       "      <td>375.835</td>\n",
       "      <td>376.443</td>\n",
       "      <td>381.182</td>\n",
       "      <td>374.304</td>\n",
       "      <td>386.556</td>\n",
       "      <td>388.134</td>\n",
       "    </tr>\n",
       "    <tr>\n",
       "      <th>30</th>\n",
       "      <td>+ Betriebsübersch./Selbständ.-,Verm.eink. pri...</td>\n",
       "      <td>Mrd. EUR</td>\n",
       "      <td>80.173</td>\n",
       "      <td>85.556</td>\n",
       "      <td>85.25</td>\n",
       "      <td>87.088</td>\n",
       "      <td>90.095</td>\n",
       "      <td>88.514</td>\n",
       "      <td>86.771</td>\n",
       "      <td>88.87</td>\n",
       "      <td>...</td>\n",
       "      <td>142.838</td>\n",
       "      <td>144.816</td>\n",
       "      <td>145.394</td>\n",
       "      <td>145.86</td>\n",
       "      <td>142.717</td>\n",
       "      <td>144.432</td>\n",
       "      <td>147.051</td>\n",
       "      <td>132.592</td>\n",
       "      <td>133.461</td>\n",
       "      <td>132.287</td>\n",
       "    </tr>\n",
       "    <tr>\n",
       "      <th>31</th>\n",
       "      <td>+ Weitere empfangene abzgl. geleistete Transfers</td>\n",
       "      <td>Mrd. EUR</td>\n",
       "      <td>-10.012</td>\n",
       "      <td>-10.393</td>\n",
       "      <td>-11.678</td>\n",
       "      <td>-8.367</td>\n",
       "      <td>-12.017</td>\n",
       "      <td>-11.197</td>\n",
       "      <td>-10.986</td>\n",
       "      <td>-8.194</td>\n",
       "      <td>...</td>\n",
       "      <td>-23.668</td>\n",
       "      <td>-22.765</td>\n",
       "      <td>-26.953</td>\n",
       "      <td>-26.092</td>\n",
       "      <td>-22.968</td>\n",
       "      <td>-23.721</td>\n",
       "      <td>-35.373</td>\n",
       "      <td>-20.793</td>\n",
       "      <td>-18.88</td>\n",
       "      <td>-17.477</td>\n",
       "    </tr>\n",
       "    <tr>\n",
       "      <th>32</th>\n",
       "      <td>= Verfügbares Einkommen der privaten Haushalte</td>\n",
       "      <td>Mrd. EUR</td>\n",
       "      <td>243.5</td>\n",
       "      <td>252.337</td>\n",
       "      <td>249.829</td>\n",
       "      <td>259.27</td>\n",
       "      <td>263.59</td>\n",
       "      <td>266.423</td>\n",
       "      <td>268.988</td>\n",
       "      <td>277.486</td>\n",
       "      <td>...</td>\n",
       "      <td>477.817</td>\n",
       "      <td>484.424</td>\n",
       "      <td>486.09</td>\n",
       "      <td>490.987</td>\n",
       "      <td>495.584</td>\n",
       "      <td>497.154</td>\n",
       "      <td>492.86</td>\n",
       "      <td>486.103</td>\n",
       "      <td>501.137</td>\n",
       "      <td>502.944</td>\n",
       "    </tr>\n",
       "    <tr>\n",
       "      <th>33</th>\n",
       "      <td>nachrichtl.: Verfügb. Einkommen (Verbrauchskz...</td>\n",
       "      <td>Mrd. EUR</td>\n",
       "      <td>282.254</td>\n",
       "      <td>294.476</td>\n",
       "      <td>291.614</td>\n",
       "      <td>303.898</td>\n",
       "      <td>307.984</td>\n",
       "      <td>313.231</td>\n",
       "      <td>315.864</td>\n",
       "      <td>326.43</td>\n",
       "      <td>...</td>\n",
       "      <td>585.966</td>\n",
       "      <td>593.836</td>\n",
       "      <td>597.144</td>\n",
       "      <td>603.213</td>\n",
       "      <td>609.746</td>\n",
       "      <td>612.628</td>\n",
       "      <td>609.52</td>\n",
       "      <td>601.258</td>\n",
       "      <td>622.897</td>\n",
       "      <td>624.055</td>\n",
       "    </tr>\n",
       "    <tr>\n",
       "      <th>34</th>\n",
       "      <td>Zunahme betriebl. Versorg.ansprüche</td>\n",
       "      <td>Mrd. EUR</td>\n",
       "      <td>3.795</td>\n",
       "      <td>3.951</td>\n",
       "      <td>3.896</td>\n",
       "      <td>3.933</td>\n",
       "      <td>4.337</td>\n",
       "      <td>4.403</td>\n",
       "      <td>4.579</td>\n",
       "      <td>4.497</td>\n",
       "      <td>...</td>\n",
       "      <td>14.834</td>\n",
       "      <td>14.842</td>\n",
       "      <td>14.293</td>\n",
       "      <td>14.325</td>\n",
       "      <td>14.352</td>\n",
       "      <td>14.338</td>\n",
       "      <td>14.434</td>\n",
       "      <td>14.264</td>\n",
       "      <td>14.342</td>\n",
       "      <td>14.317</td>\n",
       "    </tr>\n",
       "    <tr>\n",
       "      <th>35</th>\n",
       "      <td>Sparen der privaten Haushalte</td>\n",
       "      <td>Mrd. EUR</td>\n",
       "      <td>31.25</td>\n",
       "      <td>34.941</td>\n",
       "      <td>32.2</td>\n",
       "      <td>33.466</td>\n",
       "      <td>34.528</td>\n",
       "      <td>35.114</td>\n",
       "      <td>35.882</td>\n",
       "      <td>35.28</td>\n",
       "      <td>...</td>\n",
       "      <td>54.463</td>\n",
       "      <td>55.299</td>\n",
       "      <td>53.709</td>\n",
       "      <td>53.944</td>\n",
       "      <td>55.713</td>\n",
       "      <td>56.886</td>\n",
       "      <td>59.381</td>\n",
       "      <td>101.636</td>\n",
       "      <td>78.713</td>\n",
       "      <td>91.372</td>\n",
       "    </tr>\n",
       "    <tr>\n",
       "      <th>36</th>\n",
       "      <td>Bezugsgröße für die Sparquote</td>\n",
       "      <td>Mrd. EUR</td>\n",
       "      <td>247.295</td>\n",
       "      <td>256.288</td>\n",
       "      <td>253.725</td>\n",
       "      <td>263.203</td>\n",
       "      <td>267.927</td>\n",
       "      <td>270.826</td>\n",
       "      <td>273.567</td>\n",
       "      <td>281.983</td>\n",
       "      <td>...</td>\n",
       "      <td>492.651</td>\n",
       "      <td>499.266</td>\n",
       "      <td>500.383</td>\n",
       "      <td>505.312</td>\n",
       "      <td>509.936</td>\n",
       "      <td>511.492</td>\n",
       "      <td>507.294</td>\n",
       "      <td>500.367</td>\n",
       "      <td>515.479</td>\n",
       "      <td>517.261</td>\n",
       "    </tr>\n",
       "    <tr>\n",
       "      <th>37</th>\n",
       "      <td>Sparquote der privaten Haushalte</td>\n",
       "      <td>Prozent</td>\n",
       "      <td>12.6</td>\n",
       "      <td>13.6</td>\n",
       "      <td>12.7</td>\n",
       "      <td>12.7</td>\n",
       "      <td>12.9</td>\n",
       "      <td>13</td>\n",
       "      <td>13.1</td>\n",
       "      <td>12.5</td>\n",
       "      <td>...</td>\n",
       "      <td>11.1</td>\n",
       "      <td>11.1</td>\n",
       "      <td>10.7</td>\n",
       "      <td>10.7</td>\n",
       "      <td>10.9</td>\n",
       "      <td>11.1</td>\n",
       "      <td>11.7</td>\n",
       "      <td>20.3</td>\n",
       "      <td>15.3</td>\n",
       "      <td>17.7</td>\n",
       "    </tr>\n",
       "    <tr>\n",
       "      <th>38</th>\n",
       "      <td>BV4.1 saisonbereinigt</td>\n",
       "      <td>NaN</td>\n",
       "      <td>NaN</td>\n",
       "      <td>NaN</td>\n",
       "      <td>NaN</td>\n",
       "      <td>NaN</td>\n",
       "      <td>NaN</td>\n",
       "      <td>NaN</td>\n",
       "      <td>NaN</td>\n",
       "      <td>NaN</td>\n",
       "      <td>...</td>\n",
       "      <td>NaN</td>\n",
       "      <td>NaN</td>\n",
       "      <td>NaN</td>\n",
       "      <td>NaN</td>\n",
       "      <td>NaN</td>\n",
       "      <td>NaN</td>\n",
       "      <td>NaN</td>\n",
       "      <td>NaN</td>\n",
       "      <td>NaN</td>\n",
       "      <td>NaN</td>\n",
       "    </tr>\n",
       "    <tr>\n",
       "      <th>39</th>\n",
       "      <td>Arbeitnehmerentgelt (Inländer)</td>\n",
       "      <td>Mrd. EUR</td>\n",
       "      <td>207.629</td>\n",
       "      <td>214.096</td>\n",
       "      <td>214.413</td>\n",
       "      <td>219.538</td>\n",
       "      <td>226.056</td>\n",
       "      <td>229.392</td>\n",
       "      <td>235.394</td>\n",
       "      <td>236.469</td>\n",
       "      <td>...</td>\n",
       "      <td>445.355</td>\n",
       "      <td>449.775</td>\n",
       "      <td>453.882</td>\n",
       "      <td>461.762</td>\n",
       "      <td>464.441</td>\n",
       "      <td>465.656</td>\n",
       "      <td>466.217</td>\n",
       "      <td>448.742</td>\n",
       "      <td>461.831</td>\n",
       "      <td>464.623</td>\n",
       "    </tr>\n",
       "    <tr>\n",
       "      <th>40</th>\n",
       "      <td>- Sozialbeiträge der Arbeitgeber</td>\n",
       "      <td>Mrd. EUR</td>\n",
       "      <td>36.35</td>\n",
       "      <td>38.48</td>\n",
       "      <td>38.399</td>\n",
       "      <td>39.395</td>\n",
       "      <td>40.03</td>\n",
       "      <td>40.683</td>\n",
       "      <td>42.088</td>\n",
       "      <td>42.809</td>\n",
       "      <td>...</td>\n",
       "      <td>78.072</td>\n",
       "      <td>79.134</td>\n",
       "      <td>80.643</td>\n",
       "      <td>78.661</td>\n",
       "      <td>81.963</td>\n",
       "      <td>83.044</td>\n",
       "      <td>83.751</td>\n",
       "      <td>79.049</td>\n",
       "      <td>83.919</td>\n",
       "      <td>85.016</td>\n",
       "    </tr>\n",
       "    <tr>\n",
       "      <th>41</th>\n",
       "      <td>= Bruttolöhne und -gehälter (Inländer)</td>\n",
       "      <td>Mrd. EUR</td>\n",
       "      <td>171.279</td>\n",
       "      <td>175.616</td>\n",
       "      <td>176.014</td>\n",
       "      <td>180.143</td>\n",
       "      <td>186.026</td>\n",
       "      <td>188.709</td>\n",
       "      <td>193.306</td>\n",
       "      <td>193.66</td>\n",
       "      <td>...</td>\n",
       "      <td>367.283</td>\n",
       "      <td>370.641</td>\n",
       "      <td>373.239</td>\n",
       "      <td>383.101</td>\n",
       "      <td>382.478</td>\n",
       "      <td>382.612</td>\n",
       "      <td>382.466</td>\n",
       "      <td>369.693</td>\n",
       "      <td>377.912</td>\n",
       "      <td>379.607</td>\n",
       "    </tr>\n",
       "    <tr>\n",
       "      <th>42</th>\n",
       "      <td>- Abzüge der Arbeitnehmer</td>\n",
       "      <td>Mrd. EUR</td>\n",
       "      <td>49.073</td>\n",
       "      <td>52.068</td>\n",
       "      <td>53.729</td>\n",
       "      <td>55.632</td>\n",
       "      <td>57.643</td>\n",
       "      <td>58.688</td>\n",
       "      <td>59.921</td>\n",
       "      <td>59.681</td>\n",
       "      <td>...</td>\n",
       "      <td>122.231</td>\n",
       "      <td>123.008</td>\n",
       "      <td>122.907</td>\n",
       "      <td>126.483</td>\n",
       "      <td>125.896</td>\n",
       "      <td>125.99</td>\n",
       "      <td>125.99</td>\n",
       "      <td>120.574</td>\n",
       "      <td>122.648</td>\n",
       "      <td>123.174</td>\n",
       "    </tr>\n",
       "    <tr>\n",
       "      <th>43</th>\n",
       "      <td>= Nettolöhne u. -gehälter (Inländer)</td>\n",
       "      <td>Mrd. EUR</td>\n",
       "      <td>122.206</td>\n",
       "      <td>123.548</td>\n",
       "      <td>122.285</td>\n",
       "      <td>124.511</td>\n",
       "      <td>128.383</td>\n",
       "      <td>130.021</td>\n",
       "      <td>133.385</td>\n",
       "      <td>133.979</td>\n",
       "      <td>...</td>\n",
       "      <td>245.052</td>\n",
       "      <td>247.633</td>\n",
       "      <td>250.332</td>\n",
       "      <td>256.618</td>\n",
       "      <td>256.582</td>\n",
       "      <td>256.622</td>\n",
       "      <td>256.476</td>\n",
       "      <td>249.119</td>\n",
       "      <td>255.264</td>\n",
       "      <td>256.433</td>\n",
       "    </tr>\n",
       "    <tr>\n",
       "      <th>44</th>\n",
       "      <td>+ Monetäre Sozialleistungen</td>\n",
       "      <td>Mrd. EUR</td>\n",
       "      <td>61.495</td>\n",
       "      <td>64.022</td>\n",
       "      <td>66.187</td>\n",
       "      <td>66.563</td>\n",
       "      <td>69.61</td>\n",
       "      <td>71.397</td>\n",
       "      <td>72.782</td>\n",
       "      <td>75.494</td>\n",
       "      <td>...</td>\n",
       "      <td>145.446</td>\n",
       "      <td>147.189</td>\n",
       "      <td>149.1</td>\n",
       "      <td>150.012</td>\n",
       "      <td>152.325</td>\n",
       "      <td>154.748</td>\n",
       "      <td>157.486</td>\n",
       "      <td>163.235</td>\n",
       "      <td>165.796</td>\n",
       "      <td>167.911</td>\n",
       "    </tr>\n",
       "    <tr>\n",
       "      <th>45</th>\n",
       "      <td>- Abgaben auf soz. Leist., verbrauchsnahe Ste...</td>\n",
       "      <td>Mrd. EUR</td>\n",
       "      <td>9.868</td>\n",
       "      <td>10.692</td>\n",
       "      <td>11.768</td>\n",
       "      <td>11.479</td>\n",
       "      <td>12.106</td>\n",
       "      <td>12.597</td>\n",
       "      <td>12.735</td>\n",
       "      <td>13.532</td>\n",
       "      <td>...</td>\n",
       "      <td>31.951</td>\n",
       "      <td>32.466</td>\n",
       "      <td>33.255</td>\n",
       "      <td>33.099</td>\n",
       "      <td>34.221</td>\n",
       "      <td>34.755</td>\n",
       "      <td>35.023</td>\n",
       "      <td>33.583</td>\n",
       "      <td>36.186</td>\n",
       "      <td>36.566</td>\n",
       "    </tr>\n",
       "    <tr>\n",
       "      <th>46</th>\n",
       "      <td>= Masseneinkommen (private Haushalte)</td>\n",
       "      <td>Mrd. EUR</td>\n",
       "      <td>173.833</td>\n",
       "      <td>176.878</td>\n",
       "      <td>176.704</td>\n",
       "      <td>179.595</td>\n",
       "      <td>185.887</td>\n",
       "      <td>188.821</td>\n",
       "      <td>193.432</td>\n",
       "      <td>195.941</td>\n",
       "      <td>...</td>\n",
       "      <td>358.547</td>\n",
       "      <td>362.356</td>\n",
       "      <td>366.177</td>\n",
       "      <td>373.531</td>\n",
       "      <td>374.686</td>\n",
       "      <td>376.615</td>\n",
       "      <td>378.939</td>\n",
       "      <td>378.771</td>\n",
       "      <td>384.874</td>\n",
       "      <td>387.778</td>\n",
       "    </tr>\n",
       "    <tr>\n",
       "      <th>47</th>\n",
       "      <td>+ Betriebsübersch./Selbständ.-,Verm.eink. pri...</td>\n",
       "      <td>Mrd. EUR</td>\n",
       "      <td>78.893</td>\n",
       "      <td>84.953</td>\n",
       "      <td>86.804</td>\n",
       "      <td>87.648</td>\n",
       "      <td>89.11</td>\n",
       "      <td>87.824</td>\n",
       "      <td>87.947</td>\n",
       "      <td>89.289</td>\n",
       "      <td>...</td>\n",
       "      <td>144.438</td>\n",
       "      <td>145.506</td>\n",
       "      <td>143.306</td>\n",
       "      <td>145.237</td>\n",
       "      <td>145.354</td>\n",
       "      <td>144.754</td>\n",
       "      <td>144.977</td>\n",
       "      <td>131.121</td>\n",
       "      <td>135.879</td>\n",
       "      <td>133.567</td>\n",
       "    </tr>\n",
       "    <tr>\n",
       "      <th>48</th>\n",
       "      <td>+ Weitere empfangene abzgl. geleistete Transfers</td>\n",
       "      <td>Mrd. EUR</td>\n",
       "      <td>-9.096</td>\n",
       "      <td>-10.161</td>\n",
       "      <td>-10.642</td>\n",
       "      <td>-10.598</td>\n",
       "      <td>-10.834</td>\n",
       "      <td>-10.583</td>\n",
       "      <td>-10.492</td>\n",
       "      <td>-10.352</td>\n",
       "      <td>...</td>\n",
       "      <td>-25.132</td>\n",
       "      <td>-23.646</td>\n",
       "      <td>-22.442</td>\n",
       "      <td>-27.63</td>\n",
       "      <td>-25.548</td>\n",
       "      <td>-24.448</td>\n",
       "      <td>-23.427</td>\n",
       "      <td>-22.911</td>\n",
       "      <td>-23.958</td>\n",
       "      <td>-22.206</td>\n",
       "    </tr>\n",
       "    <tr>\n",
       "      <th>49</th>\n",
       "      <td>= Verfügbares Einkommen der privaten Haushalte</td>\n",
       "      <td>Mrd. EUR</td>\n",
       "      <td>243.63</td>\n",
       "      <td>251.67</td>\n",
       "      <td>252.866</td>\n",
       "      <td>256.645</td>\n",
       "      <td>264.163</td>\n",
       "      <td>266.062</td>\n",
       "      <td>270.887</td>\n",
       "      <td>274.878</td>\n",
       "      <td>...</td>\n",
       "      <td>477.853</td>\n",
       "      <td>484.216</td>\n",
       "      <td>487.041</td>\n",
       "      <td>491.138</td>\n",
       "      <td>494.492</td>\n",
       "      <td>496.921</td>\n",
       "      <td>500.489</td>\n",
       "      <td>486.981</td>\n",
       "      <td>496.795</td>\n",
       "      <td>499.139</td>\n",
       "    </tr>\n",
       "    <tr>\n",
       "      <th>50</th>\n",
       "      <td>nachrichtl.: Verfügb. Einkommen (Verbrauchskz...</td>\n",
       "      <td>Mrd. EUR</td>\n",
       "      <td>283.479</td>\n",
       "      <td>293.207</td>\n",
       "      <td>295.156</td>\n",
       "      <td>300.19</td>\n",
       "      <td>309.487</td>\n",
       "      <td>312.245</td>\n",
       "      <td>318.157</td>\n",
       "      <td>323.208</td>\n",
       "      <td>...</td>\n",
       "      <td>586.081</td>\n",
       "      <td>593.46</td>\n",
       "      <td>597.878</td>\n",
       "      <td>603.882</td>\n",
       "      <td>608.653</td>\n",
       "      <td>612.095</td>\n",
       "      <td>616.786</td>\n",
       "      <td>603.012</td>\n",
       "      <td>618.584</td>\n",
       "      <td>619.66</td>\n",
       "    </tr>\n",
       "    <tr>\n",
       "      <th>51</th>\n",
       "      <td>Zunahme betriebl. Versorg.ansprüche</td>\n",
       "      <td>Mrd. EUR</td>\n",
       "      <td>3.859</td>\n",
       "      <td>3.936</td>\n",
       "      <td>3.837</td>\n",
       "      <td>3.862</td>\n",
       "      <td>4.439</td>\n",
       "      <td>4.398</td>\n",
       "      <td>4.504</td>\n",
       "      <td>4.43</td>\n",
       "      <td>...</td>\n",
       "      <td>14.79</td>\n",
       "      <td>14.746</td>\n",
       "      <td>14.396</td>\n",
       "      <td>14.383</td>\n",
       "      <td>14.314</td>\n",
       "      <td>14.249</td>\n",
       "      <td>14.479</td>\n",
       "      <td>14.331</td>\n",
       "      <td>14.316</td>\n",
       "      <td>14.273</td>\n",
       "    </tr>\n",
       "    <tr>\n",
       "      <th>52</th>\n",
       "      <td>Sparen der privaten Haushalte</td>\n",
       "      <td>Mrd. EUR</td>\n",
       "      <td>31.047</td>\n",
       "      <td>33.983</td>\n",
       "      <td>32.986</td>\n",
       "      <td>33.949</td>\n",
       "      <td>35.065</td>\n",
       "      <td>34.271</td>\n",
       "      <td>35.999</td>\n",
       "      <td>35.327</td>\n",
       "      <td>...</td>\n",
       "      <td>54.002</td>\n",
       "      <td>55.401</td>\n",
       "      <td>54.531</td>\n",
       "      <td>53.94</td>\n",
       "      <td>54.846</td>\n",
       "      <td>57.294</td>\n",
       "      <td>65.706</td>\n",
       "      <td>101.832</td>\n",
       "      <td>75.262</td>\n",
       "      <td>88.548</td>\n",
       "    </tr>\n",
       "    <tr>\n",
       "      <th>53</th>\n",
       "      <td>Bezugsgröße für die Sparquote</td>\n",
       "      <td>Mrd. EUR</td>\n",
       "      <td>247.489</td>\n",
       "      <td>255.606</td>\n",
       "      <td>256.703</td>\n",
       "      <td>260.507</td>\n",
       "      <td>268.602</td>\n",
       "      <td>270.46</td>\n",
       "      <td>275.391</td>\n",
       "      <td>279.308</td>\n",
       "      <td>...</td>\n",
       "      <td>492.643</td>\n",
       "      <td>498.962</td>\n",
       "      <td>501.437</td>\n",
       "      <td>505.521</td>\n",
       "      <td>508.806</td>\n",
       "      <td>511.17</td>\n",
       "      <td>514.968</td>\n",
       "      <td>501.312</td>\n",
       "      <td>511.111</td>\n",
       "      <td>513.412</td>\n",
       "    </tr>\n",
       "    <tr>\n",
       "      <th>54</th>\n",
       "      <td>Sparquote der privaten Haushalte</td>\n",
       "      <td>Prozent</td>\n",
       "      <td>12.5</td>\n",
       "      <td>13.3</td>\n",
       "      <td>12.8</td>\n",
       "      <td>13</td>\n",
       "      <td>13.1</td>\n",
       "      <td>12.7</td>\n",
       "      <td>13.1</td>\n",
       "      <td>12.6</td>\n",
       "      <td>...</td>\n",
       "      <td>11</td>\n",
       "      <td>11.1</td>\n",
       "      <td>10.9</td>\n",
       "      <td>10.7</td>\n",
       "      <td>10.8</td>\n",
       "      <td>11.2</td>\n",
       "      <td>12.8</td>\n",
       "      <td>20.3</td>\n",
       "      <td>14.7</td>\n",
       "      <td>17.2</td>\n",
       "    </tr>\n",
       "    <tr>\n",
       "      <th>55</th>\n",
       "      <td>______________</td>\n",
       "      <td>NaN</td>\n",
       "      <td>NaN</td>\n",
       "      <td>NaN</td>\n",
       "      <td>NaN</td>\n",
       "      <td>NaN</td>\n",
       "      <td>NaN</td>\n",
       "      <td>NaN</td>\n",
       "      <td>NaN</td>\n",
       "      <td>NaN</td>\n",
       "      <td>...</td>\n",
       "      <td>NaN</td>\n",
       "      <td>NaN</td>\n",
       "      <td>NaN</td>\n",
       "      <td>NaN</td>\n",
       "      <td>NaN</td>\n",
       "      <td>NaN</td>\n",
       "      <td>NaN</td>\n",
       "      <td>NaN</td>\n",
       "      <td>NaN</td>\n",
       "      <td>NaN</td>\n",
       "    </tr>\n",
       "    <tr>\n",
       "      <th>56</th>\n",
       "      <td>Private Haushalte:</td>\n",
       "      <td>NaN</td>\n",
       "      <td>NaN</td>\n",
       "      <td>NaN</td>\n",
       "      <td>NaN</td>\n",
       "      <td>NaN</td>\n",
       "      <td>NaN</td>\n",
       "      <td>NaN</td>\n",
       "      <td>NaN</td>\n",
       "      <td>NaN</td>\n",
       "      <td>...</td>\n",
       "      <td>NaN</td>\n",
       "      <td>NaN</td>\n",
       "      <td>NaN</td>\n",
       "      <td>NaN</td>\n",
       "      <td>NaN</td>\n",
       "      <td>NaN</td>\n",
       "      <td>NaN</td>\n",
       "      <td>NaN</td>\n",
       "      <td>NaN</td>\n",
       "      <td>NaN</td>\n",
       "    </tr>\n",
       "    <tr>\n",
       "      <th>57</th>\n",
       "      <td>Einschließlich privater Organisationen ohne Er...</td>\n",
       "      <td>NaN</td>\n",
       "      <td>NaN</td>\n",
       "      <td>NaN</td>\n",
       "      <td>NaN</td>\n",
       "      <td>NaN</td>\n",
       "      <td>NaN</td>\n",
       "      <td>NaN</td>\n",
       "      <td>NaN</td>\n",
       "      <td>NaN</td>\n",
       "      <td>...</td>\n",
       "      <td>NaN</td>\n",
       "      <td>NaN</td>\n",
       "      <td>NaN</td>\n",
       "      <td>NaN</td>\n",
       "      <td>NaN</td>\n",
       "      <td>NaN</td>\n",
       "      <td>NaN</td>\n",
       "      <td>NaN</td>\n",
       "      <td>NaN</td>\n",
       "      <td>NaN</td>\n",
       "    </tr>\n",
       "    <tr>\n",
       "      <th>58</th>\n",
       "      <td>© Statistisches Bundesamt (Destatis), 2021 | S...</td>\n",
       "      <td>NaN</td>\n",
       "      <td>NaN</td>\n",
       "      <td>NaN</td>\n",
       "      <td>NaN</td>\n",
       "      <td>NaN</td>\n",
       "      <td>NaN</td>\n",
       "      <td>NaN</td>\n",
       "      <td>NaN</td>\n",
       "      <td>NaN</td>\n",
       "      <td>...</td>\n",
       "      <td>NaN</td>\n",
       "      <td>NaN</td>\n",
       "      <td>NaN</td>\n",
       "      <td>NaN</td>\n",
       "      <td>NaN</td>\n",
       "      <td>NaN</td>\n",
       "      <td>NaN</td>\n",
       "      <td>NaN</td>\n",
       "      <td>NaN</td>\n",
       "      <td>NaN</td>\n",
       "    </tr>\n",
       "  </tbody>\n",
       "</table>\n",
       "<p>59 rows × 122 columns</p>\n",
       "</div>"
      ],
      "text/plain": [
       "   VGR des Bundes - Verfügbares Einkommen, Sparen der privaten Haushalte: Deutschland, Quartale, Original- und bereinigte Daten  \\\n",
       "0    Volkswirtschaftliche Gesamtrechnungen des Bundes                                                                             \n",
       "1                                         Deutschland                                                                             \n",
       "2                          Gegenstand der Nachweisung                                                                             \n",
       "3                                                 NaN                                                                             \n",
       "4                                       Originalwerte                                                                             \n",
       "5                      Arbeitnehmerentgelt (Inländer)                                                                             \n",
       "6                    - Sozialbeiträge der Arbeitgeber                                                                             \n",
       "7              = Bruttolöhne und -gehälter (Inländer)                                                                             \n",
       "8                           - Abzüge der Arbeitnehmer                                                                             \n",
       "9                = Nettolöhne u. -gehälter (Inländer)                                                                             \n",
       "10                        + Monetäre Sozialleistungen                                                                             \n",
       "11   - Abgaben auf soz. Leist., verbrauchsnahe Ste...                                                                             \n",
       "12              = Masseneinkommen (private Haushalte)                                                                             \n",
       "13   + Betriebsübersch./Selbständ.-,Verm.eink. pri...                                                                             \n",
       "14   + Weitere empfangene abzgl. geleistete Transfers                                                                             \n",
       "15     = Verfügbares Einkommen der privaten Haushalte                                                                             \n",
       "16   nachrichtl.: Verfügb. Einkommen (Verbrauchskz...                                                                             \n",
       "17                Zunahme betriebl. Versorg.ansprüche                                                                             \n",
       "18                      Sparen der privaten Haushalte                                                                             \n",
       "19                      Bezugsgröße für die Sparquote                                                                             \n",
       "20                   Sparquote der privaten Haushalte                                                                             \n",
       "21                     X13 JDemetra+  saisonbereinigt                                                                             \n",
       "22                     Arbeitnehmerentgelt (Inländer)                                                                             \n",
       "23                   - Sozialbeiträge der Arbeitgeber                                                                             \n",
       "24             = Bruttolöhne und -gehälter (Inländer)                                                                             \n",
       "25                          - Abzüge der Arbeitnehmer                                                                             \n",
       "26               = Nettolöhne u. -gehälter (Inländer)                                                                             \n",
       "27                        + Monetäre Sozialleistungen                                                                             \n",
       "28   - Abgaben auf soz. Leist., verbrauchsnahe Ste...                                                                             \n",
       "29              = Masseneinkommen (private Haushalte)                                                                             \n",
       "30   + Betriebsübersch./Selbständ.-,Verm.eink. pri...                                                                             \n",
       "31   + Weitere empfangene abzgl. geleistete Transfers                                                                             \n",
       "32     = Verfügbares Einkommen der privaten Haushalte                                                                             \n",
       "33   nachrichtl.: Verfügb. Einkommen (Verbrauchskz...                                                                             \n",
       "34                Zunahme betriebl. Versorg.ansprüche                                                                             \n",
       "35                      Sparen der privaten Haushalte                                                                             \n",
       "36                      Bezugsgröße für die Sparquote                                                                             \n",
       "37                   Sparquote der privaten Haushalte                                                                             \n",
       "38                              BV4.1 saisonbereinigt                                                                             \n",
       "39                     Arbeitnehmerentgelt (Inländer)                                                                             \n",
       "40                   - Sozialbeiträge der Arbeitgeber                                                                             \n",
       "41             = Bruttolöhne und -gehälter (Inländer)                                                                             \n",
       "42                          - Abzüge der Arbeitnehmer                                                                             \n",
       "43               = Nettolöhne u. -gehälter (Inländer)                                                                             \n",
       "44                        + Monetäre Sozialleistungen                                                                             \n",
       "45   - Abgaben auf soz. Leist., verbrauchsnahe Ste...                                                                             \n",
       "46              = Masseneinkommen (private Haushalte)                                                                             \n",
       "47   + Betriebsübersch./Selbständ.-,Verm.eink. pri...                                                                             \n",
       "48   + Weitere empfangene abzgl. geleistete Transfers                                                                             \n",
       "49     = Verfügbares Einkommen der privaten Haushalte                                                                             \n",
       "50   nachrichtl.: Verfügb. Einkommen (Verbrauchskz...                                                                             \n",
       "51                Zunahme betriebl. Versorg.ansprüche                                                                             \n",
       "52                      Sparen der privaten Haushalte                                                                             \n",
       "53                      Bezugsgröße für die Sparquote                                                                             \n",
       "54                   Sparquote der privaten Haushalte                                                                             \n",
       "55                                     ______________                                                                             \n",
       "56                                 Private Haushalte:                                                                             \n",
       "57  Einschließlich privater Organisationen ohne Er...                                                                             \n",
       "58  © Statistisches Bundesamt (Destatis), 2021 | S...                                                                             \n",
       "\n",
       "   Unnamed: 1  Unnamed: 2  Unnamed: 3  Unnamed: 4  Unnamed: 5  Unnamed: 6  \\\n",
       "0         NaN         NaN         NaN         NaN         NaN         NaN   \n",
       "1         NaN         NaN         NaN         NaN         NaN         NaN   \n",
       "2     Einheit        1991         NaN         NaN         NaN        1992   \n",
       "3         NaN  1. Quartal  2. Quartal  3. Quartal  4. Quartal  1. Quartal   \n",
       "4         NaN         NaN         NaN         NaN         NaN         NaN   \n",
       "5    Mrd. EUR     190.197     206.154     212.991     246.469     208.779   \n",
       "6    Mrd. EUR      33.698      37.577      37.874      43.341      37.712   \n",
       "7    Mrd. EUR     156.499     168.577     175.117     203.128     171.067   \n",
       "8    Mrd. EUR      42.587      51.168      51.608      65.183      51.255   \n",
       "9    Mrd. EUR     113.912     117.409     123.509     137.945     119.812   \n",
       "10   Mrd. EUR      63.002       62.71       65.99      66.682      71.139   \n",
       "11   Mrd. EUR      10.023      11.074      11.689      11.055       12.33   \n",
       "12   Mrd. EUR     166.891     169.045      177.81     193.572     178.621   \n",
       "13   Mrd. EUR      89.383      88.747      76.862      83.075       99.95   \n",
       "14   Mrd. EUR      -9.337      -9.801      -10.11       -11.2     -11.143   \n",
       "15   Mrd. EUR     246.937     247.991     244.562     265.447     267.428   \n",
       "16   Mrd. EUR      283.55     288.263     285.827     314.602     309.507   \n",
       "17   Mrd. EUR       3.624        3.79       3.847       4.314       4.137   \n",
       "18   Mrd. EUR      40.917      33.011      27.317      30.612      45.121   \n",
       "19   Mrd. EUR     250.561     251.781     248.409     269.761     271.565   \n",
       "20    Prozent        16.3        13.1          11        11.3        16.6   \n",
       "21        NaN         NaN         NaN         NaN         NaN         NaN   \n",
       "22   Mrd. EUR     206.004     215.187     215.681     218.939     225.651   \n",
       "23   Mrd. EUR       36.61      39.396      38.416      38.068      40.585   \n",
       "24   Mrd. EUR     169.394     175.791     177.265     180.871     185.066   \n",
       "25   Mrd. EUR      47.664      51.742      55.031      56.109          57   \n",
       "26   Mrd. EUR      121.73     124.049     122.234     124.762     128.066   \n",
       "27   Mrd. EUR      61.308      63.933      66.331      66.813      69.449   \n",
       "28   Mrd. EUR       9.699      10.808      12.308      11.026      12.003   \n",
       "29   Mrd. EUR     173.339     177.174     176.257     180.549     185.512   \n",
       "30   Mrd. EUR      80.173      85.556       85.25      87.088      90.095   \n",
       "31   Mrd. EUR     -10.012     -10.393     -11.678      -8.367     -12.017   \n",
       "32   Mrd. EUR       243.5     252.337     249.829      259.27      263.59   \n",
       "33   Mrd. EUR     282.254     294.476     291.614     303.898     307.984   \n",
       "34   Mrd. EUR       3.795       3.951       3.896       3.933       4.337   \n",
       "35   Mrd. EUR       31.25      34.941        32.2      33.466      34.528   \n",
       "36   Mrd. EUR     247.295     256.288     253.725     263.203     267.927   \n",
       "37    Prozent        12.6        13.6        12.7        12.7        12.9   \n",
       "38        NaN         NaN         NaN         NaN         NaN         NaN   \n",
       "39   Mrd. EUR     207.629     214.096     214.413     219.538     226.056   \n",
       "40   Mrd. EUR       36.35       38.48      38.399      39.395       40.03   \n",
       "41   Mrd. EUR     171.279     175.616     176.014     180.143     186.026   \n",
       "42   Mrd. EUR      49.073      52.068      53.729      55.632      57.643   \n",
       "43   Mrd. EUR     122.206     123.548     122.285     124.511     128.383   \n",
       "44   Mrd. EUR      61.495      64.022      66.187      66.563       69.61   \n",
       "45   Mrd. EUR       9.868      10.692      11.768      11.479      12.106   \n",
       "46   Mrd. EUR     173.833     176.878     176.704     179.595     185.887   \n",
       "47   Mrd. EUR      78.893      84.953      86.804      87.648       89.11   \n",
       "48   Mrd. EUR      -9.096     -10.161     -10.642     -10.598     -10.834   \n",
       "49   Mrd. EUR      243.63      251.67     252.866     256.645     264.163   \n",
       "50   Mrd. EUR     283.479     293.207     295.156      300.19     309.487   \n",
       "51   Mrd. EUR       3.859       3.936       3.837       3.862       4.439   \n",
       "52   Mrd. EUR      31.047      33.983      32.986      33.949      35.065   \n",
       "53   Mrd. EUR     247.489     255.606     256.703     260.507     268.602   \n",
       "54    Prozent        12.5        13.3        12.8          13        13.1   \n",
       "55        NaN         NaN         NaN         NaN         NaN         NaN   \n",
       "56        NaN         NaN         NaN         NaN         NaN         NaN   \n",
       "57        NaN         NaN         NaN         NaN         NaN         NaN   \n",
       "58        NaN         NaN         NaN         NaN         NaN         NaN   \n",
       "\n",
       "    Unnamed: 7  Unnamed: 8  Unnamed: 9  ... Unnamed: 112 Unnamed: 113  \\\n",
       "0          NaN         NaN         NaN  ...          NaN          NaN   \n",
       "1          NaN         NaN         NaN  ...          NaN          NaN   \n",
       "2          NaN         NaN         NaN  ...          NaN          NaN   \n",
       "3   2. Quartal  3. Quartal  4. Quartal  ...   3. Quartal   4. Quartal   \n",
       "4          NaN         NaN         NaN  ...          NaN          NaN   \n",
       "5        220.8     233.986     264.171  ...      438.034      487.441   \n",
       "6       39.515      41.479       46.84  ...       76.152       84.304   \n",
       "7      181.285     192.507     217.331  ...      361.882      403.137   \n",
       "8       57.642      57.679      69.453  ...      115.362      134.415   \n",
       "9      123.643     134.828     147.878  ...       246.52      268.722   \n",
       "10      69.924       72.44      75.981  ...      145.568      145.431   \n",
       "11       12.96      12.473      13.251  ...       31.696       32.526   \n",
       "12     180.607     194.795     210.608  ...      360.392      381.627   \n",
       "13      91.401      78.218      84.681  ...      137.942      127.073   \n",
       "14     -10.176      -9.908     -11.167  ...      -23.915      -23.975   \n",
       "15     261.832     263.105     284.122  ...      474.419      484.725   \n",
       "16     306.669     309.447     337.886  ...      580.254      598.814   \n",
       "17       4.226       4.518       4.936  ...       14.581       15.875   \n",
       "18      33.086      30.381      32.217  ...       45.641       48.385   \n",
       "19     266.058     267.623     289.058  ...          489        500.6   \n",
       "20        12.4        11.4        11.1  ...          9.3          9.7   \n",
       "21         NaN         NaN         NaN  ...          NaN          NaN   \n",
       "22     230.232     236.701     235.151  ...      445.995      450.285   \n",
       "23      41.272      41.939      41.749  ...        78.75       78.966   \n",
       "24      188.96     194.762     193.402  ...      367.245      371.319   \n",
       "25      58.258      61.245      59.526  ...       122.15      123.417   \n",
       "26     130.702     133.517     133.876  ...      245.095      247.902   \n",
       "27      71.098       72.78      76.157  ...      145.477      146.856   \n",
       "28      12.694      13.094      13.223  ...       31.925       32.385   \n",
       "29     189.106     193.203      196.81  ...      358.647      362.373   \n",
       "30      88.514      86.771       88.87  ...      142.838      144.816   \n",
       "31     -11.197     -10.986      -8.194  ...      -23.668      -22.765   \n",
       "32     266.423     268.988     277.486  ...      477.817      484.424   \n",
       "33     313.231     315.864      326.43  ...      585.966      593.836   \n",
       "34       4.403       4.579       4.497  ...       14.834       14.842   \n",
       "35      35.114      35.882       35.28  ...       54.463       55.299   \n",
       "36     270.826     273.567     281.983  ...      492.651      499.266   \n",
       "37          13        13.1        12.5  ...         11.1         11.1   \n",
       "38         NaN         NaN         NaN  ...          NaN          NaN   \n",
       "39     229.392     235.394     236.469  ...      445.355      449.775   \n",
       "40      40.683      42.088      42.809  ...       78.072       79.134   \n",
       "41     188.709     193.306      193.66  ...      367.283      370.641   \n",
       "42      58.688      59.921      59.681  ...      122.231      123.008   \n",
       "43     130.021     133.385     133.979  ...      245.052      247.633   \n",
       "44      71.397      72.782      75.494  ...      145.446      147.189   \n",
       "45      12.597      12.735      13.532  ...       31.951       32.466   \n",
       "46     188.821     193.432     195.941  ...      358.547      362.356   \n",
       "47      87.824      87.947      89.289  ...      144.438      145.506   \n",
       "48     -10.583     -10.492     -10.352  ...      -25.132      -23.646   \n",
       "49     266.062     270.887     274.878  ...      477.853      484.216   \n",
       "50     312.245     318.157     323.208  ...      586.081       593.46   \n",
       "51       4.398       4.504        4.43  ...        14.79       14.746   \n",
       "52      34.271      35.999      35.327  ...       54.002       55.401   \n",
       "53      270.46     275.391     279.308  ...      492.643      498.962   \n",
       "54        12.7        13.1        12.6  ...           11         11.1   \n",
       "55         NaN         NaN         NaN  ...          NaN          NaN   \n",
       "56         NaN         NaN         NaN  ...          NaN          NaN   \n",
       "57         NaN         NaN         NaN  ...          NaN          NaN   \n",
       "58         NaN         NaN         NaN  ...          NaN          NaN   \n",
       "\n",
       "   Unnamed: 114 Unnamed: 115 Unnamed: 116 Unnamed: 117 Unnamed: 118  \\\n",
       "0           NaN          NaN          NaN          NaN          NaN   \n",
       "1           NaN          NaN          NaN          NaN          NaN   \n",
       "2          2019          NaN          NaN          NaN         2020   \n",
       "3    1. Quartal   2. Quartal   3. Quartal   4. Quartal   1. Quartal   \n",
       "4           NaN          NaN          NaN          NaN          NaN   \n",
       "5        432.29      451.739      457.625      504.284      445.118   \n",
       "6        76.969       80.176       79.488       87.672       79.505   \n",
       "7       355.321      371.563      378.137      416.612      365.613   \n",
       "8       116.338      127.828      118.988      138.173       119.88   \n",
       "9       238.983      243.735      259.149      278.439      245.733   \n",
       "10      150.943      150.059      152.785      152.454      158.878   \n",
       "11       33.174        33.64       33.893       34.693       34.657   \n",
       "12      356.752      360.154      378.041        396.2      369.954   \n",
       "13      164.685       149.79       137.37      126.558      166.629   \n",
       "14      -26.891      -23.738      -23.471      -25.635      -29.106   \n",
       "15      494.546      486.206       491.94      497.123      507.477   \n",
       "16      604.853      596.705      603.774        617.4      623.483   \n",
       "17       13.734       14.114       14.112       15.348       13.863   \n",
       "18       73.014       50.995       46.592       49.651       84.545   \n",
       "19       508.28       500.32      506.052      512.471       521.34   \n",
       "20         14.4         10.2          9.2          9.7         16.2   \n",
       "21          NaN          NaN          NaN          NaN          NaN   \n",
       "22      454.899      459.159      465.688      466.189      467.956   \n",
       "23       79.471       80.175       82.486        82.17       81.659   \n",
       "24      375.428      378.984      383.202      384.019      386.297   \n",
       "25      123.421      125.073       125.89      126.943      127.244   \n",
       "26      252.007      253.911      257.312      257.076      259.053   \n",
       "27      148.633      151.025      152.648      153.935      156.604   \n",
       "28       32.991       33.717       34.125       34.568       34.475   \n",
       "29      367.649      371.219      375.835      376.443      381.182   \n",
       "30      145.394       145.86      142.717      144.432      147.051   \n",
       "31      -26.953      -26.092      -22.968      -23.721      -35.373   \n",
       "32       486.09      490.987      495.584      497.154       492.86   \n",
       "33      597.144      603.213      609.746      612.628       609.52   \n",
       "34       14.293       14.325       14.352       14.338       14.434   \n",
       "35       53.709       53.944       55.713       56.886       59.381   \n",
       "36      500.383      505.312      509.936      511.492      507.294   \n",
       "37         10.7         10.7         10.9         11.1         11.7   \n",
       "38          NaN          NaN          NaN          NaN          NaN   \n",
       "39      453.882      461.762      464.441      465.656      466.217   \n",
       "40       80.643       78.661       81.963       83.044       83.751   \n",
       "41      373.239      383.101      382.478      382.612      382.466   \n",
       "42      122.907      126.483      125.896       125.99       125.99   \n",
       "43      250.332      256.618      256.582      256.622      256.476   \n",
       "44        149.1      150.012      152.325      154.748      157.486   \n",
       "45       33.255       33.099       34.221       34.755       35.023   \n",
       "46      366.177      373.531      374.686      376.615      378.939   \n",
       "47      143.306      145.237      145.354      144.754      144.977   \n",
       "48      -22.442       -27.63      -25.548      -24.448      -23.427   \n",
       "49      487.041      491.138      494.492      496.921      500.489   \n",
       "50      597.878      603.882      608.653      612.095      616.786   \n",
       "51       14.396       14.383       14.314       14.249       14.479   \n",
       "52       54.531        53.94       54.846       57.294       65.706   \n",
       "53      501.437      505.521      508.806       511.17      514.968   \n",
       "54         10.9         10.7         10.8         11.2         12.8   \n",
       "55          NaN          NaN          NaN          NaN          NaN   \n",
       "56          NaN          NaN          NaN          NaN          NaN   \n",
       "57          NaN          NaN          NaN          NaN          NaN   \n",
       "58          NaN          NaN          NaN          NaN          NaN   \n",
       "\n",
       "   Unnamed: 119 Unnamed: 120 Unnamed: 121  \n",
       "0           NaN          NaN          NaN  \n",
       "1           NaN          NaN          NaN  \n",
       "2           NaN          NaN          NaN  \n",
       "3    2. Quartal   3. Quartal   4. Quartal  \n",
       "4           NaN          NaN          NaN  \n",
       "5        437.17      455.087      503.991  \n",
       "6        82.147       81.002       89.278  \n",
       "7       355.023      374.085      414.713  \n",
       "8       120.793      115.758      135.828  \n",
       "9        234.23      258.327      278.885  \n",
       "10      163.942      166.384      165.253  \n",
       "11       34.598       35.775       36.426  \n",
       "12      363.574      388.936      407.712  \n",
       "13      135.796      127.586       115.38  \n",
       "14      -17.387      -21.622      -24.408  \n",
       "15      481.983        494.9      498.684  \n",
       "16      595.288      614.379      624.579  \n",
       "17        14.05       14.105       15.339  \n",
       "18       98.974       67.058       80.525  \n",
       "19      496.033      509.005      514.023  \n",
       "20           20         13.2         15.7  \n",
       "21          NaN          NaN          NaN  \n",
       "22       444.51      462.784      466.119  \n",
       "23       82.502       84.131       83.643  \n",
       "24      362.008      378.653      382.476  \n",
       "25      117.902      122.329      124.784  \n",
       "26      244.106      256.324      257.692  \n",
       "27      164.857      166.245       166.75  \n",
       "28       34.659       36.013       36.308  \n",
       "29      374.304      386.556      388.134  \n",
       "30      132.592      133.461      132.287  \n",
       "31      -20.793       -18.88      -17.477  \n",
       "32      486.103      501.137      502.944  \n",
       "33      601.258      622.897      624.055  \n",
       "34       14.264       14.342       14.317  \n",
       "35      101.636       78.713       91.372  \n",
       "36      500.367      515.479      517.261  \n",
       "37         20.3         15.3         17.7  \n",
       "38          NaN          NaN          NaN  \n",
       "39      448.742      461.831      464.623  \n",
       "40       79.049       83.919       85.016  \n",
       "41      369.693      377.912      379.607  \n",
       "42      120.574      122.648      123.174  \n",
       "43      249.119      255.264      256.433  \n",
       "44      163.235      165.796      167.911  \n",
       "45       33.583       36.186       36.566  \n",
       "46      378.771      384.874      387.778  \n",
       "47      131.121      135.879      133.567  \n",
       "48      -22.911      -23.958      -22.206  \n",
       "49      486.981      496.795      499.139  \n",
       "50      603.012      618.584       619.66  \n",
       "51       14.331       14.316       14.273  \n",
       "52      101.832       75.262       88.548  \n",
       "53      501.312      511.111      513.412  \n",
       "54         20.3         14.7         17.2  \n",
       "55          NaN          NaN          NaN  \n",
       "56          NaN          NaN          NaN  \n",
       "57          NaN          NaN          NaN  \n",
       "58          NaN          NaN          NaN  \n",
       "\n",
       "[59 rows x 122 columns]"
      ]
     },
     "execution_count": 56,
     "metadata": {},
     "output_type": "execute_result"
    }
   ],
   "source": [
    "df"
   ]
  },
  {
   "cell_type": "code",
   "execution_count": 61,
   "id": "1936e472",
   "metadata": {},
   "outputs": [
    {
     "ename": "NameError",
     "evalue": "name 'np' is not defined",
     "output_type": "error",
     "traceback": [
      "\u001b[1;31m---------------------------------------------------------------------------\u001b[0m",
      "\u001b[1;31mNameError\u001b[0m                                 Traceback (most recent call last)",
      "\u001b[1;32m<ipython-input-61-d30cbd1f619e>\u001b[0m in \u001b[0;36m<module>\u001b[1;34m\u001b[0m\n\u001b[0;32m      8\u001b[0m \u001b[0mdf\u001b[0m\u001b[1;33m[\u001b[0m\u001b[1;34m'Quarter'\u001b[0m\u001b[1;33m]\u001b[0m \u001b[1;33m=\u001b[0m \u001b[0mdf\u001b[0m\u001b[1;33m[\u001b[0m\u001b[1;34m'Quarter'\u001b[0m\u001b[1;33m]\u001b[0m\u001b[1;33m.\u001b[0m\u001b[0mreplace\u001b[0m\u001b[1;33m(\u001b[0m\u001b[1;34m'3. Quartal'\u001b[0m\u001b[1;33m,\u001b[0m \u001b[1;34m'Q3'\u001b[0m\u001b[1;33m)\u001b[0m\u001b[1;33m\u001b[0m\u001b[1;33m\u001b[0m\u001b[0m\n\u001b[0;32m      9\u001b[0m \u001b[0mdf\u001b[0m\u001b[1;33m[\u001b[0m\u001b[1;34m'Quarter'\u001b[0m\u001b[1;33m]\u001b[0m \u001b[1;33m=\u001b[0m \u001b[0mdf\u001b[0m\u001b[1;33m[\u001b[0m\u001b[1;34m'Quarter'\u001b[0m\u001b[1;33m]\u001b[0m\u001b[1;33m.\u001b[0m\u001b[0mreplace\u001b[0m\u001b[1;33m(\u001b[0m\u001b[1;34m'4. Quartal'\u001b[0m\u001b[1;33m,\u001b[0m \u001b[1;34m'Q4'\u001b[0m\u001b[1;33m)\u001b[0m\u001b[1;33m\u001b[0m\u001b[1;33m\u001b[0m\u001b[0m\n\u001b[1;32m---> 10\u001b[1;33m \u001b[0mdf\u001b[0m\u001b[1;33m[\u001b[0m\u001b[1;34m'Rate'\u001b[0m\u001b[1;33m]\u001b[0m \u001b[1;33m=\u001b[0m \u001b[0mdf\u001b[0m\u001b[1;33m[\u001b[0m\u001b[1;34m'Rate'\u001b[0m\u001b[1;33m]\u001b[0m\u001b[1;33m.\u001b[0m\u001b[0mreplace\u001b[0m \u001b[1;33m(\u001b[0m\u001b[1;34m'...'\u001b[0m\u001b[1;33m,\u001b[0m \u001b[0mnp\u001b[0m\u001b[1;33m.\u001b[0m\u001b[0mNaN\u001b[0m\u001b[1;33m)\u001b[0m\u001b[1;33m\u001b[0m\u001b[1;33m\u001b[0m\u001b[0m\n\u001b[0m\u001b[0;32m     11\u001b[0m \u001b[0mqs\u001b[0m \u001b[1;33m=\u001b[0m \u001b[0mdf\u001b[0m\u001b[1;33m[\u001b[0m\u001b[1;34m'Year'\u001b[0m\u001b[1;33m]\u001b[0m \u001b[1;33m+\u001b[0m \u001b[1;34m'-'\u001b[0m \u001b[1;33m+\u001b[0m \u001b[0mdf\u001b[0m\u001b[1;33m[\u001b[0m\u001b[1;34m'Quarter'\u001b[0m\u001b[1;33m]\u001b[0m\u001b[1;33m\u001b[0m\u001b[1;33m\u001b[0m\u001b[0m\n\u001b[0;32m     12\u001b[0m \u001b[0mdf\u001b[0m\u001b[1;33m[\u001b[0m\u001b[1;34m'Date'\u001b[0m\u001b[1;33m]\u001b[0m \u001b[1;33m=\u001b[0m \u001b[0mpd\u001b[0m\u001b[1;33m.\u001b[0m\u001b[0mPeriodIndex\u001b[0m\u001b[1;33m(\u001b[0m\u001b[0mqs\u001b[0m\u001b[1;33m.\u001b[0m\u001b[0mvalues\u001b[0m\u001b[1;33m,\u001b[0m \u001b[0mfreq\u001b[0m\u001b[1;33m=\u001b[0m\u001b[1;34m'Q'\u001b[0m\u001b[1;33m)\u001b[0m\u001b[1;33m.\u001b[0m\u001b[0mto_timestamp\u001b[0m\u001b[1;33m(\u001b[0m\u001b[1;33m)\u001b[0m\u001b[1;33m\u001b[0m\u001b[1;33m\u001b[0m\u001b[0m\n",
      "\u001b[1;31mNameError\u001b[0m: name 'np' is not defined"
     ]
    }
   ],
   "source": [
    "df = df.iloc[[2,3,37], :].T.iloc[2:,:]\n",
    "df.columns = ['Year', 'Quarter', 'Rate']\n",
    "df.reset_index(inplace = True, drop = True)\n",
    "df['Year'] = df['Year'].fillna(method='ffill')\n",
    "df['Quarter_str'] = df['Quarter'].copy()\n",
    "df['Quarter'] = df['Quarter'].replace('1. Quartal', 'Q1')\n",
    "df['Quarter'] = df['Quarter'].replace('2. Quartal', 'Q2')\n",
    "df['Quarter'] = df['Quarter'].replace('3. Quartal', 'Q3')\n",
    "df['Quarter'] = df['Quarter'].replace('4. Quartal', 'Q4')\n",
    "df['Rate'] = df['Rate'].replace ('...', np.NaN)\n",
    "qs = df['Year'] + '-' + df['Quarter']\n",
    "df['Date'] = pd.PeriodIndex(qs.values, freq='Q').to_timestamp()\n",
    "df.set_index(df['Date'], inplace = True, drop = True)\n",
    "del df['Date']\n",
    "df.dropna(inplace=True)\n",
    "df['col_name'] = df['Quarter'] + ' ' + df['Year'].str[2:4]\n",
    "col_names = list(df['col_name'].values)\n",
    "df = df.T\n",
    "df.columns = col_names\n",
    "df = df.T"
   ]
  },
  {
   "cell_type": "code",
   "execution_count": 60,
   "id": "afa85fca",
   "metadata": {},
   "outputs": [
    {
     "data": {
      "application/vnd.plotly.v1+json": {
       "config": {
        "linkText": "Export to plotly.com",
        "plotlyServerURL": "https://plotly.com",
        "showLink": false
       },
       "data": [
        {
         "name": "Private sector savings rate",
         "type": "scatter",
         "x": [
          0,
          1,
          2,
          3,
          4,
          5,
          6,
          7,
          8,
          9,
          10,
          11,
          12,
          13,
          14,
          15,
          16,
          17,
          18,
          19,
          20,
          21,
          22,
          23,
          24,
          25,
          26,
          27,
          28,
          29,
          30,
          31,
          32,
          33,
          34,
          35,
          36,
          37,
          38,
          39,
          40,
          41,
          42,
          43,
          44,
          45,
          46,
          47,
          48,
          49,
          50,
          51,
          52,
          53,
          54,
          55,
          56,
          57,
          58,
          59,
          60,
          61,
          62,
          63,
          64,
          65,
          66,
          67,
          68,
          69,
          70,
          71,
          72,
          73,
          74,
          75,
          76,
          77,
          78,
          79,
          80,
          81,
          82,
          83,
          84,
          85,
          86,
          87,
          88,
          89,
          90,
          91,
          92,
          93,
          94,
          95,
          96,
          97,
          98,
          99,
          100,
          101,
          102,
          103,
          104,
          105,
          106,
          107,
          108,
          109,
          110,
          111,
          112,
          113,
          114,
          115,
          116,
          117,
          118,
          119
         ],
         "y": [
          12.6,
          13.6,
          12.7,
          12.7,
          12.9,
          13,
          13.1,
          12.5,
          12.4,
          12.9,
          12,
          12.2,
          11.5,
          11.8,
          11.8,
          11.8,
          11.5,
          11.5,
          11.4,
          11.1,
          11.1,
          11.2,
          10.8,
          10.5,
          10.7,
          10.5,
          10.6,
          10.5,
          10.8,
          10.6,
          10.2,
          10,
          9.7,
          9.7,
          9.9,
          10,
          10.1,
          9.3,
          8.9,
          9.1,
          9.9,
          9.9,
          10,
          10.2,
          9.8,
          10,
          10.3,
          10.2,
          10.8,
          10.5,
          10.8,
          10.2,
          10.6,
          10.7,
          10.8,
          10.4,
          10.3,
          10.2,
          10.6,
          11.1,
          10.3,
          10.6,
          10.6,
          11,
          10.8,
          10.6,
          10.5,
          10.9,
          10.9,
          11.5,
          11.4,
          9.8,
          10.4,
          10.5,
          10.4,
          10.2,
          10.5,
          10.4,
          10.2,
          10.1,
          10,
          10.1,
          10.1,
          9.9,
          10,
          9.9,
          9.7,
          9,
          9.4,
          9.5,
          9.2,
          9.1,
          9.8,
          9.9,
          9.8,
          9.8,
          9.8,
          10.3,
          10,
          10.2,
          10.2,
          10.1,
          10.3,
          10.2,
          10.5,
          10.5,
          10.5,
          10.8,
          10.8,
          10.8,
          11.1,
          11.1,
          10.7,
          10.7,
          10.9,
          11.1,
          11.7,
          20.3,
          15.3,
          17.7
         ]
        }
       ],
       "layout": {
        "template": {
         "data": {
          "bar": [
           {
            "error_x": {
             "color": "#2a3f5f"
            },
            "error_y": {
             "color": "#2a3f5f"
            },
            "marker": {
             "line": {
              "color": "#E5ECF6",
              "width": 0.5
             }
            },
            "type": "bar"
           }
          ],
          "barpolar": [
           {
            "marker": {
             "line": {
              "color": "#E5ECF6",
              "width": 0.5
             }
            },
            "type": "barpolar"
           }
          ],
          "carpet": [
           {
            "aaxis": {
             "endlinecolor": "#2a3f5f",
             "gridcolor": "white",
             "linecolor": "white",
             "minorgridcolor": "white",
             "startlinecolor": "#2a3f5f"
            },
            "baxis": {
             "endlinecolor": "#2a3f5f",
             "gridcolor": "white",
             "linecolor": "white",
             "minorgridcolor": "white",
             "startlinecolor": "#2a3f5f"
            },
            "type": "carpet"
           }
          ],
          "choropleth": [
           {
            "colorbar": {
             "outlinewidth": 0,
             "ticks": ""
            },
            "type": "choropleth"
           }
          ],
          "contour": [
           {
            "colorbar": {
             "outlinewidth": 0,
             "ticks": ""
            },
            "colorscale": [
             [
              0,
              "#0d0887"
             ],
             [
              0.1111111111111111,
              "#46039f"
             ],
             [
              0.2222222222222222,
              "#7201a8"
             ],
             [
              0.3333333333333333,
              "#9c179e"
             ],
             [
              0.4444444444444444,
              "#bd3786"
             ],
             [
              0.5555555555555556,
              "#d8576b"
             ],
             [
              0.6666666666666666,
              "#ed7953"
             ],
             [
              0.7777777777777778,
              "#fb9f3a"
             ],
             [
              0.8888888888888888,
              "#fdca26"
             ],
             [
              1,
              "#f0f921"
             ]
            ],
            "type": "contour"
           }
          ],
          "contourcarpet": [
           {
            "colorbar": {
             "outlinewidth": 0,
             "ticks": ""
            },
            "type": "contourcarpet"
           }
          ],
          "heatmap": [
           {
            "colorbar": {
             "outlinewidth": 0,
             "ticks": ""
            },
            "colorscale": [
             [
              0,
              "#0d0887"
             ],
             [
              0.1111111111111111,
              "#46039f"
             ],
             [
              0.2222222222222222,
              "#7201a8"
             ],
             [
              0.3333333333333333,
              "#9c179e"
             ],
             [
              0.4444444444444444,
              "#bd3786"
             ],
             [
              0.5555555555555556,
              "#d8576b"
             ],
             [
              0.6666666666666666,
              "#ed7953"
             ],
             [
              0.7777777777777778,
              "#fb9f3a"
             ],
             [
              0.8888888888888888,
              "#fdca26"
             ],
             [
              1,
              "#f0f921"
             ]
            ],
            "type": "heatmap"
           }
          ],
          "heatmapgl": [
           {
            "colorbar": {
             "outlinewidth": 0,
             "ticks": ""
            },
            "colorscale": [
             [
              0,
              "#0d0887"
             ],
             [
              0.1111111111111111,
              "#46039f"
             ],
             [
              0.2222222222222222,
              "#7201a8"
             ],
             [
              0.3333333333333333,
              "#9c179e"
             ],
             [
              0.4444444444444444,
              "#bd3786"
             ],
             [
              0.5555555555555556,
              "#d8576b"
             ],
             [
              0.6666666666666666,
              "#ed7953"
             ],
             [
              0.7777777777777778,
              "#fb9f3a"
             ],
             [
              0.8888888888888888,
              "#fdca26"
             ],
             [
              1,
              "#f0f921"
             ]
            ],
            "type": "heatmapgl"
           }
          ],
          "histogram": [
           {
            "marker": {
             "colorbar": {
              "outlinewidth": 0,
              "ticks": ""
             }
            },
            "type": "histogram"
           }
          ],
          "histogram2d": [
           {
            "colorbar": {
             "outlinewidth": 0,
             "ticks": ""
            },
            "colorscale": [
             [
              0,
              "#0d0887"
             ],
             [
              0.1111111111111111,
              "#46039f"
             ],
             [
              0.2222222222222222,
              "#7201a8"
             ],
             [
              0.3333333333333333,
              "#9c179e"
             ],
             [
              0.4444444444444444,
              "#bd3786"
             ],
             [
              0.5555555555555556,
              "#d8576b"
             ],
             [
              0.6666666666666666,
              "#ed7953"
             ],
             [
              0.7777777777777778,
              "#fb9f3a"
             ],
             [
              0.8888888888888888,
              "#fdca26"
             ],
             [
              1,
              "#f0f921"
             ]
            ],
            "type": "histogram2d"
           }
          ],
          "histogram2dcontour": [
           {
            "colorbar": {
             "outlinewidth": 0,
             "ticks": ""
            },
            "colorscale": [
             [
              0,
              "#0d0887"
             ],
             [
              0.1111111111111111,
              "#46039f"
             ],
             [
              0.2222222222222222,
              "#7201a8"
             ],
             [
              0.3333333333333333,
              "#9c179e"
             ],
             [
              0.4444444444444444,
              "#bd3786"
             ],
             [
              0.5555555555555556,
              "#d8576b"
             ],
             [
              0.6666666666666666,
              "#ed7953"
             ],
             [
              0.7777777777777778,
              "#fb9f3a"
             ],
             [
              0.8888888888888888,
              "#fdca26"
             ],
             [
              1,
              "#f0f921"
             ]
            ],
            "type": "histogram2dcontour"
           }
          ],
          "mesh3d": [
           {
            "colorbar": {
             "outlinewidth": 0,
             "ticks": ""
            },
            "type": "mesh3d"
           }
          ],
          "parcoords": [
           {
            "line": {
             "colorbar": {
              "outlinewidth": 0,
              "ticks": ""
             }
            },
            "type": "parcoords"
           }
          ],
          "pie": [
           {
            "automargin": true,
            "type": "pie"
           }
          ],
          "scatter": [
           {
            "marker": {
             "colorbar": {
              "outlinewidth": 0,
              "ticks": ""
             }
            },
            "type": "scatter"
           }
          ],
          "scatter3d": [
           {
            "line": {
             "colorbar": {
              "outlinewidth": 0,
              "ticks": ""
             }
            },
            "marker": {
             "colorbar": {
              "outlinewidth": 0,
              "ticks": ""
             }
            },
            "type": "scatter3d"
           }
          ],
          "scattercarpet": [
           {
            "marker": {
             "colorbar": {
              "outlinewidth": 0,
              "ticks": ""
             }
            },
            "type": "scattercarpet"
           }
          ],
          "scattergeo": [
           {
            "marker": {
             "colorbar": {
              "outlinewidth": 0,
              "ticks": ""
             }
            },
            "type": "scattergeo"
           }
          ],
          "scattergl": [
           {
            "marker": {
             "colorbar": {
              "outlinewidth": 0,
              "ticks": ""
             }
            },
            "type": "scattergl"
           }
          ],
          "scattermapbox": [
           {
            "marker": {
             "colorbar": {
              "outlinewidth": 0,
              "ticks": ""
             }
            },
            "type": "scattermapbox"
           }
          ],
          "scatterpolar": [
           {
            "marker": {
             "colorbar": {
              "outlinewidth": 0,
              "ticks": ""
             }
            },
            "type": "scatterpolar"
           }
          ],
          "scatterpolargl": [
           {
            "marker": {
             "colorbar": {
              "outlinewidth": 0,
              "ticks": ""
             }
            },
            "type": "scatterpolargl"
           }
          ],
          "scatterternary": [
           {
            "marker": {
             "colorbar": {
              "outlinewidth": 0,
              "ticks": ""
             }
            },
            "type": "scatterternary"
           }
          ],
          "surface": [
           {
            "colorbar": {
             "outlinewidth": 0,
             "ticks": ""
            },
            "colorscale": [
             [
              0,
              "#0d0887"
             ],
             [
              0.1111111111111111,
              "#46039f"
             ],
             [
              0.2222222222222222,
              "#7201a8"
             ],
             [
              0.3333333333333333,
              "#9c179e"
             ],
             [
              0.4444444444444444,
              "#bd3786"
             ],
             [
              0.5555555555555556,
              "#d8576b"
             ],
             [
              0.6666666666666666,
              "#ed7953"
             ],
             [
              0.7777777777777778,
              "#fb9f3a"
             ],
             [
              0.8888888888888888,
              "#fdca26"
             ],
             [
              1,
              "#f0f921"
             ]
            ],
            "type": "surface"
           }
          ],
          "table": [
           {
            "cells": {
             "fill": {
              "color": "#EBF0F8"
             },
             "line": {
              "color": "white"
             }
            },
            "header": {
             "fill": {
              "color": "#C8D4E3"
             },
             "line": {
              "color": "white"
             }
            },
            "type": "table"
           }
          ]
         },
         "layout": {
          "annotationdefaults": {
           "arrowcolor": "#2a3f5f",
           "arrowhead": 0,
           "arrowwidth": 1
          },
          "autotypenumbers": "strict",
          "coloraxis": {
           "colorbar": {
            "outlinewidth": 0,
            "ticks": ""
           }
          },
          "colorscale": {
           "diverging": [
            [
             0,
             "#8e0152"
            ],
            [
             0.1,
             "#c51b7d"
            ],
            [
             0.2,
             "#de77ae"
            ],
            [
             0.3,
             "#f1b6da"
            ],
            [
             0.4,
             "#fde0ef"
            ],
            [
             0.5,
             "#f7f7f7"
            ],
            [
             0.6,
             "#e6f5d0"
            ],
            [
             0.7,
             "#b8e186"
            ],
            [
             0.8,
             "#7fbc41"
            ],
            [
             0.9,
             "#4d9221"
            ],
            [
             1,
             "#276419"
            ]
           ],
           "sequential": [
            [
             0,
             "#0d0887"
            ],
            [
             0.1111111111111111,
             "#46039f"
            ],
            [
             0.2222222222222222,
             "#7201a8"
            ],
            [
             0.3333333333333333,
             "#9c179e"
            ],
            [
             0.4444444444444444,
             "#bd3786"
            ],
            [
             0.5555555555555556,
             "#d8576b"
            ],
            [
             0.6666666666666666,
             "#ed7953"
            ],
            [
             0.7777777777777778,
             "#fb9f3a"
            ],
            [
             0.8888888888888888,
             "#fdca26"
            ],
            [
             1,
             "#f0f921"
            ]
           ],
           "sequentialminus": [
            [
             0,
             "#0d0887"
            ],
            [
             0.1111111111111111,
             "#46039f"
            ],
            [
             0.2222222222222222,
             "#7201a8"
            ],
            [
             0.3333333333333333,
             "#9c179e"
            ],
            [
             0.4444444444444444,
             "#bd3786"
            ],
            [
             0.5555555555555556,
             "#d8576b"
            ],
            [
             0.6666666666666666,
             "#ed7953"
            ],
            [
             0.7777777777777778,
             "#fb9f3a"
            ],
            [
             0.8888888888888888,
             "#fdca26"
            ],
            [
             1,
             "#f0f921"
            ]
           ]
          },
          "colorway": [
           "#636efa",
           "#EF553B",
           "#00cc96",
           "#ab63fa",
           "#FFA15A",
           "#19d3f3",
           "#FF6692",
           "#B6E880",
           "#FF97FF",
           "#FECB52"
          ],
          "font": {
           "color": "#2a3f5f"
          },
          "geo": {
           "bgcolor": "white",
           "lakecolor": "white",
           "landcolor": "#E5ECF6",
           "showlakes": true,
           "showland": true,
           "subunitcolor": "white"
          },
          "hoverlabel": {
           "align": "left"
          },
          "hovermode": "closest",
          "mapbox": {
           "style": "light"
          },
          "paper_bgcolor": "white",
          "plot_bgcolor": "#E5ECF6",
          "polar": {
           "angularaxis": {
            "gridcolor": "white",
            "linecolor": "white",
            "ticks": ""
           },
           "bgcolor": "#E5ECF6",
           "radialaxis": {
            "gridcolor": "white",
            "linecolor": "white",
            "ticks": ""
           }
          },
          "scene": {
           "xaxis": {
            "backgroundcolor": "#E5ECF6",
            "gridcolor": "white",
            "gridwidth": 2,
            "linecolor": "white",
            "showbackground": true,
            "ticks": "",
            "zerolinecolor": "white"
           },
           "yaxis": {
            "backgroundcolor": "#E5ECF6",
            "gridcolor": "white",
            "gridwidth": 2,
            "linecolor": "white",
            "showbackground": true,
            "ticks": "",
            "zerolinecolor": "white"
           },
           "zaxis": {
            "backgroundcolor": "#E5ECF6",
            "gridcolor": "white",
            "gridwidth": 2,
            "linecolor": "white",
            "showbackground": true,
            "ticks": "",
            "zerolinecolor": "white"
           }
          },
          "shapedefaults": {
           "line": {
            "color": "#2a3f5f"
           }
          },
          "ternary": {
           "aaxis": {
            "gridcolor": "white",
            "linecolor": "white",
            "ticks": ""
           },
           "baxis": {
            "gridcolor": "white",
            "linecolor": "white",
            "ticks": ""
           },
           "bgcolor": "#E5ECF6",
           "caxis": {
            "gridcolor": "white",
            "linecolor": "white",
            "ticks": ""
           }
          },
          "title": {
           "x": 0.05
          },
          "xaxis": {
           "automargin": true,
           "gridcolor": "white",
           "linecolor": "white",
           "ticks": "",
           "title": {
            "standoff": 15
           },
           "zerolinecolor": "white",
           "zerolinewidth": 2
          },
          "yaxis": {
           "automargin": true,
           "gridcolor": "white",
           "linecolor": "white",
           "ticks": "",
           "title": {
            "standoff": 15
           },
           "zerolinecolor": "white",
           "zerolinewidth": 2
          }
         }
        },
        "title": {
         "text": "Private sector savings rate (Germany)"
        },
        "xaxis": {
         "rangeslider": {
          "visible": true
         },
         "title": {
          "text": "Quarter-Year"
         }
        },
        "yaxis": {
         "title": {
          "text": "in % of disposable income"
         }
        }
       }
      },
      "text/html": [
       "<div>                            <div id=\"b38a136b-6ca5-4801-9710-ffc2cfae8fcb\" class=\"plotly-graph-div\" style=\"height:525px; width:100%;\"></div>            <script type=\"text/javascript\">                require([\"plotly\"], function(Plotly) {                    window.PLOTLYENV=window.PLOTLYENV || {};                                    if (document.getElementById(\"b38a136b-6ca5-4801-9710-ffc2cfae8fcb\")) {                    Plotly.newPlot(                        \"b38a136b-6ca5-4801-9710-ffc2cfae8fcb\",                        [{\"name\": \"Private sector savings rate\", \"type\": \"scatter\", \"x\": [0, 1, 2, 3, 4, 5, 6, 7, 8, 9, 10, 11, 12, 13, 14, 15, 16, 17, 18, 19, 20, 21, 22, 23, 24, 25, 26, 27, 28, 29, 30, 31, 32, 33, 34, 35, 36, 37, 38, 39, 40, 41, 42, 43, 44, 45, 46, 47, 48, 49, 50, 51, 52, 53, 54, 55, 56, 57, 58, 59, 60, 61, 62, 63, 64, 65, 66, 67, 68, 69, 70, 71, 72, 73, 74, 75, 76, 77, 78, 79, 80, 81, 82, 83, 84, 85, 86, 87, 88, 89, 90, 91, 92, 93, 94, 95, 96, 97, 98, 99, 100, 101, 102, 103, 104, 105, 106, 107, 108, 109, 110, 111, 112, 113, 114, 115, 116, 117, 118, 119], \"y\": [12.6, 13.6, 12.7, 12.7, 12.9, 13, 13.1, 12.5, 12.4, 12.9, 12, 12.2, 11.5, 11.8, 11.8, 11.8, 11.5, 11.5, 11.4, 11.1, 11.1, 11.2, 10.8, 10.5, 10.7, 10.5, 10.6, 10.5, 10.8, 10.6, 10.2, 10, 9.7, 9.7, 9.9, 10, 10.1, 9.3, 8.9, 9.1, 9.9, 9.9, 10, 10.2, 9.8, 10, 10.3, 10.2, 10.8, 10.5, 10.8, 10.2, 10.6, 10.7, 10.8, 10.4, 10.3, 10.2, 10.6, 11.1, 10.3, 10.6, 10.6, 11, 10.8, 10.6, 10.5, 10.9, 10.9, 11.5, 11.4, 9.8, 10.4, 10.5, 10.4, 10.2, 10.5, 10.4, 10.2, 10.1, 10, 10.1, 10.1, 9.9, 10, 9.9, 9.7, 9, 9.4, 9.5, 9.2, 9.1, 9.8, 9.9, 9.8, 9.8, 9.8, 10.3, 10, 10.2, 10.2, 10.1, 10.3, 10.2, 10.5, 10.5, 10.5, 10.8, 10.8, 10.8, 11.1, 11.1, 10.7, 10.7, 10.9, 11.1, 11.7, 20.3, 15.3, 17.7]}],                        {\"template\": {\"data\": {\"bar\": [{\"error_x\": {\"color\": \"#2a3f5f\"}, \"error_y\": {\"color\": \"#2a3f5f\"}, \"marker\": {\"line\": {\"color\": \"#E5ECF6\", \"width\": 0.5}}, \"type\": \"bar\"}], \"barpolar\": [{\"marker\": {\"line\": {\"color\": \"#E5ECF6\", \"width\": 0.5}}, \"type\": \"barpolar\"}], \"carpet\": [{\"aaxis\": {\"endlinecolor\": \"#2a3f5f\", \"gridcolor\": \"white\", \"linecolor\": \"white\", \"minorgridcolor\": \"white\", \"startlinecolor\": \"#2a3f5f\"}, \"baxis\": {\"endlinecolor\": \"#2a3f5f\", \"gridcolor\": \"white\", \"linecolor\": \"white\", \"minorgridcolor\": \"white\", \"startlinecolor\": \"#2a3f5f\"}, \"type\": \"carpet\"}], \"choropleth\": [{\"colorbar\": {\"outlinewidth\": 0, \"ticks\": \"\"}, \"type\": \"choropleth\"}], \"contour\": [{\"colorbar\": {\"outlinewidth\": 0, \"ticks\": \"\"}, \"colorscale\": [[0.0, \"#0d0887\"], [0.1111111111111111, \"#46039f\"], [0.2222222222222222, \"#7201a8\"], [0.3333333333333333, \"#9c179e\"], [0.4444444444444444, \"#bd3786\"], [0.5555555555555556, \"#d8576b\"], [0.6666666666666666, \"#ed7953\"], [0.7777777777777778, \"#fb9f3a\"], [0.8888888888888888, \"#fdca26\"], [1.0, \"#f0f921\"]], \"type\": \"contour\"}], \"contourcarpet\": [{\"colorbar\": {\"outlinewidth\": 0, \"ticks\": \"\"}, \"type\": \"contourcarpet\"}], \"heatmap\": [{\"colorbar\": {\"outlinewidth\": 0, \"ticks\": \"\"}, \"colorscale\": [[0.0, \"#0d0887\"], [0.1111111111111111, \"#46039f\"], [0.2222222222222222, \"#7201a8\"], [0.3333333333333333, \"#9c179e\"], [0.4444444444444444, \"#bd3786\"], [0.5555555555555556, \"#d8576b\"], [0.6666666666666666, \"#ed7953\"], [0.7777777777777778, \"#fb9f3a\"], [0.8888888888888888, \"#fdca26\"], [1.0, \"#f0f921\"]], \"type\": \"heatmap\"}], \"heatmapgl\": [{\"colorbar\": {\"outlinewidth\": 0, \"ticks\": \"\"}, \"colorscale\": [[0.0, \"#0d0887\"], [0.1111111111111111, \"#46039f\"], [0.2222222222222222, \"#7201a8\"], [0.3333333333333333, \"#9c179e\"], [0.4444444444444444, \"#bd3786\"], [0.5555555555555556, \"#d8576b\"], [0.6666666666666666, \"#ed7953\"], [0.7777777777777778, \"#fb9f3a\"], [0.8888888888888888, \"#fdca26\"], [1.0, \"#f0f921\"]], \"type\": \"heatmapgl\"}], \"histogram\": [{\"marker\": {\"colorbar\": {\"outlinewidth\": 0, \"ticks\": \"\"}}, \"type\": \"histogram\"}], \"histogram2d\": [{\"colorbar\": {\"outlinewidth\": 0, \"ticks\": \"\"}, \"colorscale\": [[0.0, \"#0d0887\"], [0.1111111111111111, \"#46039f\"], [0.2222222222222222, \"#7201a8\"], [0.3333333333333333, \"#9c179e\"], [0.4444444444444444, \"#bd3786\"], [0.5555555555555556, \"#d8576b\"], [0.6666666666666666, \"#ed7953\"], [0.7777777777777778, \"#fb9f3a\"], [0.8888888888888888, \"#fdca26\"], [1.0, \"#f0f921\"]], \"type\": \"histogram2d\"}], \"histogram2dcontour\": [{\"colorbar\": {\"outlinewidth\": 0, \"ticks\": \"\"}, \"colorscale\": [[0.0, \"#0d0887\"], [0.1111111111111111, \"#46039f\"], [0.2222222222222222, \"#7201a8\"], [0.3333333333333333, \"#9c179e\"], [0.4444444444444444, \"#bd3786\"], [0.5555555555555556, \"#d8576b\"], [0.6666666666666666, \"#ed7953\"], [0.7777777777777778, \"#fb9f3a\"], [0.8888888888888888, \"#fdca26\"], [1.0, \"#f0f921\"]], \"type\": \"histogram2dcontour\"}], \"mesh3d\": [{\"colorbar\": {\"outlinewidth\": 0, \"ticks\": \"\"}, \"type\": \"mesh3d\"}], \"parcoords\": [{\"line\": {\"colorbar\": {\"outlinewidth\": 0, \"ticks\": \"\"}}, \"type\": \"parcoords\"}], \"pie\": [{\"automargin\": true, \"type\": \"pie\"}], \"scatter\": [{\"marker\": {\"colorbar\": {\"outlinewidth\": 0, \"ticks\": \"\"}}, \"type\": \"scatter\"}], \"scatter3d\": [{\"line\": {\"colorbar\": {\"outlinewidth\": 0, \"ticks\": \"\"}}, \"marker\": {\"colorbar\": {\"outlinewidth\": 0, \"ticks\": \"\"}}, \"type\": \"scatter3d\"}], \"scattercarpet\": [{\"marker\": {\"colorbar\": {\"outlinewidth\": 0, \"ticks\": \"\"}}, \"type\": \"scattercarpet\"}], \"scattergeo\": [{\"marker\": {\"colorbar\": {\"outlinewidth\": 0, \"ticks\": \"\"}}, \"type\": \"scattergeo\"}], \"scattergl\": [{\"marker\": {\"colorbar\": {\"outlinewidth\": 0, \"ticks\": \"\"}}, \"type\": \"scattergl\"}], \"scattermapbox\": [{\"marker\": {\"colorbar\": {\"outlinewidth\": 0, \"ticks\": \"\"}}, \"type\": \"scattermapbox\"}], \"scatterpolar\": [{\"marker\": {\"colorbar\": {\"outlinewidth\": 0, \"ticks\": \"\"}}, \"type\": \"scatterpolar\"}], \"scatterpolargl\": [{\"marker\": {\"colorbar\": {\"outlinewidth\": 0, \"ticks\": \"\"}}, \"type\": \"scatterpolargl\"}], \"scatterternary\": [{\"marker\": {\"colorbar\": {\"outlinewidth\": 0, \"ticks\": \"\"}}, \"type\": \"scatterternary\"}], \"surface\": [{\"colorbar\": {\"outlinewidth\": 0, \"ticks\": \"\"}, \"colorscale\": [[0.0, \"#0d0887\"], [0.1111111111111111, \"#46039f\"], [0.2222222222222222, \"#7201a8\"], [0.3333333333333333, \"#9c179e\"], [0.4444444444444444, \"#bd3786\"], [0.5555555555555556, \"#d8576b\"], [0.6666666666666666, \"#ed7953\"], [0.7777777777777778, \"#fb9f3a\"], [0.8888888888888888, \"#fdca26\"], [1.0, \"#f0f921\"]], \"type\": \"surface\"}], \"table\": [{\"cells\": {\"fill\": {\"color\": \"#EBF0F8\"}, \"line\": {\"color\": \"white\"}}, \"header\": {\"fill\": {\"color\": \"#C8D4E3\"}, \"line\": {\"color\": \"white\"}}, \"type\": \"table\"}]}, \"layout\": {\"annotationdefaults\": {\"arrowcolor\": \"#2a3f5f\", \"arrowhead\": 0, \"arrowwidth\": 1}, \"autotypenumbers\": \"strict\", \"coloraxis\": {\"colorbar\": {\"outlinewidth\": 0, \"ticks\": \"\"}}, \"colorscale\": {\"diverging\": [[0, \"#8e0152\"], [0.1, \"#c51b7d\"], [0.2, \"#de77ae\"], [0.3, \"#f1b6da\"], [0.4, \"#fde0ef\"], [0.5, \"#f7f7f7\"], [0.6, \"#e6f5d0\"], [0.7, \"#b8e186\"], [0.8, \"#7fbc41\"], [0.9, \"#4d9221\"], [1, \"#276419\"]], \"sequential\": [[0.0, \"#0d0887\"], [0.1111111111111111, \"#46039f\"], [0.2222222222222222, \"#7201a8\"], [0.3333333333333333, \"#9c179e\"], [0.4444444444444444, \"#bd3786\"], [0.5555555555555556, \"#d8576b\"], [0.6666666666666666, \"#ed7953\"], [0.7777777777777778, \"#fb9f3a\"], [0.8888888888888888, \"#fdca26\"], [1.0, \"#f0f921\"]], \"sequentialminus\": [[0.0, \"#0d0887\"], [0.1111111111111111, \"#46039f\"], [0.2222222222222222, \"#7201a8\"], [0.3333333333333333, \"#9c179e\"], [0.4444444444444444, \"#bd3786\"], [0.5555555555555556, \"#d8576b\"], [0.6666666666666666, \"#ed7953\"], [0.7777777777777778, \"#fb9f3a\"], [0.8888888888888888, \"#fdca26\"], [1.0, \"#f0f921\"]]}, \"colorway\": [\"#636efa\", \"#EF553B\", \"#00cc96\", \"#ab63fa\", \"#FFA15A\", \"#19d3f3\", \"#FF6692\", \"#B6E880\", \"#FF97FF\", \"#FECB52\"], \"font\": {\"color\": \"#2a3f5f\"}, \"geo\": {\"bgcolor\": \"white\", \"lakecolor\": \"white\", \"landcolor\": \"#E5ECF6\", \"showlakes\": true, \"showland\": true, \"subunitcolor\": \"white\"}, \"hoverlabel\": {\"align\": \"left\"}, \"hovermode\": \"closest\", \"mapbox\": {\"style\": \"light\"}, \"paper_bgcolor\": \"white\", \"plot_bgcolor\": \"#E5ECF6\", \"polar\": {\"angularaxis\": {\"gridcolor\": \"white\", \"linecolor\": \"white\", \"ticks\": \"\"}, \"bgcolor\": \"#E5ECF6\", \"radialaxis\": {\"gridcolor\": \"white\", \"linecolor\": \"white\", \"ticks\": \"\"}}, \"scene\": {\"xaxis\": {\"backgroundcolor\": \"#E5ECF6\", \"gridcolor\": \"white\", \"gridwidth\": 2, \"linecolor\": \"white\", \"showbackground\": true, \"ticks\": \"\", \"zerolinecolor\": \"white\"}, \"yaxis\": {\"backgroundcolor\": \"#E5ECF6\", \"gridcolor\": \"white\", \"gridwidth\": 2, \"linecolor\": \"white\", \"showbackground\": true, \"ticks\": \"\", \"zerolinecolor\": \"white\"}, \"zaxis\": {\"backgroundcolor\": \"#E5ECF6\", \"gridcolor\": \"white\", \"gridwidth\": 2, \"linecolor\": \"white\", \"showbackground\": true, \"ticks\": \"\", \"zerolinecolor\": \"white\"}}, \"shapedefaults\": {\"line\": {\"color\": \"#2a3f5f\"}}, \"ternary\": {\"aaxis\": {\"gridcolor\": \"white\", \"linecolor\": \"white\", \"ticks\": \"\"}, \"baxis\": {\"gridcolor\": \"white\", \"linecolor\": \"white\", \"ticks\": \"\"}, \"bgcolor\": \"#E5ECF6\", \"caxis\": {\"gridcolor\": \"white\", \"linecolor\": \"white\", \"ticks\": \"\"}}, \"title\": {\"x\": 0.05}, \"xaxis\": {\"automargin\": true, \"gridcolor\": \"white\", \"linecolor\": \"white\", \"ticks\": \"\", \"title\": {\"standoff\": 15}, \"zerolinecolor\": \"white\", \"zerolinewidth\": 2}, \"yaxis\": {\"automargin\": true, \"gridcolor\": \"white\", \"linecolor\": \"white\", \"ticks\": \"\", \"title\": {\"standoff\": 15}, \"zerolinecolor\": \"white\", \"zerolinewidth\": 2}}}, \"title\": {\"text\": \"Private sector savings rate (Germany)\"}, \"xaxis\": {\"rangeslider\": {\"visible\": true}, \"title\": {\"text\": \"Quarter-Year\"}}, \"yaxis\": {\"title\": {\"text\": \"in % of disposable income\"}}},                        {\"responsive\": true}                    ).then(function(){\n",
       "                            \n",
       "var gd = document.getElementById('b38a136b-6ca5-4801-9710-ffc2cfae8fcb');\n",
       "var x = new MutationObserver(function (mutations, observer) {{\n",
       "        var display = window.getComputedStyle(gd).display;\n",
       "        if (!display || display === 'none') {{\n",
       "            console.log([gd, 'removed!']);\n",
       "            Plotly.purge(gd);\n",
       "            observer.disconnect();\n",
       "        }}\n",
       "}});\n",
       "\n",
       "// Listen for the removal of the full notebook cells\n",
       "var notebookContainer = gd.closest('#notebook-container');\n",
       "if (notebookContainer) {{\n",
       "    x.observe(notebookContainer, {childList: true});\n",
       "}}\n",
       "\n",
       "// Listen for the clearing of the current output cell\n",
       "var outputEl = gd.closest('.output');\n",
       "if (outputEl) {{\n",
       "    x.observe(outputEl, {childList: true});\n",
       "}}\n",
       "\n",
       "                        })                };                });            </script>        </div>"
      ]
     },
     "metadata": {},
     "output_type": "display_data"
    }
   ],
   "source": [
    "fig = go.Figure(data=[\n",
    "    go.Scatter(name='Private sector savings rate', x = list(df.index),\n",
    "    y = list(df['Rate']))\n",
    "])\n",
    "fig.layout.update(title = go.layout.Title(\n",
    "                        text='Private sector savings rate (Germany)'))\n",
    "fig.layout.update(yaxis= go.layout.YAxis(title=go.layout.yaxis.Title(\n",
    "                        text='in % of disposable income')))\n",
    "fig.layout.update(xaxis = go.layout.XAxis(title = go.layout.xaxis.Title(text = 'Quarter-Year'), rangeslider = dict(visible = True)));\n",
    "iplot(fig, filename = 'savings_rate')"
   ]
  },
  {
   "cell_type": "code",
   "execution_count": 47,
   "id": "fcb8c538",
   "metadata": {},
   "outputs": [
    {
     "name": "stdout",
     "output_type": "stream",
     "text": [
      "Collecting chart-studio\n",
      "  Downloading chart_studio-1.1.0-py3-none-any.whl (64 kB)\n",
      "Requirement already satisfied: six in c:\\programdata\\anaconda3\\envs\\webscraping-course-apr21\\lib\\site-packages (from chart-studio) (1.15.0)\n",
      "Requirement already satisfied: retrying>=1.3.3 in c:\\programdata\\anaconda3\\envs\\webscraping-course-apr21\\lib\\site-packages (from chart-studio) (1.3.3)\n",
      "Requirement already satisfied: plotly in c:\\programdata\\anaconda3\\envs\\webscraping-course-apr21\\lib\\site-packages (from chart-studio) (4.14.3)\n",
      "Requirement already satisfied: requests in c:\\programdata\\anaconda3\\envs\\webscraping-course-apr21\\lib\\site-packages (from chart-studio) (2.25.1)\n",
      "Requirement already satisfied: idna<3,>=2.5 in c:\\programdata\\anaconda3\\envs\\webscraping-course-apr21\\lib\\site-packages (from requests->chart-studio) (2.10)\n",
      "Requirement already satisfied: urllib3<1.27,>=1.21.1 in c:\\programdata\\anaconda3\\envs\\webscraping-course-apr21\\lib\\site-packages (from requests->chart-studio) (1.26.4)\n",
      "Requirement already satisfied: chardet<5,>=3.0.2 in c:\\programdata\\anaconda3\\envs\\webscraping-course-apr21\\lib\\site-packages (from requests->chart-studio) (4.0.0)\n",
      "Requirement already satisfied: certifi>=2017.4.17 in c:\\programdata\\anaconda3\\envs\\webscraping-course-apr21\\lib\\site-packages (from requests->chart-studio) (2020.12.5)\n",
      "Installing collected packages: chart-studio\n",
      "Successfully installed chart-studio-1.1.0\n"
     ]
    }
   ],
   "source": [
    "! pip install chart-studio"
   ]
  },
  {
   "cell_type": "code",
   "execution_count": 59,
   "id": "8c3c1a15",
   "metadata": {},
   "outputs": [
    {
     "data": {
      "text/plain": [
       "'https://plotly.com/~cstiel/1/'"
      ]
     },
     "execution_count": 59,
     "metadata": {},
     "output_type": "execute_result"
    }
   ],
   "source": [
    "import chart_studio\n",
    "import chart_studio.plotly as py\n",
    "import plotly.graph_objs as go\n",
    "import Plotly_API\n",
    "chart_studio.tools.set_credentials_file(username=Plotly_API.username, api_key=Plotly_API.API_key)\n",
    "fig = go.Figure(data=[\n",
    "    go.Scatter(name='Private sector savings rate', x = list(df.index),\n",
    "    y = list(df['Rate']))\n",
    "])\n",
    "fig.layout.update(title = go.layout.Title(\n",
    "                        text='Private sector savings rate (Germany)'))\n",
    "fig.layout.update(yaxis= go.layout.YAxis(title=go.layout.yaxis.Title(\n",
    "                        text='in % of disposable income')))\n",
    "fig.layout.update(xaxis = go.layout.XAxis(title = go.layout.xaxis.Title(text = 'Quarter-Year'), rangeslider = dict(visible = True)));\n",
    "py.plot(fig, filename = 'published_articles', auto_open = True)"
   ]
  },
  {
   "cell_type": "markdown",
   "id": "977fa2f4",
   "metadata": {},
   "source": [
    "## Twitter API\n"
   ]
  },
  {
   "cell_type": "code",
   "execution_count": 62,
   "id": "1e4823f2",
   "metadata": {
    "collapsed": true
   },
   "outputs": [
    {
     "name": "stdout",
     "output_type": "stream",
     "text": [
      "Collecting python-twitter\n",
      "  Downloading python_twitter-3.5-py2.py3-none-any.whl (67 kB)\n",
      "Collecting requests-oauthlib\n",
      "  Using cached requests_oauthlib-1.3.0-py2.py3-none-any.whl (23 kB)\n",
      "Requirement already satisfied: future in c:\\programdata\\anaconda3\\envs\\webscraping-course-apr21\\lib\\site-packages (from python-twitter) (0.18.2)\n",
      "Requirement already satisfied: requests in c:\\programdata\\anaconda3\\envs\\webscraping-course-apr21\\lib\\site-packages (from python-twitter) (2.25.1)\n",
      "Requirement already satisfied: chardet<5,>=3.0.2 in c:\\programdata\\anaconda3\\envs\\webscraping-course-apr21\\lib\\site-packages (from requests->python-twitter) (4.0.0)\n",
      "Requirement already satisfied: certifi>=2017.4.17 in c:\\programdata\\anaconda3\\envs\\webscraping-course-apr21\\lib\\site-packages (from requests->python-twitter) (2020.12.5)\n",
      "Requirement already satisfied: urllib3<1.27,>=1.21.1 in c:\\programdata\\anaconda3\\envs\\webscraping-course-apr21\\lib\\site-packages (from requests->python-twitter) (1.26.4)\n",
      "Requirement already satisfied: idna<3,>=2.5 in c:\\programdata\\anaconda3\\envs\\webscraping-course-apr21\\lib\\site-packages (from requests->python-twitter) (2.10)\n",
      "Collecting oauthlib>=3.0.0\n",
      "  Using cached oauthlib-3.1.0-py2.py3-none-any.whl (147 kB)\n",
      "Installing collected packages: oauthlib, requests-oauthlib, python-twitter\n",
      "Successfully installed oauthlib-3.1.0 python-twitter-3.5 requests-oauthlib-1.3.0\n"
     ]
    }
   ],
   "source": [
    "!pip install python-twitter --upgrade"
   ]
  },
  {
   "cell_type": "markdown",
   "id": "25aba8d5",
   "metadata": {},
   "source": []
  },
  {
   "cell_type": "code",
   "execution_count": 67,
   "id": "d1094988",
   "metadata": {},
   "outputs": [],
   "source": [
    "import twitter\n",
    "import Twitter_API\n",
    "\n",
    "api = twitter.Api(consumer_key = Twitter_API.consumer_key ,\n",
    "                  consumer_secret = Twitter_API.consumer_secret,\n",
    "                  access_token_key = Twitter_API.access_token_key,\n",
    "                  access_token_secret = Twitter_API.access_token_secret,\n",
    "                  tweet_mode = 'extended',\n",
    "                  sleep_on_rate_limit = True)"
   ]
  },
  {
   "cell_type": "markdown",
   "id": "801d7973",
   "metadata": {},
   "source": [
    "Let us query a free-text-search using the hashtag `#gameofthrones`. Which function would you use? Limit the maximum amount of response elements to 10."
   ]
  },
  {
   "cell_type": "code",
   "execution_count": 68,
   "id": "e8ffcca7",
   "metadata": {},
   "outputs": [],
   "source": [
    "got = api.GetSearch('#gamesofthrones', count = 10)"
   ]
  },
  {
   "cell_type": "code",
   "execution_count": 69,
   "id": "08885dae",
   "metadata": {},
   "outputs": [
    {
     "data": {
      "text/plain": [
       "Status(ID=1383042502207406081, ScreenName=FilmMusicTracks, Created=Fri Apr 16 13:00:02 +0000 2021, Text='RT @Dang_Studio: \"Be a Dragon\"\\n#SoundCloud #SoundTrack #GoT #GamesOfThrones \\nhttps://t.co/F9sgPqSbIK')"
      ]
     },
     "execution_count": 69,
     "metadata": {},
     "output_type": "execute_result"
    }
   ],
   "source": [
    "example_tweet = got[0]\n",
    "example_tweet"
   ]
  },
  {
   "cell_type": "markdown",
   "id": "80c8c77d",
   "metadata": {},
   "source": [
    "Which type is the output object? Which type have the output object's elements?"
   ]
  },
  {
   "cell_type": "code",
   "execution_count": null,
   "id": "d76594ca",
   "metadata": {},
   "outputs": [],
   "source": []
  },
  {
   "cell_type": "code",
   "execution_count": null,
   "id": "e3072f01",
   "metadata": {},
   "outputs": [],
   "source": []
  },
  {
   "cell_type": "code",
   "execution_count": 70,
   "id": "d512ea17",
   "metadata": {},
   "outputs": [
    {
     "name": "stdout",
     "output_type": "stream",
     "text": [
      "Collecting tweepy\n",
      "  Downloading tweepy-3.10.0-py2.py3-none-any.whl (30 kB)\n",
      "Requirement already satisfied: requests[socks]>=2.11.1 in c:\\programdata\\anaconda3\\envs\\webscraping-course-apr21\\lib\\site-packages (from tweepy) (2.25.1)\n",
      "Requirement already satisfied: six>=1.10.0 in c:\\programdata\\anaconda3\\envs\\webscraping-course-apr21\\lib\\site-packages (from tweepy) (1.15.0)\n",
      "Requirement already satisfied: requests-oauthlib>=0.7.0 in c:\\programdata\\anaconda3\\envs\\webscraping-course-apr21\\lib\\site-packages (from tweepy) (1.3.0)\n",
      "Requirement already satisfied: oauthlib>=3.0.0 in c:\\programdata\\anaconda3\\envs\\webscraping-course-apr21\\lib\\site-packages (from requests-oauthlib>=0.7.0->tweepy) (3.1.0)\n",
      "Requirement already satisfied: chardet<5,>=3.0.2 in c:\\programdata\\anaconda3\\envs\\webscraping-course-apr21\\lib\\site-packages (from requests[socks]>=2.11.1->tweepy) (4.0.0)\n",
      "Requirement already satisfied: urllib3<1.27,>=1.21.1 in c:\\programdata\\anaconda3\\envs\\webscraping-course-apr21\\lib\\site-packages (from requests[socks]>=2.11.1->tweepy) (1.26.4)\n",
      "Requirement already satisfied: idna<3,>=2.5 in c:\\programdata\\anaconda3\\envs\\webscraping-course-apr21\\lib\\site-packages (from requests[socks]>=2.11.1->tweepy) (2.10)\n",
      "Requirement already satisfied: certifi>=2017.4.17 in c:\\programdata\\anaconda3\\envs\\webscraping-course-apr21\\lib\\site-packages (from requests[socks]>=2.11.1->tweepy) (2020.12.5)\n",
      "Requirement already satisfied: PySocks!=1.5.7,>=1.5.6 in c:\\programdata\\anaconda3\\envs\\webscraping-course-apr21\\lib\\site-packages (from requests[socks]>=2.11.1->tweepy) (1.7.1)\n",
      "Installing collected packages: tweepy\n",
      "Successfully installed tweepy-3.10.0\n"
     ]
    }
   ],
   "source": [
    "!pip install tweepy --upgrade"
   ]
  },
  {
   "cell_type": "code",
   "execution_count": 71,
   "id": "8a001afc",
   "metadata": {},
   "outputs": [],
   "source": [
    "import tweepy\n",
    "import json\n",
    "import Twitter_API"
   ]
  },
  {
   "cell_type": "code",
   "execution_count": 72,
   "id": "c78ba852",
   "metadata": {},
   "outputs": [],
   "source": [
    "auth = tweepy.OAuthHandler(Twitter_API.consumer_key, Twitter_API.consumer_secret)\n",
    "auth.set_access_token(Twitter_API.access_token_key, Twitter_API.access_token_secret)\n",
    "api = tweepy.API(auth, wait_on_rate_limit=True)"
   ]
  },
  {
   "cell_type": "markdown",
   "id": "6e4ce95c",
   "metadata": {},
   "source": [
    "`Tweepy` is great for retrieving additional info on Tweets such as GeoLocation (only for those where users have enabled the feature, or not consciously disabled it)\n",
    "- We will run a small analysis of the spatial distribution of recent Tweets in Germany\n",
    "- The common finding (also known in the academic and non-academic literature) is that the data quality decreases substantially once we condition those observations on specific keywords\n",
    "> Please note that Twitter’s search service and, by extension, the Search API is not meant to be an exhaustive source of Tweets. Not all Tweets will be indexed or made available via the search interface. (From the [official Twitter API documentation](https://developer.twitter.com/en/docs/twitter-api/v1/tweets/search/api-reference/get-search-tweets))\n",
    "\n",
    "Your task now: familiarise yourself with the [`Twitter ` API](https://developer.twitter.com/en/docs/twitter-api/v1) and [`Tweepy` Python](https://docs.tweepy.org/en/v3.10.0/index.html) implementation."
   ]
  },
  {
   "cell_type": "code",
   "execution_count": 73,
   "id": "919a54f0",
   "metadata": {},
   "outputs": [
    {
     "data": {
      "text/html": [
       "\n",
       "        <iframe\n",
       "            width=\"980\"\n",
       "            height=\"400\"\n",
       "            src=\"https://docs.tweepy.org/en/v3.10.0/index.html\"\n",
       "            frameborder=\"0\"\n",
       "            allowfullscreen\n",
       "        ></iframe>\n",
       "        "
      ],
      "text/plain": [
       "<IPython.lib.display.IFrame at 0x17935370>"
      ]
     },
     "execution_count": 73,
     "metadata": {},
     "output_type": "execute_result"
    }
   ],
   "source": [
    "from IPython.display import IFrame\n",
    "\n",
    "url = 'https://docs.tweepy.org/en/v3.10.0/index.html'\n",
    "IFrame(url, width=980, height=400)"
   ]
  },
  {
   "cell_type": "markdown",
   "id": "67d0c8ae",
   "metadata": {},
   "source": [
    "1. Which `Tweepy` version have you installed?\n",
    "2. Which function would you use to send a search query?\n",
    "3. Which function in `Tweepy` facilitates pagination?\n",
    "4. Which fields contain [spatial](https://developer.twitter.com/en/docs/twitter-api/v1/data-dictionary/object-model/geo) information?\n",
    "5. Identify the internal country code of `Germany`, i.e. its `id`.\n",
    "6. How would you [construct a query](https://developer.twitter.com/en/docs/twitter-api/v1/tweets/search/api-reference/get-search-tweets) that specifies a search term, the language and the number of Tweets shown per page?\n",
    "\n",
    "Note there are [rate limits](https://developer.twitter.com/en/docs/twitter-api/rate-limits)! For example, include `time.sleep(15 * 60)` in case your rate limit was reached when running more comprehensive searches."
   ]
  },
  {
   "cell_type": "code",
   "execution_count": 74,
   "id": "05f6d4bf",
   "metadata": {},
   "outputs": [],
   "source": [
    "# Example query\n",
    "\n",
    "header = {\"q\": \"place:fdcd221ac44fa326\", \"lang\": \"de\", \"tweet_mode\": \"extended\", \"count\": 100}\n",
    "\n",
    "# Note: \"count\":100 is the maximum of returned Tweets per request/item in the standard Twitter API\n",
    "# You can paginate either per item (i.e. individual request) or pages of results \n",
    "# https://docs.tweepy.org/en/latest/cursor_tutorial.html\n",
    "# The Cursor() function ignores the 'count' parameter in the query, the limit is defined in the items() function instead\n",
    "\n",
    "batch_tweets = tweepy.Cursor(api.search, **header)\n",
    "\n",
    "noOfSearch = 200\n",
    "\n",
    "batch_items = batch_tweets.items(noOfSearch)"
   ]
  },
  {
   "cell_type": "code",
   "execution_count": 75,
   "id": "433b2f4e",
   "metadata": {},
   "outputs": [],
   "source": [
    "batch_list = [i._json for i in batch_items] # underscore means 'intended for internal use'"
   ]
  },
  {
   "cell_type": "markdown",
   "id": "98d0ce0d",
   "metadata": {},
   "source": [
    "Write a function which takes as input arguments a (not hardcoded) `place_id`, `language` and `tweet_mode` (which you set to \"extended\" by default such that you query the full, untruncated text content of the Tweets) and returns a **list of dictionaries**. The goal is to obtain a as-complete-as-possible collection of recent Tweets in Germany **without specifying a `key word`**. In order to maximize the number of Tweets you receive, stack the `.Cursor()` object inside of a for-loop. Save the resulting output to your local directory as a `.json` file."
   ]
  },
  {
   "cell_type": "code",
   "execution_count": 76,
   "id": "c06116ac",
   "metadata": {},
   "outputs": [],
   "source": [
    "\n",
    "\n",
    "max_id = None\n",
    "for j in range(50):\n",
    "    header = {\n",
    "        # \"q\": f'{searchTerms} place:{place_id}'.format(searchTerms, place_id) and (\"place:%s\" % place_id),\n",
    "        # \"q\": \"#maskenaffaere -filter:locations\",\n",
    "        # \"q\": \"#maskenaffaere filter:geo_enabled\",\n",
    "        # \"q\": \"#maskenaffaere\",\n",
    "        # \"geocode\": '51.590556,10.106111,310mi',\n",
    "        \"q\": \"place:fdcd221ac44fa326\",\n",
    "        \"lang\": \"de\",\n",
    "        \"tweet_mode\": \"extended\",\n",
    "        \"count\": 100,\n",
    "        \"max_id\": max_id\n",
    "        # \"search_term\": \"\"\n",
    "    }\n",
    "    try:\n",
    "        batch_tweets = tweepy.Cursor(api.search, **header).items(noOfSearch)\n",
    "        # the double asterisks ** inside of the function means that an abritrary number of arguments\n",
    "        # can be taken by the function in form as a dictionary (* would be a tuple)\n",
    "    except Exception as error:\n",
    "        break\n",
    "    batch_tweets = [i._json for i in batch_tweets]\n",
    "    batch_ids = [i[\"id\"] for i in batch_tweets]\n",
    "    with open(f'{j}_de_bunch.json', 'w', encoding='utf-8') as f:\n",
    "        json.dump(batch_tweets, f, ensure_ascii=False)\n",
    "    max_id = batch_ids[-1]\n"
   ]
  },
  {
   "cell_type": "code",
   "execution_count": 78,
   "id": "373b94b8",
   "metadata": {},
   "outputs": [],
   "source": [
    "import json\n",
    "bunches = []\n",
    "for bunch in range(50):\n",
    "    with open('./Twitter Bunches/' + str(bunch) + '_de_bunch.json', 'r', encoding='utf-8') as f:\n",
    "        D_read = json.load(f)\n",
    "        bunches.extend(D_read) # extend instead of append"
   ]
  },
  {
   "cell_type": "markdown",
   "id": "ef014cf7",
   "metadata": {},
   "source": [
    "Once you have the raw output, determine the total number of unique Tweets, i.e. `ids`.\n",
    "You can use a dictionary comprehension (similar to list comprehensions) to achieve that since duplicate keys are not allowed in a dictionary."
   ]
  },
  {
   "cell_type": "code",
   "execution_count": 79,
   "id": "ca6af832",
   "metadata": {},
   "outputs": [
    {
     "data": {
      "text/plain": [
       "9951"
      ]
     },
     "execution_count": 79,
     "metadata": {},
     "output_type": "execute_result"
    }
   ],
   "source": [
    "unique = { tweet['id'] : tweet for tweet in bunches }\n",
    "len(unique)"
   ]
  },
  {
   "cell_type": "markdown",
   "id": "dd455f1e",
   "metadata": {},
   "source": [
    "Identify all Tweets (elements) which value associated with the key `coordinates` is different from `None`. Assign the result to an object `matches`. How does the content of this object compare to the \"unfiltered\" data container `unique`?"
   ]
  },
  {
   "cell_type": "code",
   "execution_count": null,
   "id": "caebe775",
   "metadata": {},
   "outputs": [],
   "source": [
    "# Code for matching elements"
   ]
  },
  {
   "cell_type": "markdown",
   "id": "f9d85e52",
   "metadata": {},
   "source": [
    "You should get elements in this format:\n",
    "\n",
    "```\n",
    "{1382787792535703552: {'created_at': 'Thu Apr 15 20:07:55 +0000 2021',\n",
    "  'id': 1382787792535703552,\n",
    "  'id_str': '1382787792535703552',\n",
    "  'full_text': '@bennai_m @JoueursDZ @DZfoot Ya sehr gut geschossen Grosse Verantwortung',\n",
    "  'truncated': False,\n",
    "  'display_text_range': [29, 72],\n",
    "  'entities': {'hashtags': [],\n",
    "   'symbols': [],\n",
    "   'user_mentions': [{'screen_name': 'bennai_m',\n",
    "     'name': 'MBennai',\n",
    "     'id': 1157689821969756161,\n",
    "     'id_str': '1157689821969756161',\n",
    "     'indices': [0, 9]},\n",
    "    {'screen_name': 'JoueursDZ',\n",
    "     'name': 'JDZ Football',\n",
    "     'id': 1177267711157690371,\n",
    "     'id_str': '1177267711157690371',\n",
    "     'indices': [10, 20]},\n",
    "    {'screen_name': 'DZfoot',\n",
    "     'name': 'DZfoot',\n",
    "     'id': 296303972,\n",
    "     'id_str': '296303972',\n",
    "     'indices': [21, 28]}],\n",
    "   'urls': []},\n",
    "  'metadata': {'iso_language_code': 'de', 'result_type': 'recent'},\n",
    "  'source': '<a href=\"http://twitter.com/download/android\" rel=\"nofollow\">Twitter for Android</a>',\n",
    "  'in_reply_to_status_id': 1382781123978223624,\n",
    "  'in_reply_to_status_id_str': '1382781123978223624',\n",
    "  'in_reply_to_user_id': 1157689821969756161,\n",
    "  'in_reply_to_user_id_str': '1157689821969756161',\n",
    "  'in_reply_to_screen_name': 'bennai_m',\n",
    "  'user': {'id': 1370800515295100933,\n",
    "   'id_str': '1370800515295100933',\n",
    "   'name': 'Tassilli Hoggar',\n",
    "   'screen_name': 'TassilliHoggar',\n",
    "   'location': '',\n",
    "   'description': 'sports',\n",
    "   'url': None,\n",
    "   'entities': {'description': {'urls': []}},\n",
    "   'protected': False,\n",
    "   'followers_count': 17,\n",
    "   'friends_count': 113,\n",
    "   'listed_count': 0,\n",
    "   'created_at': 'Sat Mar 13 18:15:23 +0000 2021',\n",
    "   'favourites_count': 427,\n",
    "   'utc_offset': None,\n",
    "   'time_zone': None,\n",
    "   'geo_enabled': True,\n",
    "   'verified': False,\n",
    "   'statuses_count': 959,\n",
    "   'lang': None,\n",
    "   'contributors_enabled': False,\n",
    "   'is_translator': False,\n",
    "   'is_translation_enabled': False,\n",
    "   'profile_background_color': 'F5F8FA',\n",
    "   'profile_background_image_url': None,\n",
    "   'profile_background_image_url_https': None,\n",
    "   'profile_background_tile': False,\n",
    "   'profile_image_url': 'http://pbs.twimg.com/profile_images/1370801015902064643/BCSHPcOg_normal.jpg',\n",
    "   'profile_image_url_https': 'https://pbs.twimg.com/profile_images/1370801015902064643/BCSHPcOg_normal.jpg',\n",
    "   'profile_link_color': '1DA1F2',\n",
    "   'profile_sidebar_border_color': 'C0DEED',\n",
    "   'profile_sidebar_fill_color': 'DDEEF6',\n",
    "   'profile_text_color': '333333',\n",
    "   'profile_use_background_image': True,\n",
    "   'has_extended_profile': True,\n",
    "   'default_profile': True,\n",
    "   'default_profile_image': False,\n",
    "   'following': False,\n",
    "   'follow_request_sent': False,\n",
    "   'notifications': False,\n",
    "   'translator_type': 'none'},\n",
    "  'geo': None,\n",
    "  'coordinates': None,\n",
    "  'place': {'id': '5bcd72da50f0ee77',\n",
    "   'url': 'https://api.twitter.com/1.1/geo/id/5bcd72da50f0ee77.json',\n",
    "   'place_type': 'city',\n",
    "   'name': 'Hamburg',\n",
    "   'full_name': 'Hamburg, Germany',\n",
    "   'country_code': 'DE',\n",
    "   'country': 'Germany',\n",
    "   'contained_within': [],\n",
    "   'bounding_box': {'type': 'Polygon',\n",
    "    'coordinates': [[[8.4201604, 53.395118],\n",
    "      [10.325199, 53.395118],\n",
    "      [10.325199, 53.9646546],\n",
    "      [8.4201604, 53.9646546]]]},\n",
    "   'attributes': {}},\n",
    "  'contributors': None,\n",
    "  'is_quote_status': False,\n",
    "  'retweet_count': 0,\n",
    "  'favorite_count': 0,\n",
    "  'favorited': False,\n",
    "  'retweeted': False,\n",
    "  'lang': 'de'}}\n",
    "  ```"
   ]
  },
  {
   "cell_type": "code",
   "execution_count": null,
   "id": "63637025",
   "metadata": {},
   "outputs": [],
   "source": [
    "from shapely.geometry import Point, Polygon"
   ]
  },
  {
   "cell_type": "markdown",
   "id": "3a21fa87",
   "metadata": {},
   "source": [
    "Now we're using a spatial library to process those appropriate data fields. The coordinates are in rectangular form and we would like to collapse them to a single point (e.g. to increase the accuracy). \n",
    "- First you need to convert the raw rectangular coordinates into a shape (use `Polygon()`), obtain the centroid from the resulting object and separate it into `longitude` and `latitude`. \n",
    "- Then combine the two coordinates to a `Point()` coordinates object.\n",
    "- Extract the following key-values from the `matches` data container:\n",
    "    - key\n",
    "    - timestamp of creation\n",
    "    - full Tweet text\n",
    "    - the user's registered name\n",
    "    - the user's nickname/alias as shown on Twitter\n",
    "    - the place's ID\n",
    "    - the place's name\n",
    "    - the place's country code\n",
    "    - the place's country name\n",
    "    - the place's bounding box' coordinates\n",
    "    - the place's centroid's coordinates (as Shapely object)\n",
    "    - the Tweet's number of Retweets\n",
    "    - the Tweet's number of likes/favorites\n",
    "    - the user's location (e.g. checked in @ Universität Potsdam)\n",
    "    - the number of user's followers\n",
    "    - the number of user's friends\n",
    "    - the registration date of the user's account\n",
    "    - a complete URL that leads to the original Tweet (Hint: it's a combination of two other fields from above, use string formatting)\n",
    "\n",
    "The output should have the following format:\n",
    "\n",
    "```\n",
    "{'Tweet ID': 1382787792535703552,\n",
    " 'Created at': Timestamp('2021-04-15 20:07:55+0000', tz='UTC'),\n",
    " 'Full Text': '@bennai_m @JoueursDZ @DZfoot Ya sehr gut geschossen Grosse Verantwortung',\n",
    " 'User Name': 'Tassilli Hoggar',\n",
    " 'User Alias': 'TassilliHoggar',\n",
    " 'Place ID': '5bcd72da50f0ee77',\n",
    " 'Place Name': 'Hamburg',\n",
    " 'Country Code': 'DE',\n",
    " 'Country Name': 'Germany',\n",
    " 'Bounding Box': [[8.4201604, 53.395118],\n",
    "  [10.325199, 53.395118],\n",
    "  [10.325199, 53.9646546],\n",
    "  [8.4201604, 53.9646546]],\n",
    " 'Tweet Coordinates': <shapely.geometry.point.Point at 0x292c8039f10>,\n",
    " 'Retweet Count': 0,\n",
    " 'Favorite Count': 0,\n",
    " 'User Location': '',\n",
    " 'User Followers': 17,\n",
    " 'User Friends': 113,\n",
    " 'Registration Date': 'Sat Mar 13 18:15:23 +0000 2021',\n",
    " 'Tweet URL': 'https://twitter.com/TassilliHoggar/status/1382787792535703552'}\n",
    "```"
   ]
  },
  {
   "cell_type": "code",
   "execution_count": null,
   "id": "ba881865",
   "metadata": {},
   "outputs": [],
   "source": [
    "# Your code for parsing\n",
    "\n",
    "\n",
    "\n",
    "\n",
    "\n",
    "\n",
    "\n",
    "\n",
    "\n",
    "\n",
    "\n",
    "\n",
    "\n",
    "\n",
    "\n",
    "\n",
    "\n"
   ]
  },
  {
   "cell_type": "code",
   "execution_count": null,
   "id": "e5b8173e",
   "metadata": {},
   "outputs": [],
   "source": [
    "results_df = pd.DataFrame(results_list)\n",
    "gdf = gpd.GeoDataFrame(results_df, geometry=results_df['Tweet Coordinates'])\n",
    "gdf.crs = \"epsg=4326\""
   ]
  },
  {
   "cell_type": "code",
   "execution_count": null,
   "id": "f841014f",
   "metadata": {},
   "outputs": [],
   "source": [
    "mapbox_access_token = open(\"mapbox_token.txt\").read()"
   ]
  },
  {
   "cell_type": "code",
   "execution_count": null,
   "id": "e79a0c43",
   "metadata": {},
   "outputs": [],
   "source": [
    "# Code for creating the Plotly graph"
   ]
  },
  {
   "cell_type": "code",
   "execution_count": null,
   "id": "a6d60e5d",
   "metadata": {},
   "outputs": [],
   "source": []
  },
  {
   "cell_type": "code",
   "execution_count": null,
   "id": "c3a3a365",
   "metadata": {},
   "outputs": [],
   "source": []
  },
  {
   "cell_type": "code",
   "execution_count": null,
   "id": "c62e3692",
   "metadata": {},
   "outputs": [],
   "source": []
  },
  {
   "cell_type": "code",
   "execution_count": null,
   "id": "b3d68e77",
   "metadata": {},
   "outputs": [],
   "source": []
  },
  {
   "cell_type": "code",
   "execution_count": null,
   "id": "b68c103c",
   "metadata": {},
   "outputs": [],
   "source": []
  },
  {
   "cell_type": "code",
   "execution_count": null,
   "id": "3e69ff6c",
   "metadata": {},
   "outputs": [],
   "source": []
  },
  {
   "cell_type": "code",
   "execution_count": null,
   "id": "4d2b7235",
   "metadata": {},
   "outputs": [],
   "source": []
  },
  {
   "cell_type": "code",
   "execution_count": null,
   "id": "f7ea4fa8",
   "metadata": {},
   "outputs": [],
   "source": [
    "! pip install scikit-learn"
   ]
  },
  {
   "cell_type": "code",
   "execution_count": null,
   "id": "dec451b3",
   "metadata": {},
   "outputs": [],
   "source": [
    "from sklearn.cluster import KMeans, MiniBatchKMeans\n",
    "from sklearn.metrics import silhouette_samples, silhouette_score\n",
    "import matplotlib.cm as cm"
   ]
  },
  {
   "cell_type": "code",
   "execution_count": null,
   "id": "c45019d7",
   "metadata": {},
   "outputs": [],
   "source": []
  },
  {
   "cell_type": "code",
   "execution_count": null,
   "id": "f549e7fc",
   "metadata": {},
   "outputs": [],
   "source": []
  },
  {
   "cell_type": "code",
   "execution_count": null,
   "id": "b3eff48e",
   "metadata": {},
   "outputs": [],
   "source": []
  },
  {
   "cell_type": "code",
   "execution_count": null,
   "id": "6a2f1c4d",
   "metadata": {},
   "outputs": [],
   "source": []
  },
  {
   "cell_type": "code",
   "execution_count": null,
   "id": "6e8be2a2",
   "metadata": {},
   "outputs": [],
   "source": []
  },
  {
   "cell_type": "code",
   "execution_count": null,
   "id": "f3ed6128",
   "metadata": {},
   "outputs": [],
   "source": []
  },
  {
   "cell_type": "code",
   "execution_count": null,
   "id": "370a8766",
   "metadata": {},
   "outputs": [],
   "source": []
  },
  {
   "cell_type": "code",
   "execution_count": null,
   "id": "03189e6b",
   "metadata": {},
   "outputs": [],
   "source": []
  },
  {
   "cell_type": "code",
   "execution_count": null,
   "id": "39baf29b",
   "metadata": {},
   "outputs": [],
   "source": [
    "!pip install seaborn"
   ]
  },
  {
   "cell_type": "code",
   "execution_count": null,
   "id": "41145dc2",
   "metadata": {},
   "outputs": [],
   "source": [
    "import seaborn as sns\n",
    "palette = sns.color_palette(None, 11).as_hex()"
   ]
  },
  {
   "cell_type": "code",
   "execution_count": null,
   "id": "19b90edf",
   "metadata": {},
   "outputs": [],
   "source": []
  },
  {
   "cell_type": "code",
   "execution_count": null,
   "id": "d189a8b1",
   "metadata": {},
   "outputs": [],
   "source": [
    "# germany_borders = gpd.read_file(\"Bundeslaender_2016_ew.shp\")\n",
    "# You can find it here: https://opendata-esri-de.opendata.arcgis.com/datasets/b8d0cc7735774bed8e6df1c5410394a4_0?geometry=-31.360%2C46.270%2C52.268%2C55.886"
   ]
  },
  {
   "cell_type": "code",
   "execution_count": null,
   "id": "4e536a41",
   "metadata": {},
   "outputs": [],
   "source": [
    "germany_borders = gpd.read_file(\"https://opendata.arcgis.com/datasets/b8d0cc7735774bed8e6df1c5410394a4_0.geojson\")"
   ]
  },
  {
   "cell_type": "code",
   "execution_count": null,
   "id": "8f5f28cf",
   "metadata": {},
   "outputs": [],
   "source": [
    "\n"
   ]
  },
  {
   "cell_type": "code",
   "execution_count": null,
   "id": "3fb9725c",
   "metadata": {},
   "outputs": [],
   "source": [
    "# https://stackoverflow.com/questions/64200595/geopandas-overlay-intersection-returns-zero-rows THANK YOU!\n",
    "\n",
    "# Multiple solutions: https://gis.stackexchange.com/questions/208546/check-if-a-point-falls-within-a-multipolygon-with-python\n",
    "\n"
   ]
  },
  {
   "cell_type": "code",
   "execution_count": null,
   "id": "bbc0d446",
   "metadata": {},
   "outputs": [],
   "source": []
  },
  {
   "cell_type": "code",
   "execution_count": null,
   "id": "3f5099f7",
   "metadata": {},
   "outputs": [],
   "source": []
  },
  {
   "cell_type": "code",
   "execution_count": null,
   "id": "6e4e73ab",
   "metadata": {},
   "outputs": [],
   "source": []
  },
  {
   "cell_type": "code",
   "execution_count": null,
   "id": "dd908ddf",
   "metadata": {},
   "outputs": [],
   "source": []
  },
  {
   "cell_type": "code",
   "execution_count": null,
   "id": "d5cb4164",
   "metadata": {},
   "outputs": [],
   "source": []
  },
  {
   "cell_type": "code",
   "execution_count": null,
   "id": "e40244f0",
   "metadata": {},
   "outputs": [],
   "source": []
  },
  {
   "cell_type": "code",
   "execution_count": null,
   "id": "ba43ef73",
   "metadata": {},
   "outputs": [],
   "source": []
  },
  {
   "cell_type": "code",
   "execution_count": null,
   "id": "d62d2e64",
   "metadata": {},
   "outputs": [],
   "source": []
  },
  {
   "cell_type": "markdown",
   "id": "23179500",
   "metadata": {},
   "source": [
    "How can the clusters and memberships you assigned before be meaningfully interpreted? How many Tweets (as percentage of all per state) were classified into the cluster with `cluster id = 8`? From which state does those cluster members most likely originate from? Confirm your assertion by looking at the map you created above."
   ]
  },
  {
   "cell_type": "code",
   "execution_count": null,
   "id": "743de593",
   "metadata": {},
   "outputs": [],
   "source": []
  },
  {
   "cell_type": "code",
   "execution_count": null,
   "id": "ec7412fe",
   "metadata": {},
   "outputs": [],
   "source": []
  },
  {
   "cell_type": "code",
   "execution_count": null,
   "id": "83ff2f52",
   "metadata": {},
   "outputs": [],
   "source": []
  }
 ],
 "metadata": {
  "kernelspec": {
   "display_name": "webscraping course 04-2021",
   "language": "python",
   "name": "webscraping21-kernel"
  },
  "language_info": {
   "codemirror_mode": {
    "name": "ipython",
    "version": 3
   },
   "file_extension": ".py",
   "mimetype": "text/x-python",
   "name": "python",
   "nbconvert_exporter": "python",
   "pygments_lexer": "ipython3",
   "version": "3.8.5"
  }
 },
 "nbformat": 4,
 "nbformat_minor": 5
}
